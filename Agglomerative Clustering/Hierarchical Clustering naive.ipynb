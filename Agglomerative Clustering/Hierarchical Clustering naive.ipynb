{
 "cells": [
  {
   "cell_type": "code",
   "execution_count": 36,
   "metadata": {},
   "outputs": [
    {
     "data": {
      "image/png": "[encoded data removed]",
      "text/plain": [
       "<matplotlib.figure.Figure at 0x18e6a1de0b8>"
      ]
     },
     "metadata": {},
     "output_type": "display_data"
    }
   ],
   "source": [
    "from sklearn import datasets\n",
    "import matplotlib.pyplot as plt\n",
    "\n",
    "blobs = datasets.make_blobs(n_samples=1000, random_state=3)\n",
    "\n",
    "plt.scatter(blobs[0][:,0], blobs[0][:,1])\n",
    "plt.show()"
   ]
  },
  {
   "cell_type": "code",
   "execution_count": 35,
   "metadata": {},
   "outputs": [],
   "source": [
    "data ={0:[51.5217, 30.114, 0], 1:[27.9698, 27.0568, 1], 2:[10.6233, 52.4207, 2], 3:[122.1483, 6.9586, 3], 4:[146.4236, -41.3457, 4]}\n",
    "k = 2\n",
    "m = 0\n",
    "n = 5"
   ]
  },
  {
   "cell_type": "code",
   "execution_count": 37,
   "metadata": {},
   "outputs": [],
   "source": [
    "data = dict()\n",
    "for idx, items in enumerate(blobs[0]):\n",
    "    data.update({idx: list(items)+[idx]})\n",
    "n = len(blobs[0])\n",
    "k = 3\n",
    "m = 0"
   ]
  },
  {
   "cell_type": "code",
   "execution_count": 38,
   "metadata": {},
   "outputs": [
    {
     "name": "stdout",
     "output_type": "stream",
     "text": [
      " "
     ]
    }
   ],
   "source": [
    "%%prun\n",
    "def distance(x,y, m):\n",
    "    dist = [(x[idx]-y[idx])**2 for idx in range(len(x)-1)]\n",
    "    return sum(dist)**(1/2)\n",
    "\n",
    "def cluster_dist(item1, item2, m):\n",
    "    dist_list = [dist_mat[element1][element2] if element1 < element2 else dist_mat[element2][element1]\n",
    "                 for element1 in item1 for element2 in item2]\n",
    "    if dist_list:\n",
    "        if m==0:\n",
    "            temp = min(dist_list)\n",
    "        elif m==1:\n",
    "            temp = max(dist_list)\n",
    "        else:\n",
    "            temp = sum(dist_list)/len(dist_list)\n",
    "        return temp\n",
    "\n",
    "# calculate distance matrix\n",
    "keys= data.keys()\n",
    "keys = list(data.keys())\n",
    "dist_mat = [[float('inf') for key1 in keys] for key2 in keys]\n",
    "for i in keys:\n",
    "    for j in keys[i+1:]:\n",
    "        dist_mat[i][j] = distance(data.get(i), data.get(j), m)\n",
    "\n",
    "# make cluster dictionary\n",
    "cluster_dict = dict()\n",
    "[cluster_dict.update({key:[key]}) for key in data.keys()]\n",
    "\n",
    "# Repeat merging until getting k clusters\n",
    "while n>k:\n",
    "    # calculate distance between clusters\n",
    "    sorted_keys = sorted(list(cluster_dict.keys()))\n",
    "    dist_list = [ (key1, key2, cluster_dist(cluster_dict.get(key1),cluster_dict.get(key2),m))\n",
    "                 for idx1, key1 in enumerate(sorted_keys)\n",
    "                 for key2 in sorted_keys[idx1+1:]]\n",
    "    i, j, _ = min(dist_list, key= lambda t: t[2])\n",
    "\n",
    "    # get new cluster and remove previous ones\n",
    "    new_cluster = cluster_dict.get(i)+cluster_dict.get(j)\n",
    "    temp = cluster_dict.pop(i)\n",
    "    temp = cluster_dict.pop(j)\n",
    "    cluster_dict.update({i:new_cluster})\n",
    "\n",
    "    # update cluster list\n",
    "    new_cluster_dict = dict()\n",
    "    idx = 0\n",
    "    for key, item in cluster_dict.items():\n",
    "        new_cluster_dict.update({idx:item})\n",
    "        idx +=1\n",
    "    cluster_dict = new_cluster_dict\n",
    "    n = len(cluster_dict)\n",
    "\n",
    "# print out results after transforming to list\n",
    "result_list = [[key, element] for key, item in cluster_dict.items() for element in item]\n",
    "arg_sort_idx = sorted(range(len(result_list)), key=list(zip(*result_list))[1].__getitem__)\n",
    "clusters = list(zip(*result_list))[0]\n",
    "\n",
    "# for idx in arg_sort_idx:\n",
    "#     print(clusters[idx])"
   ]
  },
  {
   "cell_type": "code",
   "execution_count": 20,
   "metadata": {},
   "outputs": [
    {
     "data": {
      "text/html": [
       "<div>\n",
       "<style scoped>\n",
       "    .dataframe tbody tr th:only-of-type {\n",
       "        vertical-align: middle;\n",
       "    }\n",
       "\n",
       "    .dataframe tbody tr th {\n",
       "        vertical-align: top;\n",
       "    }\n",
       "\n",
       "    .dataframe thead th {\n",
       "        text-align: right;\n",
       "    }\n",
       "</style>\n",
       "<table border=\"1\" class=\"dataframe\">\n",
       "  <thead>\n",
       "    <tr style=\"text-align: right;\">\n",
       "      <th></th>\n",
       "      <th>0</th>\n",
       "      <th>1</th>\n",
       "      <th>2</th>\n",
       "      <th>3</th>\n",
       "      <th>4</th>\n",
       "    </tr>\n",
       "  </thead>\n",
       "  <tbody>\n",
       "    <tr>\n",
       "      <th>0</th>\n",
       "      <td>inf</td>\n",
       "      <td>23.749494</td>\n",
       "      <td>46.586135</td>\n",
       "      <td>74.325562</td>\n",
       "      <td>118.797556</td>\n",
       "    </tr>\n",
       "    <tr>\n",
       "      <th>1</th>\n",
       "      <td>23.749494</td>\n",
       "      <td>inf</td>\n",
       "      <td>30.728301</td>\n",
       "      <td>96.299156</td>\n",
       "      <td>136.785250</td>\n",
       "    </tr>\n",
       "    <tr>\n",
       "      <th>2</th>\n",
       "      <td>46.586135</td>\n",
       "      <td>30.728301</td>\n",
       "      <td>inf</td>\n",
       "      <td>120.435162</td>\n",
       "      <td>165.026844</td>\n",
       "    </tr>\n",
       "    <tr>\n",
       "      <th>3</th>\n",
       "      <td>74.325562</td>\n",
       "      <td>96.299156</td>\n",
       "      <td>120.435162</td>\n",
       "      <td>inf</td>\n",
       "      <td>54.061036</td>\n",
       "    </tr>\n",
       "    <tr>\n",
       "      <th>4</th>\n",
       "      <td>118.797556</td>\n",
       "      <td>136.785250</td>\n",
       "      <td>165.026844</td>\n",
       "      <td>54.061036</td>\n",
       "      <td>inf</td>\n",
       "    </tr>\n",
       "  </tbody>\n",
       "</table>\n",
       "</div>"
      ],
      "text/plain": [
       "            0           1           2           3           4\n",
       "0         inf   23.749494   46.586135   74.325562  118.797556\n",
       "1   23.749494         inf   30.728301   96.299156  136.785250\n",
       "2   46.586135   30.728301         inf  120.435162  165.026844\n",
       "3   74.325562   96.299156  120.435162         inf   54.061036\n",
       "4  118.797556  136.785250  165.026844   54.061036         inf"
      ]
     },
     "execution_count": 20,
     "metadata": {},
     "output_type": "execute_result"
    }
   ],
   "source": [
    "import pandas as pd\n",
    "pd.DataFrame(dist_mat)"
   ]
  }
 ],
 "metadata": {
  "kernelspec": {
   "display_name": "Python 3",
   "language": "python",
   "name": "python3"
  },
  "language_info": {
   "codemirror_mode": {
    "name": "ipython",
    "version": 3
   },
   "file_extension": ".py",
   "mimetype": "text/x-python",
   "name": "python",
   "nbconvert_exporter": "python",
   "pygments_lexer": "ipython3",
   "version": "3.6.4"
  }
 },
 "nbformat": 4,
 "nbformat_minor": 2
}
