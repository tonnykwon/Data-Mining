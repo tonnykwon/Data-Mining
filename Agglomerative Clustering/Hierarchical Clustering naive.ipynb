{
 "cells": [
  {
   "cell_type": "code",
   "execution_count": 91,
   "metadata": {},
   "outputs": [
    {
     "data": {
      "image/png": "[encoded data removed]",
      "text/plain": [
       "<matplotlib.figure.Figure at 0x1f76bab8e10>"
      ]
     },
     "metadata": {},
     "output_type": "display_data"
    }
   ],
   "source": [
    "from sklearn import datasets\n",
    "import matplotlib.pyplot as plt\n",
    "\n",
    "blobs = datasets.make_blobs(n_samples=500, random_state=3)\n",
    "\n",
    "plt.scatter(blobs[0][:,0], blobs[0][:,1])\n",
    "plt.show()"
   ]
  },
  {
   "cell_type": "code",
   "execution_count": 92,
   "metadata": {},
   "outputs": [],
   "source": [
    "data ={0:[51.5217, 30.114, 0], 1:[27.9698, 27.0568, 1], 2:[10.6233, 52.4207, 2], 3:[122.1483, 6.9586, 3], 4:[146.4236, -41.3457, 4]}\n",
    "k = 2\n",
    "m = 0\n",
    "n = 5"
   ]
  },
  {
   "cell_type": "code",
   "execution_count": 93,
   "metadata": {},
   "outputs": [],
   "source": [
    "data = dict()\n",
    "for idx, items in enumerate(blobs[0]):\n",
    "    data.update({idx: list(items)+[idx]})\n",
    "n = len(blobs[0])\n",
    "k = 3\n",
    "m = 0"
   ]
  },
  {
   "cell_type": "code",
   "execution_count": 109,
   "metadata": {},
   "outputs": [
    {
     "data": {
      "text/plain": [
       "[0, 0, 0, 1, 1, 1.6645144670367036]"
      ]
     },
     "execution_count": 109,
     "metadata": {},
     "output_type": "execute_result"
    }
   ],
   "source": [
    "min(dist_list)\n",
    "a = list(map(min, dist_list))\n",
    "a"
   ]
  },
  {
   "cell_type": "code",
   "execution_count": 94,
   "metadata": {},
   "outputs": [
    {
     "name": "stdout",
     "output_type": "stream",
     "text": [
      " "
     ]
    }
   ],
   "source": [
    "%%prun\n",
    "def distance(x,y, m):\n",
    "    dist = [(x[idx]-y[idx])**2 for idx in range(len(x)-1)]\n",
    "    return sum(dist)**(1/2)\n",
    "\n",
    "def cluster_dist(item1, item2, m):\n",
    "    dist_list = [dist_mat[element1][element2] if element1 < element2 else dist_mat[element2][element1]\n",
    "                 for element1 in item1 for element2 in item2]\n",
    "    if dist_list:\n",
    "        if m==0:\n",
    "            temp = min(dist_list)\n",
    "        elif m==1:\n",
    "            temp = max(dist_list)\n",
    "        else:\n",
    "            temp = sum(dist_list)/len(dist_list)\n",
    "        return temp\n",
    "\n",
    "# calculate distance matrix\n",
    "keys = list(data.keys())\n",
    "dist_mat = [[float('inf') for key1 in keys] for key2 in keys]\n",
    "for i in keys:\n",
    "    for j in keys[i+1:]:\n",
    "        dist_mat[i][j] = distance(data.get(i), data.get(j), m)\n",
    "\n",
    "# make cluster dictionary\n",
    "cluster_dict = dict()\n",
    "[cluster_dict.update({key:[key]}) for key in data.keys()]\n",
    "\n",
    "# Repeat merging until getting k clusters\n",
    "while n>k:\n",
    "    # calculate distance between clusters\n",
    "    sorted_keys = sorted(list(cluster_dict.keys()))\n",
    "    dist_list = [ (key1, key2, cluster_dist(cluster_dict.get(key1),cluster_dict.get(key2),m))\n",
    "                 for idx1, key1 in enumerate(sorted_keys)\n",
    "                 for key2 in sorted_keys[idx1+1:]]\n",
    "    i, j, _ = min(dist_list, key= lambda t: t[2])\n",
    "\n",
    "    # get new cluster and remove previous ones\n",
    "    new_cluster = cluster_dict.get(i)+cluster_dict.get(j)\n",
    "    temp = cluster_dict.pop(i)\n",
    "    temp = cluster_dict.pop(j)\n",
    "    cluster_dict.update({i:new_cluster})\n",
    "\n",
    "    # update cluster list\n",
    "    new_cluster_dict = dict()\n",
    "    idx = 0\n",
    "    for key, item in cluster_dict.items():\n",
    "        new_cluster_dict.update({idx:item})\n",
    "        idx +=1\n",
    "    cluster_dict = new_cluster_dict\n",
    "    n = len(cluster_dict)\n",
    "\n",
    "# print out results after transforming to list\n",
    "result_list = [[key, element] for key, item in cluster_dict.items() for element in item]\n",
    "arg_sort_idx = sorted(range(len(result_list)), key=list(zip(*result_list))[1].__getitem__)\n",
    "clusters = list(zip(*result_list))[0]\n",
    "\n",
    "# for idx in arg_sort_idx:\n",
    "#     print(clusters[idx])"
   ]
  },
  {
   "cell_type": "code",
   "execution_count": 48,
   "metadata": {},
   "outputs": [
    {
     "data": {
      "text/html": [
       "<div>\n",
       "<style scoped>\n",
       "    .dataframe tbody tr th:only-of-type {\n",
       "        vertical-align: middle;\n",
       "    }\n",
       "\n",
       "    .dataframe tbody tr th {\n",
       "        vertical-align: top;\n",
       "    }\n",
       "\n",
       "    .dataframe thead th {\n",
       "        text-align: right;\n",
       "    }\n",
       "</style>\n",
       "<table border=\"1\" class=\"dataframe\">\n",
       "  <thead>\n",
       "    <tr style=\"text-align: right;\">\n",
       "      <th></th>\n",
       "      <th>0</th>\n",
       "      <th>1</th>\n",
       "      <th>2</th>\n",
       "      <th>3</th>\n",
       "      <th>4</th>\n",
       "    </tr>\n",
       "  </thead>\n",
       "  <tbody>\n",
       "    <tr>\n",
       "      <th>0</th>\n",
       "      <td>inf</td>\n",
       "      <td>inf</td>\n",
       "      <td>inf</td>\n",
       "      <td>inf</td>\n",
       "      <td>inf</td>\n",
       "    </tr>\n",
       "    <tr>\n",
       "      <th>1</th>\n",
       "      <td>inf</td>\n",
       "      <td>inf</td>\n",
       "      <td>inf</td>\n",
       "      <td>inf</td>\n",
       "      <td>inf</td>\n",
       "    </tr>\n",
       "    <tr>\n",
       "      <th>2</th>\n",
       "      <td>inf</td>\n",
       "      <td>inf</td>\n",
       "      <td>inf</td>\n",
       "      <td>inf</td>\n",
       "      <td>inf</td>\n",
       "    </tr>\n",
       "    <tr>\n",
       "      <th>3</th>\n",
       "      <td>inf</td>\n",
       "      <td>inf</td>\n",
       "      <td>inf</td>\n",
       "      <td>inf</td>\n",
       "      <td>inf</td>\n",
       "    </tr>\n",
       "    <tr>\n",
       "      <th>4</th>\n",
       "      <td>inf</td>\n",
       "      <td>inf</td>\n",
       "      <td>inf</td>\n",
       "      <td>inf</td>\n",
       "      <td>inf</td>\n",
       "    </tr>\n",
       "  </tbody>\n",
       "</table>\n",
       "</div>"
      ],
      "text/plain": [
       "     0    1    2    3    4\n",
       "0  inf  inf  inf  inf  inf\n",
       "1  inf  inf  inf  inf  inf\n",
       "2  inf  inf  inf  inf  inf\n",
       "3  inf  inf  inf  inf  inf\n",
       "4  inf  inf  inf  inf  inf"
      ]
     },
     "execution_count": 48,
     "metadata": {},
     "output_type": "execute_result"
    }
   ],
   "source": [
    "import pandas as pd\n",
    "\n",
    "pd.DataFrame(dist_mat)"
   ]
  }
 ],
 "metadata": {
  "kernelspec": {
   "display_name": "Python 3",
   "language": "python",
   "name": "python3"
  },
  "language_info": {
   "codemirror_mode": {
    "name": "ipython",
    "version": 3
   },
   "file_extension": ".py",
   "mimetype": "text/x-python",
   "name": "python",
   "nbconvert_exporter": "python",
   "pygments_lexer": "ipython3",
   "version": "3.6.4"
  }
 },
 "nbformat": 4,
 "nbformat_minor": 2
}
