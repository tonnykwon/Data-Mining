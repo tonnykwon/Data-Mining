{
 "cells": [
  {
   "cell_type": "code",
   "execution_count": 1,
   "metadata": {},
   "outputs": [
    {
     "data": {
      "text/plain": [
       "<matplotlib.figure.Figure at 0x1bdf3093b00>"
      ]
     },
     "metadata": {},
     "output_type": "display_data"
    }
   ],
   "source": [
    "from sklearn import datasets\n",
    "import matplotlib.pyplot as plt\n",
    "\n",
    "blobs = datasets.make_blobs(n_samples=100, random_state=3)\n",
    "\n",
    "plt.scatter(blobs[0][:,0], blobs[0][:,1])\n",
    "plt.show()"
   ]
  },
  {
   "cell_type": "code",
   "execution_count": 310,
   "metadata": {},
   "outputs": [],
   "source": [
    "data ={0:[51.5217, 30.114, 0], 1:[27.9698, 27.0568, 1], 2:[10.6233, 52.4207, 2], 3:[122.1483, 6.9586, 3], 4:[146.4236, -41.3457, 4]}\n",
    "k = 2\n",
    "m = 0\n",
    "n = 5"
   ]
  },
  {
   "cell_type": "code",
   "execution_count": 314,
   "metadata": {},
   "outputs": [],
   "source": [
    "data = dict()\n",
    "for idx, items in enumerate(blobs[0]):\n",
    "    data.update({idx: list(items)+[idx]})\n",
    "n = len(blobs[0])\n",
    "k = 3\n",
    "m = 0"
   ]
  },
  {
   "cell_type": "markdown",
   "metadata": {},
   "source": [
    "## Prim"
   ]
  },
  {
   "cell_type": "code",
   "execution_count": 315,
   "metadata": {},
   "outputs": [
    {
     "name": "stdout",
     "output_type": "stream",
     "text": [
      " "
     ]
    }
   ],
   "source": [
    "%%prun\n",
    "def distance(x,y, m):\n",
    "    dist = [(x[idx]-y[idx])**2 for idx in range(len(x)-1)]\n",
    "    return sum(dist)**(1/2)\n",
    "\n",
    "# Prim\n",
    "# calculate distance matrix\n",
    "keys= data.keys()\n",
    "keys = list(data.keys())\n",
    "dist_mat = [[float('inf') for key1 in keys] for key2 in keys]\n",
    "for i in keys:\n",
    "    for j in keys[i+1:]:\n",
    "        dist_mat[i][j] = distance(data.get(i), data.get(j), m)\n",
    "\n",
    "# prim to minimum span tree\n",
    "min_tree = []\n",
    "u = [keys[0]]\n",
    "v = keys[1:]\n",
    "while len(u) != len(keys):\n",
    "    dist_list = [(key1,key2, dist_mat[key1][key2]) for key1 in u for key2 in v]\n",
    "    i,j, dist = min(dist_list, key= lambda x: x[2])\n",
    "    min_tree.append([i,j, dist])\n",
    "    u = list(set(sum(list(zip(*min_tree))[:2],())))\n",
    "    v.remove(j)\n",
    "    \n",
    "# add shortest remaining edge in the tree\n",
    "min_tree = sorted(min_tree, key= lambda data: data[2])\n"
   ]
  },
  {
   "cell_type": "code",
   "execution_count": 325,
   "metadata": {},
   "outputs": [],
   "source": [
    "cluster_list = []\n",
    "for i, edge in enumerate(min_tree[:10]):\n",
    "    cluster_list.append(set(edge[:2]))\n",
    "\n",
    "n = len(cluster_list)\n",
    "\n",
    "for i, cluster1 in enumerate(cluster_list):\n",
    "    for j, cluster2 in enumerate(cluster_list[:i]):\n",
    "        if cluster1.intersection(cluster2):\n",
    "            merged_cluster = cluster1.union(cluster2)\n",
    "            cluster_list.append(merged_cluster)\n",
    "            cluster_list.pop(i)\n",
    "            cluster_list.pop(j-1)"
   ]
  }
 ],
 "metadata": {
  "kernelspec": {
   "display_name": "Python 3",
   "language": "python",
   "name": "python3"
  },
  "language_info": {
   "codemirror_mode": {
    "name": "ipython",
    "version": 3
   },
   "file_extension": ".py",
   "mimetype": "text/x-python",
   "name": "python",
   "nbconvert_exporter": "python",
   "pygments_lexer": "ipython3",
   "version": "3.6.4"
  }
 },
 "nbformat": 4,
 "nbformat_minor": 2
}
