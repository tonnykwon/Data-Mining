{
 "cells": [
  {
   "cell_type": "code",
   "execution_count": 15,
   "metadata": {},
   "outputs": [
    {
     "data": {
      "image/png": "[encoded data removed]",
      "text/plain": [
       "<matplotlib.figure.Figure at 0x1f40438a240>"
      ]
     },
     "metadata": {},
     "output_type": "display_data"
    }
   ],
   "source": [
    "%matplotlib inline\n",
    "from sklearn import datasets\n",
    "import numpy as np\n",
    "import pandas as pd\n",
    "import matplotlib.pyplot as plt\n",
    "\n",
    "blobs = datasets.make_blobs(n_samples=100, random_state=3)\n",
    "\n",
    "plt.scatter(blobs[0][:,0], blobs[0][:,1])\n",
    "plt.show()"
   ]
  },
  {
   "cell_type": "code",
   "execution_count": 59,
   "metadata": {},
   "outputs": [],
   "source": [
    "data ={0:[51.5217, 30.114, 0], 1:[27.9698, 27.0568, 1], 2:[10.6233, 52.4207, 2], 3:[122.1483, 6.9586, 3], 4:[146.4236, -41.3457, 4]}\n",
    "k = 2\n",
    "m = 0\n",
    "n = 5"
   ]
  },
  {
   "cell_type": "code",
   "execution_count": 58,
   "metadata": {},
   "outputs": [],
   "source": [
    "data = dict()\n",
    "for idx, items in enumerate(blobs[0]):\n",
    "    data.update({idx: list(items)+[idx]})\n",
    "n = len(blobs[0])\n",
    "k = 2\n",
    "m = 0"
   ]
  },
  {
   "cell_type": "markdown",
   "metadata": {},
   "source": [
    "## Prim"
   ]
  },
  {
   "cell_type": "code",
   "execution_count": 16,
   "metadata": {},
   "outputs": [
    {
     "data": {
      "text/html": [
       "<div>\n",
       "<style scoped>\n",
       "    .dataframe tbody tr th:only-of-type {\n",
       "        vertical-align: middle;\n",
       "    }\n",
       "\n",
       "    .dataframe tbody tr th {\n",
       "        vertical-align: top;\n",
       "    }\n",
       "\n",
       "    .dataframe thead th {\n",
       "        text-align: right;\n",
       "    }\n",
       "</style>\n",
       "<table border=\"1\" class=\"dataframe\">\n",
       "  <thead>\n",
       "    <tr style=\"text-align: right;\">\n",
       "      <th></th>\n",
       "      <th>0</th>\n",
       "      <th>1</th>\n",
       "      <th>2</th>\n",
       "      <th>3</th>\n",
       "      <th>4</th>\n",
       "    </tr>\n",
       "  </thead>\n",
       "  <tbody>\n",
       "    <tr>\n",
       "      <th>0</th>\n",
       "      <td>inf</td>\n",
       "      <td>23.749494</td>\n",
       "      <td>46.586135</td>\n",
       "      <td>74.325562</td>\n",
       "      <td>118.797556</td>\n",
       "    </tr>\n",
       "    <tr>\n",
       "      <th>1</th>\n",
       "      <td>inf</td>\n",
       "      <td>inf</td>\n",
       "      <td>30.728301</td>\n",
       "      <td>96.299156</td>\n",
       "      <td>136.785250</td>\n",
       "    </tr>\n",
       "    <tr>\n",
       "      <th>2</th>\n",
       "      <td>inf</td>\n",
       "      <td>inf</td>\n",
       "      <td>inf</td>\n",
       "      <td>120.435162</td>\n",
       "      <td>165.026844</td>\n",
       "    </tr>\n",
       "    <tr>\n",
       "      <th>3</th>\n",
       "      <td>inf</td>\n",
       "      <td>inf</td>\n",
       "      <td>inf</td>\n",
       "      <td>inf</td>\n",
       "      <td>54.061036</td>\n",
       "    </tr>\n",
       "    <tr>\n",
       "      <th>4</th>\n",
       "      <td>inf</td>\n",
       "      <td>inf</td>\n",
       "      <td>inf</td>\n",
       "      <td>inf</td>\n",
       "      <td>inf</td>\n",
       "    </tr>\n",
       "  </tbody>\n",
       "</table>\n",
       "</div>"
      ],
      "text/plain": [
       "     0          1          2           3           4\n",
       "0  inf  23.749494  46.586135   74.325562  118.797556\n",
       "1  inf        inf  30.728301   96.299156  136.785250\n",
       "2  inf        inf        inf  120.435162  165.026844\n",
       "3  inf        inf        inf         inf   54.061036\n",
       "4  inf        inf        inf         inf         inf"
      ]
     },
     "execution_count": 16,
     "metadata": {},
     "output_type": "execute_result"
    }
   ],
   "source": [
    "pd.DataFrame(dist_mat)"
   ]
  },
  {
   "cell_type": "code",
   "execution_count": 9,
   "metadata": {},
   "outputs": [],
   "source": [
    "#%%prun\n",
    "def distance(x,y, m):\n",
    "    dist = [(x[idx]-y[idx])**2 for idx in range(len(x)-1)]\n",
    "    return sum(dist)**(1/2)\n",
    "\n",
    "# Prim\n",
    "# calculate distance matrix\n",
    "keys= data.keys()\n",
    "keys = list(data.keys())\n",
    "dist_mat = [[float('inf') for key1 in keys] for key2 in keys]\n",
    "for i in keys:\n",
    "    for j in keys[i+1:]:\n",
    "        dist_mat[i][j] = distance(data.get(i), data.get(j), m)\n",
    "\n",
    "# prim to minimum span tree\n",
    "min_tree = []\n",
    "u = [keys[0]]\n",
    "v = keys[1:]\n",
    "while len(u) != len(keys):\n",
    "    dist_list = [(key1,key2, dist_mat[key1][key2]) for key1 in u for key2 in v]\n",
    "    i,j, dist = min(dist_list, key= lambda x: x[2])\n",
    "    min_tree.append([i,j, dist])\n",
    "    u = list(set(sum(list(zip(*min_tree))[:2],())))\n",
    "    v.remove(j)\n",
    "    \n",
    "# add shortest remaining edge in the tree\n",
    "min_tree = sorted(min_tree, key= lambda data: data[2])\n"
   ]
  },
  {
   "cell_type": "code",
   "execution_count": 67,
   "metadata": {},
   "outputs": [
    {
     "name": "stdout",
     "output_type": "stream",
     "text": [
      "5\n",
      "[{0, 1}]\n",
      "3\n",
      "[{0, 1, 2}]\n"
     ]
    }
   ],
   "source": [
    "n = len(data)\n",
    "result_list = []\n",
    "# min link index\n",
    "i = 0\n",
    "while n > k:\n",
    "    print(n)\n",
    "    # if min link is linking result clusters\n",
    "    link=[]\n",
    "    \n",
    "    # add minimum link to result\n",
    "    for idx, result in enumerate(result_list):\n",
    "        if cluster_list[0].intersection(result):\n",
    "            link.append(idx)\n",
    "    \n",
    "    # cases whether link is in result or not\n",
    "    if len(link) == 0:\n",
    "        result_list.append(cluster_list[i])\n",
    "    elif len(link) ==1:\n",
    "        new_cluster = result_list[link[0]].union(cluster_list[i])\n",
    "        result_list.append(new_cluster)\n",
    "        result_list.pop(link[0])\n",
    "    else:\n",
    "        new_cluster = result_list[link[0]].union(cluster_list[i]).union(result_list[link[1]])\n",
    "        result_list.append(new_cluster)\n",
    "        result_list.pop(link[0])\n",
    "        result_list.pop(link[1]-1)\n",
    "    print(result_list)\n",
    "    n = len(result_list)+len(cluster_list[i+1:])-1\n",
    "    i += 1"
   ]
  },
  {
   "cell_type": "code",
   "execution_count": 11,
   "metadata": {},
   "outputs": [
    {
     "name": "stdout",
     "output_type": "stream",
     "text": [
      "i:0\n",
      "j: 1\n",
      "[{0, 1}, {1, 2}, {3, 4}, {0, 3}]\n",
      "{0, 1, 2}\n",
      "[{0, 1, 2}, {0, 1}, {1, 2}, {3, 4}, {0, 3}]\n",
      "remove:1\n",
      "remove:1\n",
      "[{0, 1, 2}, {3, 4}, {0, 3}]\n",
      "i: 0\n",
      "idx_j: 1\n",
      "i: 0\n",
      "idx_j: 2\n",
      "[{0, 1, 2}, {3, 4}, {0, 3}]\n",
      "{0, 1, 2, 3}\n",
      "[{0, 1, 2, 3}, {0, 1, 2}, {3, 4}, {0, 3}]\n",
      "remove:1\n",
      "remove:2\n"
     ]
    }
   ],
   "source": [
    "# result_list: each cluster before merge\n",
    "result_list = [key for key in data.keys()]\n",
    "cluster_list = []\n",
    "for i, edge in enumerate(min_tree):\n",
    "    cluster_list.append(set(edge[:2]))\n",
    "\n",
    "n = len(cluster_list)\n",
    "\n",
    "def cluster_merge(cluster1, cluster2, cluster_list, i, j):\n",
    "    merged_cluster = cluster1.union(cluster2)\n",
    "    print(merged_cluster)\n",
    "    cluster_list.insert(0, merged_cluster)\n",
    "    print(cluster_list)\n",
    "    print('remove:'+str(i+1) )\n",
    "    print('remove:'+str(j) )\n",
    "    cluster_list.pop(i+1)\n",
    "    cluster_list.pop(j)\n",
    "    return cluster_list\n",
    "\n",
    "i = 0\n",
    "j = i+1\n",
    "while n > k:\n",
    "    cluster1 = cluster_list[i]\n",
    "    cluster2 = cluster_list[j]\n",
    "    if cluster1.intersection(cluster2):\n",
    "        print('i:'+str(i))\n",
    "        print('j: '+str(j))\n",
    "        print(cluster_list)\n",
    "        cluster_list = cluster_merge(cluster1, cluster2, cluster_list, i, j )\n",
    "        n = len(cluster_list)\n",
    "        print(cluster_list)\n",
    "    else:\n",
    "        j +=1\n",
    "        for idx_j in range(i+1, j+1):\n",
    "            print('i: '+str(i))\n",
    "            print('idx_j: '+str(idx_j))\n",
    "            cluster2 = cluster_list[idx_j]\n",
    "            if cluster1.intersection(cluster2):\n",
    "                print(cluster_list)\n",
    "                cluster_list = cluster_merge(cluster1, cluster2, cluster_list, i , idx_j)\n",
    "                i = 0\n",
    "                j = i+1\n",
    "                n = len(cluster_list)\n",
    "                break"
   ]
  }
 ],
 "metadata": {
  "kernelspec": {
   "display_name": "Python 3",
   "language": "python",
   "name": "python3"
  },
  "language_info": {
   "codemirror_mode": {
    "name": "ipython",
    "version": 3
   },
   "file_extension": ".py",
   "mimetype": "text/x-python",
   "name": "python",
   "nbconvert_exporter": "python",
   "pygments_lexer": "ipython3",
   "version": "3.6.4"
  }
 },
 "nbformat": 4,
 "nbformat_minor": 2
}
