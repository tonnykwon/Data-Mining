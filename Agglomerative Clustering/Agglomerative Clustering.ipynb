{
 "cells": [
  {
   "cell_type": "code",
   "execution_count": 30,
   "metadata": {},
   "outputs": [
    {
     "data": {
      "text/plain": [
       "[51.5217, 30.114]"
      ]
     },
     "execution_count": 30,
     "metadata": {},
     "output_type": "execute_result"
    }
   ],
   "source": [
    "import fileinput\n",
    "\n",
    "data = []\n",
    "for line in fileinput.input():\n",
    "    if fileinput.isfirstline():\n",
    "        n, k, m = line.split(' ')\n",
    "    else:\n",
    "        lon, lat = line.split(' ')\n",
    "        data.append([float(lon), float(lat)])\n",
    "    print(data)"
   ]
  },
  {
   "cell_type": "code",
   "execution_count": 280,
   "metadata": {},
   "outputs": [],
   "source": [
    "data = [[51.5217, 30.114], [27.9698, 27.0568], [10.6233, 52.4207], [122.1483, 6.9586], [146.4236, -41.3457]]"
   ]
  },
  {
   "cell_type": "code",
   "execution_count": 285,
   "metadata": {},
   "outputs": [
    {
     "name": "stdout",
     "output_type": "stream",
     "text": [
      "0, 1\n",
      "118.7975561520522\n",
      "0, 2\n",
      "74.32556206797229\n",
      "0, 3\n",
      "30.728301050660118\n",
      "1, 2\n",
      "54.06103577050664\n",
      "1, 3\n",
      "165.02684402560087\n",
      "2, 3\n",
      "120.43516164895533\n"
     ]
    },
    {
     "data": {
      "text/plain": [
       "[[[[27.9698, 27.0568], [51.5217, 30.114]], [10.6233, 52.4207]],\n",
       " [146.4236, -41.3457],\n",
       " [122.1483, 6.9586]]"
      ]
     },
     "execution_count": 285,
     "metadata": {},
     "output_type": "execute_result"
    }
   ],
   "source": [
    "k=2\n",
    "n=len(data)\n",
    "# distance matrix\n",
    "dist_mat = [[float('inf') for i in range(n)] for j in range(n)]\n",
    "for i in range(n):\n",
    "    for j in range(i+1, n):\n",
    "        print(str(i)+', '+str(j))\n",
    "        dist_mat[i][j] = dist(data[i], data[j])\n",
    "dist_list = [(i,j, dist_element) for i, dist_list in enumerate(dist_mat) for j,dist_element in enumerate(dist_list)]\n",
    "i, j, _ = min(dist_list, key=lambda t: t[2])\n",
    "\n",
    "new_data = [data[i]]+[data[j]]\n",
    "data.pop(i)\n",
    "data.pop(j-1)\n",
    "data.reverse()\n",
    "data.append(new_data)\n",
    "data.reverse()\n",
    "data"
   ]
  },
  {
   "cell_type": "code",
   "execution_count": 165,
   "metadata": {},
   "outputs": [],
   "source": [
    "def dist(x, y):\n",
    "    \n",
    "    results =[]\n",
    "    # if x and y are multiple cluster\n",
    "    if isinstance(x[0], list):\n",
    "        if isinstance(y[0], list):    \n",
    "            dist = []\n",
    "            for x_points in x:\n",
    "                for y_points in y:\n",
    "                    result = distance(x_points, y_points)\n",
    "                    results.append(result)\n",
    "        # if x is multiple clusters\n",
    "        else:\n",
    "            for x_points in x:\n",
    "                results.append(distance(x_points, y))\n",
    "    # if y is multiple\n",
    "    else:\n",
    "        if isinstance(y[0], list):\n",
    "            dist = []\n",
    "            for y_points in y:\n",
    "                results.append(distance(x,y_points))\n",
    "        # neither is multiple\n",
    "        else:\n",
    "            results.append(distance(x,y))\n",
    "    print(min(results))\n",
    "    return min(results)"
   ]
  },
  {
   "cell_type": "code",
   "execution_count": 163,
   "metadata": {},
   "outputs": [],
   "source": [
    "def distance(x,y):\n",
    "    dist = []\n",
    "    for idx in range(len(x)):\n",
    "        dist.append((x[idx]-y[idx])**2)\n",
    "    return sum(dist)**(1/2)"
   ]
  },
  {
   "cell_type": "code",
   "execution_count": 282,
   "metadata": {},
   "outputs": [],
   "source": [
    "data = [[51.5217, 30.114], [27.9698, 27.0568], [10.6233, 52.4207], [122.1483, 6.9586], [146.4236, -41.3457]]"
   ]
  },
  {
   "cell_type": "code",
   "execution_count": 283,
   "metadata": {},
   "outputs": [
    {
     "ename": "AttributeError",
     "evalue": "'NoneType' object has no attribute 'append'",
     "output_type": "error",
     "traceback": [
      "\u001b[1;31m---------------------------------------------------------------------------\u001b[0m",
      "\u001b[1;31mAttributeError\u001b[0m                            Traceback (most recent call last)",
      "\u001b[1;32m<ipython-input-283-5792ba9acb56>\u001b[0m in \u001b[0;36m<module>\u001b[1;34m()\u001b[0m\n\u001b[1;32m----> 1\u001b[1;33m \u001b[0mdata\u001b[0m\u001b[1;33m.\u001b[0m\u001b[0mreverse\u001b[0m\u001b[1;33m(\u001b[0m\u001b[1;33m)\u001b[0m\u001b[1;33m.\u001b[0m\u001b[0mappend\u001b[0m\u001b[1;33m(\u001b[0m\u001b[1;33m[\u001b[0m\u001b[1;36m1\u001b[0m\u001b[1;33m,\u001b[0m\u001b[1;36m2\u001b[0m\u001b[1;33m]\u001b[0m\u001b[1;33m)\u001b[0m\u001b[1;33m\u001b[0m\u001b[0m\n\u001b[0m",
      "\u001b[1;31mAttributeError\u001b[0m: 'NoneType' object has no attribute 'append'"
     ]
    }
   ],
   "source": [
    "data.reverse().append([1,2])"
   ]
  },
  {
   "cell_type": "code",
   "execution_count": 275,
   "metadata": {},
   "outputs": [
    {
     "data": {
      "text/plain": [
       "[[[[[51.5217, 30.114], [27.9698, 27.0568]], [51.5217, 30.114]],\n",
       "  [[51.5217, 30.114], [27.9698, 27.0568]]],\n",
       " [[[51.5217, 30.114], [27.9698, 27.0568]], [51.5217, 30.114]],\n",
       " [[51.5217, 30.114], [27.9698, 27.0568]],\n",
       " [51.5217, 30.114],\n",
       " [27.9698, 27.0568],\n",
       " [10.6233, 52.4207],\n",
       " [122.1483, 6.9586],\n",
       " [146.4236, -41.3457]]"
      ]
     },
     "execution_count": 275,
     "metadata": {},
     "output_type": "execute_result"
    }
   ],
   "source": [
    "data.reverse()\n",
    "data"
   ]
  },
  {
   "cell_type": "code",
   "execution_count": 126,
   "metadata": {},
   "outputs": [],
   "source": [
    "i, j, _ = min(dist_list, key=lambda t: t[2])"
   ]
  },
  {
   "cell_type": "code",
   "execution_count": 158,
   "metadata": {},
   "outputs": [
    {
     "data": {
      "text/plain": [
       "False"
      ]
     },
     "execution_count": 158,
     "metadata": {},
     "output_type": "execute_result"
    }
   ],
   "source": [
    "isinstance(data[1][0], list)\n",
    "#data[0]"
   ]
  }
 ],
 "metadata": {
  "kernelspec": {
   "display_name": "Python 3",
   "language": "python",
   "name": "python3"
  },
  "language_info": {
   "codemirror_mode": {
    "name": "ipython",
    "version": 3
   },
   "file_extension": ".py",
   "mimetype": "text/x-python",
   "name": "python",
   "nbconvert_exporter": "python",
   "pygments_lexer": "ipython3",
   "version": "3.6.4"
  }
 },
 "nbformat": 4,
 "nbformat_minor": 2
}
