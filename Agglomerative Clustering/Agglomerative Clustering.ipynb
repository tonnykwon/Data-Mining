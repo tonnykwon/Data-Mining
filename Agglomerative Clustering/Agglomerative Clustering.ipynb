{
 "cells": [
  {
   "cell_type": "code",
   "execution_count": 43,
   "metadata": {},
   "outputs": [],
   "source": [
    "data = [[51.5217, 30.114], [27.9698, 27.0568], [10.6233, 52.4207], [122.1483, 6.9586], [146.4236, -41.3457]]"
   ]
  },
  {
   "cell_type": "code",
   "execution_count": 80,
   "metadata": {},
   "outputs": [],
   "source": [
    "data = [[51.5217, 30.114, 0], [27.9698, 27.0568, 1], [10.6233, 52.4207, 2], [122.1483, 6.9586, 3], [146.4236, -41.3457, 4]]\n",
    "k = 2\n",
    "m = 0"
   ]
  },
  {
   "cell_type": "code",
   "execution_count": 115,
   "metadata": {},
   "outputs": [],
   "source": [
    "data ={0:[51.5217, 30.114, 0], 1:[27.9698, 27.0568, 1], 2:[10.6233, 52.4207, 2], 3:[122.1483, 6.9586, 3], 4:[146.4236, -41.3457, 4]}\n",
    "k = 2\n",
    "m = 0\n",
    "n=5"
   ]
  },
  {
   "cell_type": "code",
   "execution_count": 116,
   "metadata": {},
   "outputs": [
    {
     "name": "stdout",
     "output_type": "stream",
     "text": [
      "0\n",
      "1\n",
      "0\n",
      "2\n",
      "0\n",
      "3\n",
      "0\n",
      "4\n",
      "1\n",
      "2\n",
      "1\n",
      "3\n",
      "1\n",
      "4\n",
      "2\n",
      "3\n",
      "2\n",
      "4\n",
      "3\n",
      "4\n",
      "[[51.5217, 30.114, 0], [27.9698, 27.0568, 1]]\n",
      "0\n",
      "1\n"
     ]
    },
    {
     "ename": "TypeError",
     "evalue": "'NoneType' object is not subscriptable",
     "output_type": "error",
     "traceback": [
      "\u001b[1;31m---------------------------------------------------------------------------\u001b[0m",
      "\u001b[1;31mTypeError\u001b[0m                                 Traceback (most recent call last)",
      "\u001b[1;32m<ipython-input-116-08e57d09787b>\u001b[0m in \u001b[0;36m<module>\u001b[1;34m()\u001b[0m\n\u001b[0;32m     53\u001b[0m                 \u001b[0mprint\u001b[0m\u001b[1;33m(\u001b[0m\u001b[0mi\u001b[0m\u001b[1;33m)\u001b[0m\u001b[1;33m\u001b[0m\u001b[0m\n\u001b[0;32m     54\u001b[0m                 \u001b[0mprint\u001b[0m\u001b[1;33m(\u001b[0m\u001b[0mj\u001b[0m\u001b[1;33m)\u001b[0m\u001b[1;33m\u001b[0m\u001b[0m\n\u001b[1;32m---> 55\u001b[1;33m                 \u001b[0mdist_mat\u001b[0m\u001b[1;33m[\u001b[0m\u001b[0mi\u001b[0m\u001b[1;33m]\u001b[0m\u001b[1;33m[\u001b[0m\u001b[0mj\u001b[0m\u001b[1;33m]\u001b[0m \u001b[1;33m=\u001b[0m \u001b[0mdist\u001b[0m\u001b[1;33m(\u001b[0m\u001b[0mdata\u001b[0m\u001b[1;33m.\u001b[0m\u001b[0mget\u001b[0m\u001b[1;33m(\u001b[0m\u001b[0mi\u001b[0m\u001b[1;33m)\u001b[0m\u001b[1;33m,\u001b[0m \u001b[0mdata\u001b[0m\u001b[1;33m.\u001b[0m\u001b[0mget\u001b[0m\u001b[1;33m(\u001b[0m\u001b[0mj\u001b[0m\u001b[1;33m)\u001b[0m\u001b[1;33m,\u001b[0m \u001b[0mm\u001b[0m\u001b[1;33m)\u001b[0m\u001b[1;33m\u001b[0m\u001b[0m\n\u001b[0m\u001b[0;32m     56\u001b[0m         \u001b[0mdist_list\u001b[0m \u001b[1;33m=\u001b[0m \u001b[1;33m[\u001b[0m\u001b[1;33m(\u001b[0m\u001b[0mi\u001b[0m\u001b[1;33m,\u001b[0m\u001b[0mj\u001b[0m\u001b[1;33m,\u001b[0m \u001b[0mdist_element\u001b[0m\u001b[1;33m)\u001b[0m \u001b[1;32mfor\u001b[0m \u001b[0mi\u001b[0m\u001b[1;33m,\u001b[0m \u001b[0mdist_list\u001b[0m \u001b[1;32min\u001b[0m \u001b[0menumerate\u001b[0m\u001b[1;33m(\u001b[0m\u001b[0mdist_mat\u001b[0m\u001b[1;33m)\u001b[0m \u001b[1;32mfor\u001b[0m \u001b[0mj\u001b[0m\u001b[1;33m,\u001b[0m \u001b[0mdist_element\u001b[0m \u001b[1;32min\u001b[0m \u001b[0menumerate\u001b[0m\u001b[1;33m(\u001b[0m\u001b[0mdist_list\u001b[0m\u001b[1;33m)\u001b[0m\u001b[1;33m]\u001b[0m\u001b[1;33m\u001b[0m\u001b[0m\n\u001b[0;32m     57\u001b[0m         \u001b[0mi\u001b[0m\u001b[1;33m,\u001b[0m \u001b[0mj\u001b[0m\u001b[1;33m,\u001b[0m \u001b[0m_\u001b[0m \u001b[1;33m=\u001b[0m \u001b[0mmin\u001b[0m\u001b[1;33m(\u001b[0m\u001b[0mdist_list\u001b[0m\u001b[1;33m,\u001b[0m \u001b[0mkey\u001b[0m\u001b[1;33m=\u001b[0m\u001b[1;32mlambda\u001b[0m \u001b[0mt\u001b[0m\u001b[1;33m:\u001b[0m \u001b[0mt\u001b[0m\u001b[1;33m[\u001b[0m\u001b[1;36m2\u001b[0m\u001b[1;33m]\u001b[0m\u001b[1;33m)\u001b[0m\u001b[1;33m\u001b[0m\u001b[0m\n",
      "\u001b[1;32m<ipython-input-116-08e57d09787b>\u001b[0m in \u001b[0;36mdist\u001b[1;34m(x, y, m)\u001b[0m\n\u001b[0;32m      4\u001b[0m     \u001b[1;31m# if x and y are multiple cluster\u001b[0m\u001b[1;33m\u001b[0m\u001b[1;33m\u001b[0m\u001b[0m\n\u001b[0;32m      5\u001b[0m     \u001b[0misXlist\u001b[0m \u001b[1;33m=\u001b[0m \u001b[0misinstance\u001b[0m\u001b[1;33m(\u001b[0m\u001b[0mx\u001b[0m\u001b[1;33m[\u001b[0m\u001b[1;36m0\u001b[0m\u001b[1;33m]\u001b[0m\u001b[1;33m,\u001b[0m \u001b[0mlist\u001b[0m\u001b[1;33m)\u001b[0m\u001b[1;33m\u001b[0m\u001b[0m\n\u001b[1;32m----> 6\u001b[1;33m     \u001b[0misYlist\u001b[0m \u001b[1;33m=\u001b[0m \u001b[0misinstance\u001b[0m\u001b[1;33m(\u001b[0m\u001b[0my\u001b[0m\u001b[1;33m[\u001b[0m\u001b[1;36m0\u001b[0m\u001b[1;33m]\u001b[0m\u001b[1;33m,\u001b[0m \u001b[0mlist\u001b[0m\u001b[1;33m)\u001b[0m\u001b[1;33m\u001b[0m\u001b[0m\n\u001b[0m\u001b[0;32m      7\u001b[0m     \u001b[1;32mif\u001b[0m \u001b[0misXlist\u001b[0m\u001b[1;33m:\u001b[0m\u001b[1;33m\u001b[0m\u001b[0m\n\u001b[0;32m      8\u001b[0m         \u001b[1;32mif\u001b[0m \u001b[0misYlist\u001b[0m\u001b[1;33m:\u001b[0m\u001b[1;33m\u001b[0m\u001b[0m\n",
      "\u001b[1;31mTypeError\u001b[0m: 'NoneType' object is not subscriptable"
     ]
    }
   ],
   "source": [
    "def dist(x, y, m):\n",
    "    \n",
    "    results =[]\n",
    "    # if x and y are multiple cluster\n",
    "    isXlist = isinstance(x[0], list)\n",
    "    isYlist = isinstance(y[0], list)\n",
    "    if isXlist:\n",
    "        if isYlist:    \n",
    "            dist = []\n",
    "            [results.append(distance(x_points, y_points)) for x_points in x for y_points in y]\n",
    "        # if x is multiple clusters\n",
    "        else:\n",
    "            [results.append(distance(x_points, y)) for x_points in x]\n",
    "                \n",
    "    # if y is multiple\n",
    "    else:\n",
    "        if isYlist:\n",
    "            dist = []\n",
    "            [results.append(distance(x,y_points)) for y_points in y]\n",
    "                \n",
    "        # neither is multiple\n",
    "        else:\n",
    "            results.append(distance(x,y))\n",
    "    if m==0:\n",
    "        temp = min(results)\n",
    "    elif m==1:\n",
    "        temp = max(results)\n",
    "    else:\n",
    "        temp = sum(results)/len(results)\n",
    "    return temp\n",
    "\n",
    "def distance(x,y):\n",
    "    dist = []\n",
    "    [dist.append((x[idx]-y[idx])**2) for idx in range(len(x)-1)]\n",
    "    return sum(dist)**(1/2)\n",
    "        \n",
    "# when k is larger than n\n",
    "if n < k:\n",
    "    for cluster in arange(n):\n",
    "        print(idx)\n",
    "# when k is 1\n",
    "elif k ==1:\n",
    "    for cluster in arange(n):\n",
    "        print(0)\n",
    "        \n",
    "else:\n",
    "    # Repeat splitting until getting k clusters\n",
    "    while n>k:\n",
    "        # distance matrix\n",
    "        dist_mat = [[float('inf') for i in range(n)] for j in range(n)]\n",
    "        for i in range(n):\n",
    "            for j in range(i+1, n):\n",
    "                print(i)\n",
    "                print(j)\n",
    "                dist_mat[i][j] = dist(data.get(i), data.get(j), m)\n",
    "        dist_list = [(i,j, dist_element) for i, dist_list in enumerate(dist_mat) for j, dist_element in enumerate(dist_list)]\n",
    "        i, j, _ = min(dist_list, key=lambda t: t[2])\n",
    "\n",
    "        # when i is list of list\n",
    "        isIList = isinstance(data.get(i)[0], list)\n",
    "        isJList = isinstance(data.get(j)[0], list)\n",
    "        if isIList:\n",
    "            # j is list of list\n",
    "            if isJList:\n",
    "                new_data = data.get(i)+data.get(j)\n",
    "            else:\n",
    "                new_data = data.get(i)+[data.get(j)]\n",
    "        else:\n",
    "            if isJList:\n",
    "                new_data = [data.get(i)]+data.get(j)\n",
    "            else:\n",
    "                new_data = [data.get(i)]+[data.get(j)]\n",
    "        print(new_data)\n",
    "        data.update({i:new_data})\n",
    "        data.pop(j)\n",
    "        n = len(data)\n",
    "    print(data)\n",
    "\n",
    "    # put cluster results\n",
    "    results = dict()\n",
    "    for cluster, data_list in enumerate(data):\n",
    "        # when cluster is list of list\n",
    "        if isinstance(data_list[0], list):\n",
    "            [results.update({data_element[-1]:cluster}) for data_element in data_list]\n",
    "        else:\n",
    "            results.update({data_list[-1]:cluster})\n",
    "\n",
    "    for i in range(len(results.items())):\n",
    "        print(results.get(i))"
   ]
  },
  {
   "cell_type": "code",
   "execution_count": 132,
   "metadata": {},
   "outputs": [
    {
     "data": {
      "text/plain": [
       "dict_values([[[51.5217, 30.114, 0], [27.9698, 27.0568, 1]], [10.6233, 52.4207, 2], [122.1483, 6.9586, 3], [146.4236, -41.3457, 4]])"
      ]
     },
     "execution_count": 132,
     "metadata": {},
     "output_type": "execute_result"
    }
   ],
   "source": [
    "data.values()"
   ]
  }
 ],
 "metadata": {
  "kernelspec": {
   "display_name": "Python 3",
   "language": "python",
   "name": "python3"
  },
  "language_info": {
   "codemirror_mode": {
    "name": "ipython",
    "version": 3
   },
   "file_extension": ".py",
   "mimetype": "text/x-python",
   "name": "python",
   "nbconvert_exporter": "python",
   "pygments_lexer": "ipython3",
   "version": "3.6.4"
  }
 },
 "nbformat": 4,
 "nbformat_minor": 2
}
