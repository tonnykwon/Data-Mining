{
 "cells": [
  {
   "cell_type": "code",
   "execution_count": 43,
   "metadata": {},
   "outputs": [],
   "source": [
    "data = [[51.5217, 30.114], [27.9698, 27.0568], [10.6233, 52.4207], [122.1483, 6.9586], [146.4236, -41.3457]]"
   ]
  },
  {
   "cell_type": "code",
   "execution_count": 142,
   "metadata": {},
   "outputs": [],
   "source": [
    "data = [[51.5217, 30.114, 0], [27.9698, 27.0568, 1], [10.6233, 52.4207, 2], [122.1483, 6.9586, 3], [146.4236, -41.3457, 4]]\n",
    "k = 2\n",
    "m = 0"
   ]
  },
  {
   "cell_type": "code",
   "execution_count": 143,
   "metadata": {},
   "outputs": [
    {
     "ename": "FileNotFoundError",
     "evalue": "[Errno 2] No such file or directory: '-f'",
     "output_type": "error",
     "traceback": [
      "\u001b[1;31m---------------------------------------------------------------------------\u001b[0m",
      "\u001b[1;31mFileNotFoundError\u001b[0m                         Traceback (most recent call last)",
      "\u001b[1;32m<ipython-input-143-a02d72e3e730>\u001b[0m in \u001b[0;36m<module>\u001b[1;34m()\u001b[0m\n\u001b[0;32m      4\u001b[0m \u001b[0mdata\u001b[0m \u001b[1;33m=\u001b[0m \u001b[0mdict\u001b[0m\u001b[1;33m(\u001b[0m\u001b[1;33m)\u001b[0m\u001b[1;33m\u001b[0m\u001b[0m\n\u001b[0;32m      5\u001b[0m \u001b[0midx\u001b[0m \u001b[1;33m=\u001b[0m \u001b[1;36m0\u001b[0m\u001b[1;33m\u001b[0m\u001b[0m\n\u001b[1;32m----> 6\u001b[1;33m \u001b[1;32mfor\u001b[0m \u001b[0mline\u001b[0m \u001b[1;32min\u001b[0m \u001b[0mfileinput\u001b[0m\u001b[1;33m.\u001b[0m\u001b[0minput\u001b[0m\u001b[1;33m(\u001b[0m\u001b[1;33m)\u001b[0m\u001b[1;33m:\u001b[0m\u001b[1;33m\u001b[0m\u001b[0m\n\u001b[0m\u001b[0;32m      7\u001b[0m     \u001b[1;32mif\u001b[0m \u001b[0mfileinput\u001b[0m\u001b[1;33m.\u001b[0m\u001b[0misfirstline\u001b[0m\u001b[1;33m(\u001b[0m\u001b[1;33m)\u001b[0m\u001b[1;33m:\u001b[0m\u001b[1;33m\u001b[0m\u001b[0m\n\u001b[0;32m      8\u001b[0m         \u001b[0mn\u001b[0m\u001b[1;33m,\u001b[0m \u001b[0mk\u001b[0m\u001b[1;33m,\u001b[0m \u001b[0mm\u001b[0m \u001b[1;33m=\u001b[0m \u001b[0mline\u001b[0m\u001b[1;33m.\u001b[0m\u001b[0msplit\u001b[0m\u001b[1;33m(\u001b[0m\u001b[1;34m' '\u001b[0m\u001b[1;33m)\u001b[0m\u001b[1;33m\u001b[0m\u001b[0m\n",
      "\u001b[1;32mc:\\users\\tony\\appdata\\local\\programs\\python\\python36\\lib\\fileinput.py\u001b[0m in \u001b[0;36m__next__\u001b[1;34m(self)\u001b[0m\n\u001b[0;32m    248\u001b[0m     \u001b[1;32mdef\u001b[0m \u001b[0m__next__\u001b[0m\u001b[1;33m(\u001b[0m\u001b[0mself\u001b[0m\u001b[1;33m)\u001b[0m\u001b[1;33m:\u001b[0m\u001b[1;33m\u001b[0m\u001b[0m\n\u001b[0;32m    249\u001b[0m         \u001b[1;32mwhile\u001b[0m \u001b[1;32mTrue\u001b[0m\u001b[1;33m:\u001b[0m\u001b[1;33m\u001b[0m\u001b[0m\n\u001b[1;32m--> 250\u001b[1;33m             \u001b[0mline\u001b[0m \u001b[1;33m=\u001b[0m \u001b[0mself\u001b[0m\u001b[1;33m.\u001b[0m\u001b[0m_readline\u001b[0m\u001b[1;33m(\u001b[0m\u001b[1;33m)\u001b[0m\u001b[1;33m\u001b[0m\u001b[0m\n\u001b[0m\u001b[0;32m    251\u001b[0m             \u001b[1;32mif\u001b[0m \u001b[0mline\u001b[0m\u001b[1;33m:\u001b[0m\u001b[1;33m\u001b[0m\u001b[0m\n\u001b[0;32m    252\u001b[0m                 \u001b[0mself\u001b[0m\u001b[1;33m.\u001b[0m\u001b[0m_filelineno\u001b[0m \u001b[1;33m+=\u001b[0m \u001b[1;36m1\u001b[0m\u001b[1;33m\u001b[0m\u001b[0m\n",
      "\u001b[1;32mc:\\users\\tony\\appdata\\local\\programs\\python\\python36\\lib\\fileinput.py\u001b[0m in \u001b[0;36m_readline\u001b[1;34m(self)\u001b[0m\n\u001b[0;32m    360\u001b[0m                     \u001b[0mself\u001b[0m\u001b[1;33m.\u001b[0m\u001b[0m_file\u001b[0m \u001b[1;33m=\u001b[0m \u001b[0mself\u001b[0m\u001b[1;33m.\u001b[0m\u001b[0m_openhook\u001b[0m\u001b[1;33m(\u001b[0m\u001b[0mself\u001b[0m\u001b[1;33m.\u001b[0m\u001b[0m_filename\u001b[0m\u001b[1;33m,\u001b[0m \u001b[0mself\u001b[0m\u001b[1;33m.\u001b[0m\u001b[0m_mode\u001b[0m\u001b[1;33m)\u001b[0m\u001b[1;33m\u001b[0m\u001b[0m\n\u001b[0;32m    361\u001b[0m                 \u001b[1;32melse\u001b[0m\u001b[1;33m:\u001b[0m\u001b[1;33m\u001b[0m\u001b[0m\n\u001b[1;32m--> 362\u001b[1;33m                     \u001b[0mself\u001b[0m\u001b[1;33m.\u001b[0m\u001b[0m_file\u001b[0m \u001b[1;33m=\u001b[0m \u001b[0mopen\u001b[0m\u001b[1;33m(\u001b[0m\u001b[0mself\u001b[0m\u001b[1;33m.\u001b[0m\u001b[0m_filename\u001b[0m\u001b[1;33m,\u001b[0m \u001b[0mself\u001b[0m\u001b[1;33m.\u001b[0m\u001b[0m_mode\u001b[0m\u001b[1;33m)\u001b[0m\u001b[1;33m\u001b[0m\u001b[0m\n\u001b[0m\u001b[0;32m    363\u001b[0m         \u001b[0mself\u001b[0m\u001b[1;33m.\u001b[0m\u001b[0m_readline\u001b[0m \u001b[1;33m=\u001b[0m \u001b[0mself\u001b[0m\u001b[1;33m.\u001b[0m\u001b[0m_file\u001b[0m\u001b[1;33m.\u001b[0m\u001b[0mreadline\u001b[0m  \u001b[1;31m# hide FileInput._readline\u001b[0m\u001b[1;33m\u001b[0m\u001b[0m\n\u001b[0;32m    364\u001b[0m         \u001b[1;32mreturn\u001b[0m \u001b[0mself\u001b[0m\u001b[1;33m.\u001b[0m\u001b[0m_readline\u001b[0m\u001b[1;33m(\u001b[0m\u001b[1;33m)\u001b[0m\u001b[1;33m\u001b[0m\u001b[0m\n",
      "\u001b[1;31mFileNotFoundError\u001b[0m: [Errno 2] No such file or directory: '-f'"
     ]
    }
   ],
   "source": [
    "## Read Data\n",
    "import fileinput\n",
    "\n",
    "data = dict()\n",
    "idx = 0\n",
    "for line in fileinput.input():\n",
    "    if fileinput.isfirstline():\n",
    "        n, k, m = line.split(' ')\n",
    "        k = int(k)\n",
    "        n = int(n)\n",
    "        m = int(m)\n",
    "    else:\n",
    "        lon, lat = line.split(' ')\n",
    "        data.update({idx:[float(lon), float(lat), idx]})\n",
    "        idx +=1"
   ]
  },
  {
   "cell_type": "code",
   "execution_count": 144,
   "metadata": {},
   "outputs": [],
   "source": [
    "def distance(x,y, m):\n",
    "    dist = []\n",
    "    [dist.append((x[idx]-y[idx])**2) for idx in range(len(x)-1)]\n",
    "    return sum(dist)**(1/2)\n",
    "        "
   ]
  },
  {
   "cell_type": "code",
   "execution_count": 145,
   "metadata": {},
   "outputs": [],
   "source": [
    "def cluster_dist(item1, item2, m):\n",
    "    dist_list = [dist_mat[element1][element2] for element1 in item1 for element2 in item2 if element1 != element2]\n",
    "    if dist_list:\n",
    "        if m==0:\n",
    "            temp = min(dist_list)\n",
    "        elif m==1:\n",
    "            temp = max(dist_list)\n",
    "        else:\n",
    "            temp = sum(dist_list)/len(dist_list)\n",
    "        return temp"
   ]
  },
  {
   "cell_type": "code",
   "execution_count": 181,
   "metadata": {},
   "outputs": [],
   "source": [
    "# when k is larger than n\n",
    "if n < k:\n",
    "    for cluster in arange(n):\n",
    "        print(idx)\n",
    "\n",
    "# when k is 1\n",
    "elif k ==1:\n",
    "    for cluster in arange(n):\n",
    "        print(0)\n",
    "\n",
    "else:\n",
    "    # calculate distance matrix\n",
    "    dist_mat = [[float('inf') for i in range(n)] for j in range(n)]\n",
    "    for i in data.keys():\n",
    "        for j in data.keys():\n",
    "            if i!=j:\n",
    "                dist_mat[i][j] = distance(data.get(i), data.get(j), m)\n",
    "\n",
    "    # make cluster dictionary\n",
    "    cluster_dict = dict()\n",
    "    for key in data.keys():\n",
    "        cluster_dict.update({key:[key]})\n",
    "    # Repeat merging until getting k clusters\n",
    "    while n>k:\n",
    "        # calculate distance between clusters\n",
    "        dist_list= [(key1, key2, cluster_dist(item1, item2, m)) for key1, item1 in cluster_dict.items() for key2, item2 in cluster_dict.items() if key1!=key2]\n",
    "        i, j, _ = min(dist_list, key= lambda t: t[2] if t[2] else float('inf'))\n",
    "\n",
    "        # get new cluster and remove previous ones\n",
    "        new_cluster = cluster_dict.get(i)+cluster_dict.get(j)\n",
    "        cluster_dict.pop(i)\n",
    "        cluster_dict.pop(j)\n",
    "        cluster_dict.update({i:new_cluster})\n",
    "\n",
    "        # update cluster list\n",
    "        new_cluster_dict = dict()\n",
    "        idx = 0\n",
    "        for key, item in cluster_dict.items():\n",
    "            new_cluster_dict.update({idx:item})\n",
    "            idx +=1\n",
    "        cluster_dict = new_cluster_dict\n",
    "\n",
    "        n = len(cluster_dict)\n",
    "        \n",
    "        # print out results after transforming to list\n",
    "        result_list = []\n",
    "        [result_list.append([key, element]) for key, item in cluster_dict.items() for element in item]\n",
    "        arg_sort_idx = sorted(range(len(result_list)), key=result_list.__getitem__)\n",
    "        clusters = list(zip(*result_list))[0]\n",
    "\n",
    "        for idx in arg_sort_idx:\n",
    "            print(clusters[idx])"
   ]
  },
  {
   "cell_type": "code",
   "execution_count": 209,
   "metadata": {},
   "outputs": [
    {
     "name": "stdout",
     "output_type": "stream",
     "text": [
      "0\n",
      "0\n",
      "0\n",
      "1\n",
      "1\n"
     ]
    }
   ],
   "source": [
    "# print out results after transforming to list\n",
    "result_list = []\n",
    "[result_list.append([key, element]) for key, item in cluster_dict.items() for element in item]\n",
    "arg_sort_idx = sorted(range(len(result_list)), key=result_list.__getitem__)\n",
    "clusters = list(zip(*result_list))[0]\n",
    "\n",
    "for idx in arg_sort_idx:\n",
    "    print(clusters[idx])"
   ]
  },
  {
   "cell_type": "code",
   "execution_count": 221,
   "metadata": {},
   "outputs": [],
   "source": [
    "data ={0:[51.5217, 30.114, 0], 1:[27.9698, 27.0568, 1], 2:[10.6233, 52.4207, 2], 3:[122.1483, 6.9586, 3], 4:[146.4236, -41.3457, 4]}\n",
    "k = 2\n",
    "m = 0\n",
    "n = 5"
   ]
  },
  {
   "cell_type": "code",
   "execution_count": 222,
   "metadata": {},
   "outputs": [
    {
     "name": "stdout",
     "output_type": "stream",
     "text": [
      "0\n",
      "1\n",
      "2\n",
      "3\n",
      "3\n",
      "0\n",
      "1\n",
      "2\n",
      "2\n",
      "2\n",
      "0\n",
      "0\n",
      "0\n",
      "1\n",
      "1\n"
     ]
    }
   ],
   "source": [
    "def distance(x,y, m):\n",
    "    dist = [(x[idx]-y[idx])**2 for idx in range(len(x)-1)]\n",
    "    return sum(dist)**(1/2)\n",
    "\n",
    "def cluster_dist(item1, item2, m):\n",
    "    dist_list = [dist_mat[element1][element2] for element1 in item1 for element2 in item2 if element1 != element2]\n",
    "    if dist_list:\n",
    "        if m==0:\n",
    "            temp = min(dist_list)\n",
    "        elif m==1:\n",
    "            temp = max(dist_list)\n",
    "        else:\n",
    "            temp = sum(dist_list)/len(dist_list)\n",
    "        return temp\n",
    "        \n",
    "# when k is larger than n\n",
    "if n < k:\n",
    "    for cluster in arange(n):\n",
    "        print(idx)\n",
    "\n",
    "# when k is 1\n",
    "elif k ==1:\n",
    "    for cluster in arange(n):\n",
    "        print(0)\n",
    "\n",
    "else:\n",
    "    # calculate distance matrix\n",
    "    dist_mat = [[float('inf') for i in range(n)] for j in range(n)]\n",
    "    for i in data.keys():\n",
    "        for j in data.keys():\n",
    "            if i!=j:\n",
    "                dist_mat[i][j] = distance(data.get(i), data.get(j), m)\n",
    "\n",
    "    # make cluster dictionary\n",
    "    cluster_dict = dict()\n",
    "    for key in data.keys():\n",
    "        cluster_dict.update({key:[key]})\n",
    "    \n",
    "    # Repeat merging until getting k clusters\n",
    "    while n>k:\n",
    "        # calculate distance between clusters\n",
    "        dist_list= [(key1, key2, cluster_dist(item1, item2, m)) for key1, item1 in cluster_dict.items() for key2, item2 in cluster_dict.items() if key1!=key2]\n",
    "        i, j, _ = min(dist_list, key= lambda t: t[2] if t[2] else float('inf'))\n",
    "\n",
    "        # get new cluster and remove previous ones\n",
    "        new_cluster = cluster_dict.get(i)+cluster_dict.get(j)\n",
    "        temp = cluster_dict.pop(i)\n",
    "        temp = cluster_dict.pop(j)\n",
    "        cluster_dict.update({i:new_cluster})\n",
    "\n",
    "        # update cluster list\n",
    "        new_cluster_dict = dict()\n",
    "        idx = 0\n",
    "        for key, item in cluster_dict.items():\n",
    "            new_cluster_dict.update({idx:item})\n",
    "            idx +=1\n",
    "        cluster_dict = new_cluster_dict\n",
    "\n",
    "        n = len(cluster_dict)\n",
    "        \n",
    "        # print out results after transforming to list\n",
    "        result_list = [[key, element] for key, item in cluster_dict.items() for element in item]\n",
    "        arg_sort_idx = sorted(range(len(result_list)), key=result_list.__getitem__)\n",
    "        clusters = list(zip(*result_list))[0]\n",
    "\n",
    "    for idx in arg_sort_idx:\n",
    "        print(clusters[idx])"
   ]
  },
  {
   "cell_type": "code",
   "execution_count": 225,
   "metadata": {},
   "outputs": [
    {
     "data": {
      "text/plain": [
       "{0: [2, 0, 1], 1: [3, 4]}"
      ]
     },
     "execution_count": 225,
     "metadata": {},
     "output_type": "execute_result"
    }
   ],
   "source": [
    "cluster_dict"
   ]
  }
 ],
 "metadata": {
  "kernelspec": {
   "display_name": "Python 3",
   "language": "python",
   "name": "python3"
  },
  "language_info": {
   "codemirror_mode": {
    "name": "ipython",
    "version": 3
   },
   "file_extension": ".py",
   "mimetype": "text/x-python",
   "name": "python",
   "nbconvert_exporter": "python",
   "pygments_lexer": "ipython3",
   "version": "3.6.4"
  }
 },
 "nbformat": 4,
 "nbformat_minor": 2
}
