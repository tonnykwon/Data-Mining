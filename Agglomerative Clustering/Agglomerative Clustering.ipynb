{
 "cells": [
  {
   "cell_type": "code",
   "execution_count": 30,
   "metadata": {},
   "outputs": [
    {
     "data": {
      "text/plain": [
       "[51.5217, 30.114]"
      ]
     },
     "execution_count": 30,
     "metadata": {},
     "output_type": "execute_result"
    }
   ],
   "source": [
    "## Read Data\n",
    "import fileinput\n",
    "\n",
    "data = []\n",
    "idx = 0\n",
    "for line in fileinput.input():\n",
    "    if fileinput.isfirstline():\n",
    "        n, k, m = line.split(' ')\n",
    "    else:\n",
    "        lon, lat = line.split(' ')\n",
    "        data.append([float(lon), float(lat), idx])\n",
    "        idx +=1"
   ]
  },
  {
   "cell_type": "code",
   "execution_count": 8,
   "metadata": {},
   "outputs": [],
   "source": [
    "def dist(x, y, m):\n",
    "    \n",
    "    results =[]\n",
    "    # if x and y are multiple cluster\n",
    "    if isinstance(x[0], list):\n",
    "        if isinstance(y[0], list):    \n",
    "            dist = []\n",
    "            for x_points in x:\n",
    "                for y_points in y:\n",
    "                    result = distance(x_points, y_points)\n",
    "                    results.append(result)\n",
    "        # if x is multiple clusters\n",
    "        else:\n",
    "            for x_points in x:\n",
    "                results.append(distance(x_points, y))\n",
    "    # if y is multiple\n",
    "    else:\n",
    "        if isinstance(y[0], list):\n",
    "            dist = []\n",
    "            for y_points in y:\n",
    "                results.append(distance(x,y_points))\n",
    "        # neither is multiple\n",
    "        else:\n",
    "            results.append(distance(x,y))\n",
    "    if m==0:\n",
    "        temp = min(results)\n",
    "    elif m==1:\n",
    "        temp = max(results)\n",
    "    else:\n",
    "        temp = sum(results)/len(results)\n",
    "    return temp"
   ]
  },
  {
   "cell_type": "code",
   "execution_count": 9,
   "metadata": {},
   "outputs": [],
   "source": [
    "def distance(x,y):\n",
    "    dist = []\n",
    "    for idx in range(len(x)-1):\n",
    "        dist.append((x[idx]-y[idx])**2)\n",
    "    return sum(dist)**(1/2)"
   ]
  },
  {
   "cell_type": "code",
   "execution_count": 282,
   "metadata": {},
   "outputs": [],
   "source": [
    "data = [[51.5217, 30.114], [27.9698, 27.0568], [10.6233, 52.4207], [122.1483, 6.9586], [146.4236, -41.3457]]"
   ]
  },
  {
   "cell_type": "code",
   "execution_count": 19,
   "metadata": {},
   "outputs": [],
   "source": [
    "data = [[51.5217, 30.114, 0], [27.9698, 27.0568, 1], [10.6233, 52.4207, 2], [122.1483, 6.9586, 3], [146.4236, -41.3457, 4]]"
   ]
  },
  {
   "cell_type": "code",
   "execution_count": 20,
   "metadata": {},
   "outputs": [
    {
     "name": "stdout",
     "output_type": "stream",
     "text": [
      "0, 1\n",
      "23.749494004083544\n",
      "0, 2\n",
      "46.58613514179943\n",
      "0, 3\n",
      "74.32556206797229\n",
      "0, 4\n",
      "118.7975561520522\n",
      "1, 2\n",
      "30.728301050660118\n",
      "1, 3\n",
      "96.29915630725954\n",
      "1, 4\n",
      "136.78525045007595\n",
      "2, 3\n",
      "120.43516164895533\n",
      "2, 4\n",
      "165.02684402560087\n",
      "3, 4\n",
      "54.06103577050664\n",
      "0, 1\n",
      "30.728301050660118\n",
      "0, 2\n",
      "74.32556206797229\n",
      "0, 3\n",
      "118.7975561520522\n",
      "1, 2\n",
      "120.43516164895533\n",
      "1, 3\n",
      "165.02684402560087\n",
      "2, 3\n",
      "54.06103577050664\n",
      "0, 1\n",
      "74.32556206797229\n",
      "0, 2\n",
      "118.7975561520522\n",
      "1, 2\n",
      "54.06103577050664\n"
     ]
    }
   ],
   "source": [
    "# Repeat splitting until getting k clusters\n",
    "k=2\n",
    "n=len(data)\n",
    "while n!=k:\n",
    "    # distance matrix\n",
    "    dist_mat = [[float('inf') for i in range(n)] for j in range(n)]\n",
    "    for i in range(n):\n",
    "        for j in range(i+1, n):\n",
    "            # print(str(i)+', '+str(j))\n",
    "            dist_mat[i][j] = dist(data[i], data[j], m)\n",
    "    dist_list = [(i,j, dist_element) for i, dist_list in enumerate(dist_mat) for j,dist_element in enumerate(dist_list)]\n",
    "    i, j, _ = min(dist_list, key=lambda t: t[2])\n",
    "\n",
    "    # when i is list of list\n",
    "    if isinstance(data[i][0], list):\n",
    "        # j is list of list\n",
    "        if isinstance(data[j][0], list):\n",
    "            new_data = data[i]+data[j]\n",
    "        else:\n",
    "            new_data = data[i]+[data[j]]\n",
    "    else:\n",
    "        if isinstance(data[j][0], list):\n",
    "            new_data = [data[i]]+data[j]\n",
    "        else:\n",
    "            new_data = [data[i]]+[data[j]]\n",
    "\n",
    "    data.pop(i)\n",
    "    data.pop(j-1)\n",
    "    data.reverse()\n",
    "    data.append(new_data)\n",
    "    data.reverse()\n",
    "    n = len(data)"
   ]
  },
  {
   "cell_type": "code",
   "execution_count": 22,
   "metadata": {},
   "outputs": [
    {
     "data": {
      "text/plain": [
       "{0: 1, 1: 1, 2: 1, 3: 0, 4: 0}"
      ]
     },
     "execution_count": 22,
     "metadata": {},
     "output_type": "execute_result"
    }
   ],
   "source": [
    "# put cluster results\n",
    "results = dict()\n",
    "for cluster, data_list in enumerate(data):\n",
    "    # when cluster is list of list\n",
    "    if isinstance(data_list[0], list):\n",
    "        for data_element in data_list:\n",
    "            results.update({data_element[-1]:cluster})\n",
    "    else:\n",
    "        results.update({data_list[-1]:cluster})"
   ]
  },
  {
   "cell_type": "code",
   "execution_count": 39,
   "metadata": {},
   "outputs": [
    {
     "name": "stdout",
     "output_type": "stream",
     "text": [
      "1\n",
      "1\n",
      "1\n",
      "0\n",
      "0\n"
     ]
    }
   ],
   "source": [
    "for idx in range(len(results.items())):\n",
    "    print(results.get(idx))"
   ]
  }
 ],
 "metadata": {
  "kernelspec": {
   "display_name": "Python 3",
   "language": "python",
   "name": "python3"
  },
  "language_info": {
   "codemirror_mode": {
    "name": "ipython",
    "version": 3
   },
   "file_extension": ".py",
   "mimetype": "text/x-python",
   "name": "python",
   "nbconvert_exporter": "python",
   "pygments_lexer": "ipython3",
   "version": "3.6.4"
  }
 },
 "nbformat": 4,
 "nbformat_minor": 2
}
