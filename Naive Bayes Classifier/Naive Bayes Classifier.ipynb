{
 "cells": [
  {
   "cell_type": "code",
   "execution_count": 1,
   "metadata": {},
   "outputs": [
    {
     "name": "stdout",
     "output_type": "stream",
     "text": [
      "[]\n"
     ]
    }
   ],
   "source": [
    "## read data\n",
    "import sys\n",
    "import csv\n",
    "from collections import Counter\n",
    "\n",
    "data = sys.stdin.readlines()\n",
    "csvreader = csv.reader(data, delimiter=',')\n",
    "\n",
    "data = []\n",
    "for row in csvreader:\n",
    "    data.append(row)"
   ]
  },
  {
   "cell_type": "code",
   "execution_count": 2,
   "metadata": {},
   "outputs": [
    {
     "name": "stdout",
     "output_type": "stream",
     "text": [
      "['chicken', '0', '1', '1', '0', '1', '0', '0', '0', '1', '1', '0', '0', '2', '1', '1', '0', '2']\n"
     ]
    }
   ],
   "source": [
    "import pandas as pd\n",
    "temp = pd.read_csv('zoo.data', header=None)\n",
    "print([str(element) for element in temp.iloc[11]])"
   ]
  },
  {
   "cell_type": "code",
   "execution_count": 8,
   "metadata": {},
   "outputs": [],
   "source": [
    "data = [['animal_name', 'hair', 'feathers', 'eggs', 'milk', 'airborne', 'aquatic', 'predator', 'toothed', 'backbone', 'breathes', 'venomous', 'fins', 'legs', 'tail', 'domestic', 'catsize', 'class_type'],\n",
    "        ['aardvark', '1', '0', '0', '1', '0', '0', '1', '1', '1', '1', '0', '0', '4', '0', '0', '1', '1'],\n",
    "        ['worm', '0', '0', '1', '0', '0', '0', '0', '0', '0', '1', '0', '0', '0', '0', '0', '0', '7'],\n",
    "        ['piranha', '0', '0', '1', '0', '0', '1', '1', '1', '1', '0', '0', '1', '0', '1', '0', '0', '4'],\n",
    "        ['gnat', '0', '0', '1', '0', '1', '0', '0', '0', '0', '1', '0', '0', '6', '0', '0', '0', '6'], \n",
    "        ['oryx', '1', '0', '0', '1', '0', '0', '0', '1', '1', '1', '0', '0', '4', '1', '0', '1', '1'],\n",
    "        ['moth', '1', '0', '1', '0', '1', '0', '0', '0', '0', '1', '0', '0', '6', '0', '0', '0', '6'],\n",
    "        ['skimmer', '0', '1', '1', '0', '1', '1', '1', '0', '1', '1', '0', '0', '2', '1', '0', '0', '2'],\n",
    "        ['crab', '0', '0', '1', '0', '0', '1', '1', '0', '0', '0', '0', '0', '4', '0', '0', '0', '7'],\n",
    "        ['vampire', '1', '0', '0', '1', '1', '0', '0', '1', '1', '1', '0', '0', '2', '1', '0', '0', '1'],\n",
    "        ['slowworm', '0', '0', '1', '0', '0', '0', '1', '1', '1', '1', '0', '0', '0', '1', '0', '0', '3'],\n",
    "        ['bass', '0', '0', '1', '0', '0', '1', '1', '1', '1', '0', '0', '1', '0', '1', '0', '0', '-1']]"
   ]
  },
  {
   "cell_type": "code",
   "execution_count": 11,
   "metadata": {},
   "outputs": [],
   "source": [
    "data = [['animal_name', 'hair', 'feathers', 'eggs', 'milk', 'airborne', 'aquatic', 'predator', 'toothed', 'backbone', 'breathes', 'venomous', 'fins', 'legs', 'tail', 'domestic', 'catsize', 'class_type'],\n",
    "        ['aardvark', '1', '0', '0', '1', '0', '0', '1', '1', '1', '1', '0', '0', '4', '0', '0', '1', '1'],\n",
    "        ['worm', '0', '0', '1', '0', '0', '0', '0', '0', '0', '1', '0', '0', '0', '0', '0', '0', '7'],\n",
    "        ['piranha', '0', '0', '1', '0', '0', '1', '1', '1', '1', '0', '0', '1', '0', '1', '0', '0', '4'],\n",
    "        ['gnat', '0', '0', '1', '0', '1', '0', '0', '0', '0', '1', '0', '0', '6', '0', '0', '0', '6'], \n",
    "        ['oryx', '1', '0', '0', '1', '0', '0', '0', '1', '1', '1', '0', '0', '4', '1', '0', '1', '1'],\n",
    "        ['moth', '1', '0', '1', '0', '1', '0', '0', '0', '0', '1', '0', '0', '6', '0', '0', '0', '6'],\n",
    "        ['skimmer', '0', '1', '1', '0', '1', '1', '1', '0', '1', '1', '0', '0', '2', '1', '0', '0', '2'],\n",
    "        ['chicken', '0', '1', '1', '0', '1', '0', '0', '0', '1', '1', '0', '0', '2', '1', '1', '0', '-1'],\n",
    "        ['crab', '0', '0', '1', '0', '0', '1', '1', '0', '0', '0', '0', '0', '4', '0', '0', '0', '7'],\n",
    "        ['vampire', '1', '0', '0', '1', '1', '0', '0', '1', '1', '1', '0', '0', '2', '1', '0', '0', '1'],\n",
    "        ['slowworm', '0', '0', '1', '0', '0', '0', '1', '1', '1', '1', '0', '0', '0', '1', '0', '0', '3'],\n",
    "        ['bass', '0', '0', '1', '0', '0', '1', '1', '1', '1', '0', '0', '1', '0', '1', '0', '0', '-1']]"
   ]
  },
  {
   "cell_type": "markdown",
   "metadata": {},
   "source": [
    "## Probability\n",
    "p(y=c) = # of samples that class c + 0.1 / (n + 0.1 * c)\n",
    "\n",
    "p(x=f | y =c ) = # of samples that have class c and xi = f + 0.1 / (# of class that has class c + 0.1 # 0f unique features)"
   ]
  },
  {
   "cell_type": "code",
   "execution_count": 13,
   "metadata": {},
   "outputs": [],
   "source": [
    "# train test split\n",
    "class_type = list(zip(*data))[-1]\n",
    "train_idx = [idx for idx, label in enumerate(class_type) if label!='-1' ][1:]\n",
    "test_idx = [idx for idx, label in enumerate(class_type) if label=='-1' ]\n",
    "train_data = [list(map(int,column[1:])) for idx, column in enumerate(data) if idx in train_idx]\n",
    "test_data = [list(map(int,column[1:])) for idx, column in enumerate(data) if idx in test_idx]"
   ]
  },
  {
   "cell_type": "code",
   "execution_count": 14,
   "metadata": {},
   "outputs": [
    {
     "data": {
      "text/plain": [
       "[(1, 0.30097087378640774),\n",
       " (2, 0.10891089108910892),\n",
       " (3, 0.10891089108910892),\n",
       " (4, 0.10891089108910892),\n",
       " (5, 0.01),\n",
       " (6, 0.2058823529411765),\n",
       " (7, 0.2058823529411765)]"
      ]
     },
     "execution_count": 14,
     "metadata": {},
     "output_type": "execute_result"
    }
   ],
   "source": [
    "# calculate py\n",
    "train_class_type = list(zip(*train_data))[-1]\n",
    "# counts for each class. Setting default 0\n",
    "counts = {}\n",
    "for label in range(1,8):\n",
    "    counts[label] = 0\n",
    "counts.update(Counter(train_class_type))\n",
    "n = sum(counts.values())\n",
    "py = [(key, (item+0.1)/(n+item*0.1)) for key, item in counts.items()]\n",
    "py"
   ]
  },
  {
   "cell_type": "code",
   "execution_count": 15,
   "metadata": {},
   "outputs": [],
   "source": [
    "# calculate set of features and number of features\n",
    "feature_set = []\n",
    "for feature_idx, column in enumerate(list(zip(*train_data))):\n",
    "    # leg features\n",
    "    if feature_idx == 12:\n",
    "        feature_set.append(((0,2,4,5,6,8), 6))\n",
    "    # class\n",
    "    elif feature_idx == 16:\n",
    "        feature_set.append((tuple(range(1,8)), 7))\n",
    "    else:\n",
    "        feature_set.append(((0,1), 2)) "
   ]
  },
  {
   "cell_type": "code",
   "execution_count": 16,
   "metadata": {},
   "outputs": [],
   "source": [
    "# seperate data by class\n",
    "seperated = {}\n",
    "for label in list(range(1,8)):\n",
    "    seperated[label] = []\n",
    "for column in train_data:\n",
    "    seperated[column[-1]].append(column)"
   ]
  },
  {
   "cell_type": "code",
   "execution_count": 17,
   "metadata": {},
   "outputs": [
    {
     "data": {
      "text/plain": [
       "{(1, 0): Counter({0: 0, 1: 3}),\n",
       " (1, 1): Counter({0: 3, 1: 0}),\n",
       " (1, 2): Counter({0: 3, 1: 0}),\n",
       " (1, 3): Counter({0: 0, 1: 3}),\n",
       " (1, 4): Counter({0: 2, 1: 1}),\n",
       " (1, 5): Counter({0: 3, 1: 0}),\n",
       " (1, 6): Counter({0: 2, 1: 1}),\n",
       " (1, 7): Counter({0: 0, 1: 3}),\n",
       " (1, 8): Counter({0: 0, 1: 3}),\n",
       " (1, 9): Counter({0: 0, 1: 3}),\n",
       " (1, 10): Counter({0: 3, 1: 0}),\n",
       " (1, 11): Counter({0: 3, 1: 0}),\n",
       " (1, 12): Counter({0: 0, 2: 1, 4: 2, 5: 0, 6: 0, 8: 0}),\n",
       " (1, 13): Counter({0: 1, 1: 2}),\n",
       " (1, 14): Counter({0: 3, 1: 0}),\n",
       " (1, 15): Counter({0: 1, 1: 2}),\n",
       " (1, 16): Counter({1: 3, 2: 0, 3: 0, 4: 0, 5: 0, 6: 0, 7: 0}),\n",
       " (2, 0): Counter({0: 1, 1: 0}),\n",
       " (2, 1): Counter({0: 0, 1: 1}),\n",
       " (2, 2): Counter({0: 0, 1: 1}),\n",
       " (2, 3): Counter({0: 1, 1: 0}),\n",
       " (2, 4): Counter({0: 0, 1: 1}),\n",
       " (2, 5): Counter({0: 0, 1: 1}),\n",
       " (2, 6): Counter({0: 0, 1: 1}),\n",
       " (2, 7): Counter({0: 1, 1: 0}),\n",
       " (2, 8): Counter({0: 0, 1: 1}),\n",
       " (2, 9): Counter({0: 0, 1: 1}),\n",
       " (2, 10): Counter({0: 1, 1: 0}),\n",
       " (2, 11): Counter({0: 1, 1: 0}),\n",
       " (2, 12): Counter({0: 0, 2: 1, 4: 0, 5: 0, 6: 0, 8: 0}),\n",
       " (2, 13): Counter({0: 0, 1: 1}),\n",
       " (2, 14): Counter({0: 1, 1: 0}),\n",
       " (2, 15): Counter({0: 1, 1: 0}),\n",
       " (2, 16): Counter({1: 0, 2: 1, 3: 0, 4: 0, 5: 0, 6: 0, 7: 0}),\n",
       " (3, 0): Counter({0: 1, 1: 0}),\n",
       " (3, 1): Counter({0: 1, 1: 0}),\n",
       " (3, 2): Counter({0: 0, 1: 1}),\n",
       " (3, 3): Counter({0: 1, 1: 0}),\n",
       " (3, 4): Counter({0: 1, 1: 0}),\n",
       " (3, 5): Counter({0: 1, 1: 0}),\n",
       " (3, 6): Counter({0: 0, 1: 1}),\n",
       " (3, 7): Counter({0: 0, 1: 1}),\n",
       " (3, 8): Counter({0: 0, 1: 1}),\n",
       " (3, 9): Counter({0: 0, 1: 1}),\n",
       " (3, 10): Counter({0: 1, 1: 0}),\n",
       " (3, 11): Counter({0: 1, 1: 0}),\n",
       " (3, 12): Counter({0: 1, 2: 0, 4: 0, 5: 0, 6: 0, 8: 0}),\n",
       " (3, 13): Counter({0: 0, 1: 1}),\n",
       " (3, 14): Counter({0: 1, 1: 0}),\n",
       " (3, 15): Counter({0: 1, 1: 0}),\n",
       " (3, 16): Counter({1: 0, 2: 0, 3: 1, 4: 0, 5: 0, 6: 0, 7: 0}),\n",
       " (4, 0): Counter({0: 1, 1: 0}),\n",
       " (4, 1): Counter({0: 1, 1: 0}),\n",
       " (4, 2): Counter({0: 0, 1: 1}),\n",
       " (4, 3): Counter({0: 1, 1: 0}),\n",
       " (4, 4): Counter({0: 1, 1: 0}),\n",
       " (4, 5): Counter({0: 0, 1: 1}),\n",
       " (4, 6): Counter({0: 0, 1: 1}),\n",
       " (4, 7): Counter({0: 0, 1: 1}),\n",
       " (4, 8): Counter({0: 0, 1: 1}),\n",
       " (4, 9): Counter({0: 1, 1: 0}),\n",
       " (4, 10): Counter({0: 1, 1: 0}),\n",
       " (4, 11): Counter({0: 0, 1: 1}),\n",
       " (4, 12): Counter({0: 1, 2: 0, 4: 0, 5: 0, 6: 0, 8: 0}),\n",
       " (4, 13): Counter({0: 0, 1: 1}),\n",
       " (4, 14): Counter({0: 1, 1: 0}),\n",
       " (4, 15): Counter({0: 1, 1: 0}),\n",
       " (4, 16): Counter({1: 0, 2: 0, 3: 0, 4: 1, 5: 0, 6: 0, 7: 0}),\n",
       " (5, 0): Counter({0: 0, 1: 0}),\n",
       " (5, 1): Counter({0: 0, 1: 0}),\n",
       " (5, 2): Counter({0: 0, 1: 0}),\n",
       " (5, 3): Counter({0: 0, 1: 0}),\n",
       " (5, 4): Counter({0: 0, 1: 0}),\n",
       " (5, 5): Counter({0: 0, 1: 0}),\n",
       " (5, 6): Counter({0: 0, 1: 0}),\n",
       " (5, 7): Counter({0: 0, 1: 0}),\n",
       " (5, 8): Counter({0: 0, 1: 0}),\n",
       " (5, 9): Counter({0: 0, 1: 0}),\n",
       " (5, 10): Counter({0: 0, 1: 0}),\n",
       " (5, 11): Counter({0: 0, 1: 0}),\n",
       " (5, 12): Counter({0: 0, 2: 0, 4: 0, 5: 0, 6: 0, 8: 0}),\n",
       " (5, 13): Counter({0: 0, 1: 0}),\n",
       " (5, 14): Counter({0: 0, 1: 0}),\n",
       " (5, 15): Counter({0: 0, 1: 0}),\n",
       " (5, 16): Counter({1: 0, 2: 0, 3: 0, 4: 0, 5: 0, 6: 0, 7: 0}),\n",
       " (6, 0): Counter({0: 1, 1: 1}),\n",
       " (6, 1): Counter({0: 2, 1: 0}),\n",
       " (6, 2): Counter({0: 0, 1: 2}),\n",
       " (6, 3): Counter({0: 2, 1: 0}),\n",
       " (6, 4): Counter({0: 0, 1: 2}),\n",
       " (6, 5): Counter({0: 2, 1: 0}),\n",
       " (6, 6): Counter({0: 2, 1: 0}),\n",
       " (6, 7): Counter({0: 2, 1: 0}),\n",
       " (6, 8): Counter({0: 2, 1: 0}),\n",
       " (6, 9): Counter({0: 0, 1: 2}),\n",
       " (6, 10): Counter({0: 2, 1: 0}),\n",
       " (6, 11): Counter({0: 2, 1: 0}),\n",
       " (6, 12): Counter({0: 0, 2: 0, 4: 0, 5: 0, 6: 2, 8: 0}),\n",
       " (6, 13): Counter({0: 2, 1: 0}),\n",
       " (6, 14): Counter({0: 2, 1: 0}),\n",
       " (6, 15): Counter({0: 2, 1: 0}),\n",
       " (6, 16): Counter({1: 0, 2: 0, 3: 0, 4: 0, 5: 0, 6: 2, 7: 0}),\n",
       " (7, 0): Counter({0: 2, 1: 0}),\n",
       " (7, 1): Counter({0: 2, 1: 0}),\n",
       " (7, 2): Counter({0: 0, 1: 2}),\n",
       " (7, 3): Counter({0: 2, 1: 0}),\n",
       " (7, 4): Counter({0: 2, 1: 0}),\n",
       " (7, 5): Counter({0: 1, 1: 1}),\n",
       " (7, 6): Counter({0: 1, 1: 1}),\n",
       " (7, 7): Counter({0: 2, 1: 0}),\n",
       " (7, 8): Counter({0: 2, 1: 0}),\n",
       " (7, 9): Counter({0: 1, 1: 1}),\n",
       " (7, 10): Counter({0: 2, 1: 0}),\n",
       " (7, 11): Counter({0: 2, 1: 0}),\n",
       " (7, 12): Counter({0: 1, 2: 0, 4: 1, 5: 0, 6: 0, 8: 0}),\n",
       " (7, 13): Counter({0: 2, 1: 0}),\n",
       " (7, 14): Counter({0: 2, 1: 0}),\n",
       " (7, 15): Counter({0: 2, 1: 0}),\n",
       " (7, 16): Counter({1: 0, 2: 0, 3: 0, 4: 0, 5: 0, 6: 0, 7: 2})}"
      ]
     },
     "execution_count": 17,
     "metadata": {},
     "output_type": "execute_result"
    }
   ],
   "source": [
    "# counts each feature for each class\n",
    "# for each items' feature, count each feature attributes\n",
    "feature_counts = {}\n",
    "for key, items in seperated.items():\n",
    "    if not items:\n",
    "        for idx, features in enumerate(feature_set):\n",
    "            feature_counts[(key, idx)] = Counter({feature:0 for feature in features[0]})\n",
    "    for idx, item in enumerate(list(zip(*items))):\n",
    "        # get counts for zero counts\n",
    "        if (key,idx) not in feature_counts:\n",
    "            feature_counts[(key,idx)] = Counter({key:0 for key in feature_set[idx][0]})\n",
    "        feature_counts[(key, idx)].update(list(item))\n",
    "feature_counts"
   ]
  },
  {
   "cell_type": "code",
   "execution_count": 18,
   "metadata": {},
   "outputs": [],
   "source": [
    "# calculate pxy based on counts of each attribute and feature number\n",
    "pxy = {}\n",
    "for key, item in feature_counts.items():\n",
    "    num_class = len(list(item.elements()))\n",
    "    # feature: feature attributes, num: feature attributes counts\n",
    "    for feature, num in item.items():\n",
    "        # class, feature, attribute \n",
    "        pxy[(key[0], key[1], feature)] = (num+0.1)/(num_class+0.1*feature_set[key[1]][1])"
   ]
  },
  {
   "cell_type": "code",
   "execution_count": 30,
   "metadata": {},
   "outputs": [],
   "source": [
    "# predict test sets by calculating pxy * py\n",
    "test_pxy = []\n",
    "for test_set in test_data:\n",
    "    test_set_pxy=[]\n",
    "    for feature_idx, feature in enumerate(test_set[:-1]):\n",
    "        test_set_pxy.append([pxy.get((label, feature_idx, feature)) for label, prob in py])\n",
    "    test_pxy.append(test_set_pxy)"
   ]
  },
  {
   "cell_type": "code",
   "execution_count": 35,
   "metadata": {},
   "outputs": [],
   "source": [
    "# multiply all elements in pxy\n",
    "pxy_list = []\n",
    "for test_set_pxy in test_pxy:\n",
    "    pxy_set_list = []\n",
    "    for elements in list(zip(*test_set_pxy)):\n",
    "        result = 1\n",
    "        for element in elements:\n",
    "            result *= element\n",
    "        pxy_set_list.append(result)\n",
    "    pxy_list.append(pxy_set_list)"
   ]
  },
  {
   "cell_type": "code",
   "execution_count": 37,
   "metadata": {},
   "outputs": [
    {
     "name": "stdout",
     "output_type": "stream",
     "text": [
      "2\n",
      "4\n"
     ]
    }
   ],
   "source": [
    "# calculate pxy and py\n",
    "results = [[pxy_set_list[label-1]*prob for label, prob in py] for pxy_set_list in pxy_list]\n",
    "\n",
    "# predict test label\n",
    "for result in results:\n",
    "    print(result.index(max(result))+1)"
   ]
  }
 ],
 "metadata": {
  "kernelspec": {
   "display_name": "Python 3",
   "language": "python",
   "name": "python3"
  },
  "language_info": {
   "codemirror_mode": {
    "name": "ipython",
    "version": 3
   },
   "file_extension": ".py",
   "mimetype": "text/x-python",
   "name": "python",
   "nbconvert_exporter": "python",
   "pygments_lexer": "ipython3",
   "version": "3.6.4"
  }
 },
 "nbformat": 4,
 "nbformat_minor": 2
}
