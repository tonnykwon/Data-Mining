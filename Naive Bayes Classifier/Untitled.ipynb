{
 "cells": [
  {
   "cell_type": "code",
   "execution_count": 42,
   "metadata": {},
   "outputs": [
    {
     "name": "stdout",
     "output_type": "stream",
     "text": [
      "[]\n"
     ]
    }
   ],
   "source": [
    "import sys\n",
    "import csv\n",
    "\n",
    "data = sys.stdin.readlines()\n",
    "csvreader = csv.reader(data, delimiter=',')\n",
    "\n",
    "data = []\n",
    "for row in csvreader:\n",
    "    data.append(row)\n",
    "print(data)"
   ]
  },
  {
   "cell_type": "code",
   "execution_count": 31,
   "metadata": {},
   "outputs": [],
   "source": [
    "from collections import Counter\n",
    "data = [['animal_name', 'hair', 'feathers', 'eggs', 'milk', 'airborne', 'aquatic', 'predator', 'toothed', 'backbone', 'breathes', 'venomous', 'fins', 'legs', 'tail', 'domestic', 'catsize', 'class_type'],\n",
    "        ['aardvark', '1', '0', '0', '1', '0', '0', '1', '1', '1', '1', '0', '0', '4', '0', '0', '1', '1'],\n",
    "        ['worm', '0', '0', '1', '0', '0', '0', '0', '0', '0', '1', '0', '0', '0', '0', '0', '0', '7'],\n",
    "        ['piranha', '0', '0', '1', '0', '0', '1', '1', '1', '1', '0', '0', '1', '0', '1', '0', '0', '4'],\n",
    "        ['gnat', '0', '0', '1', '0', '1', '0', '0', '0', '0', '1', '0', '0', '6', '0', '0', '0', '6'], \n",
    "        ['oryx', '1', '0', '0', '1', '0', '0', '0', '1', '1', '1', '0', '0', '4', '1', '0', '1', '1'],\n",
    "        ['moth', '1', '0', '1', '0', '1', '0', '0', '0', '0', '1', '0', '0', '6', '0', '0', '0', '6'],\n",
    "        ['skimmer', '0', '1', '1', '0', '1', '1', '1', '0', '1', '1', '0', '0', '2', '1', '0', '0', '2'],\n",
    "        ['crab', '0', '0', '1', '0', '0', '1', '1', '0', '0', '0', '0', '0', '4', '0', '0', '0', '7'],\n",
    "        ['vampire', '1', '0', '0', '1', '1', '0', '0', '1', '1', '1', '0', '0', '2', '1', '0', '0', '1'],\n",
    "        ['slowworm', '0', '0', '1', '0', '0', '0', '1', '1', '1', '1', '0', '0', '0', '1', '0', '0', '3'],\n",
    "        ['bass', '0', '0', '1', '0', '0', '1', '1', '1', '1', '0', '0', '1', '0', '1', '0', '0', '-1']]"
   ]
  },
  {
   "cell_type": "code",
   "execution_count": null,
   "metadata": {},
   "outputs": [],
   "source": [
    "# train test split\n",
    "class_type = list(zip(*data))[-1]\n",
    "train_idx = [idx for idx, label in enumerate(class_type) if label!='-1' ]\n",
    "test_idx = [idx for idx, label in enumerate(class_type) if label=='-1' ]\n",
    "train = [data[idx] for idx in train_idx]\n",
    "test = [data[idx] for idx in test_idx]"
   ]
  },
  {
   "cell_type": "code",
   "execution_count": 58,
   "metadata": {},
   "outputs": [],
   "source": [
    "# calculate py\n",
    "train_class_type = list(zip(*train))[-1]\n",
    "counts = Counter(train_class_type)\n",
    "n = sum(counts.values())\n",
    "py = [item/n +0.1 for key, item in counts.items()]"
   ]
  },
  {
   "cell_type": "code",
   "execution_count": 60,
   "metadata": {},
   "outputs": [
    {
     "data": {
      "text/plain": [
       "[0.09090909090909091,\n",
       " 0.2727272727272727,\n",
       " 0.18181818181818182,\n",
       " 0.09090909090909091,\n",
       " 0.18181818181818182,\n",
       " 0.09090909090909091,\n",
       " 0.09090909090909091]"
      ]
     },
     "execution_count": 60,
     "metadata": {},
     "output_type": "execute_result"
    }
   ],
   "source": [
    "[item/n for key, item in counts.items()]"
   ]
  }
 ],
 "metadata": {
  "kernelspec": {
   "display_name": "Python 3",
   "language": "python",
   "name": "python3"
  },
  "language_info": {
   "codemirror_mode": {
    "name": "ipython",
    "version": 3
   },
   "file_extension": ".py",
   "mimetype": "text/x-python",
   "name": "python",
   "nbconvert_exporter": "python",
   "pygments_lexer": "ipython3",
   "version": "3.6.4"
  }
 },
 "nbformat": 4,
 "nbformat_minor": 2
}
