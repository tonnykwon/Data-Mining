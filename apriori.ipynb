{
 "cells": [
  {
   "cell_type": "markdown",
   "metadata": {},
   "source": [
    "# Pattern Discovery MP1"
   ]
  },
  {
   "cell_type": "code",
   "execution_count": 1,
   "metadata": {},
   "outputs": [],
   "source": [
    "import pandas as pd\n",
    "import numpy as np\n",
    "from itertools import combinations\n",
    "from collections import Counter"
   ]
  },
  {
   "cell_type": "markdown",
   "metadata": {},
   "source": [
    "## Read"
   ]
  },
  {
   "cell_type": "code",
   "execution_count": 2,
   "metadata": {},
   "outputs": [
    {
     "name": "stdout",
     "output_type": "stream",
     "text": [
      "(77185, 1)\n"
     ]
    }
   ],
   "source": [
    "categories = pd.read_table('categories.txt', header=None, names=['category'])\n",
    "categories.shape"
   ]
  },
  {
   "cell_type": "code",
   "execution_count": 11,
   "metadata": {},
   "outputs": [
    {
     "name": "stdout",
     "output_type": "stream",
     "text": [
      "done\n",
      "done\n"
     ]
    }
   ],
   "source": [
    "sup = 0.01\n",
    "categories_list = categories.category.str.split(\";\")\n",
    "count = Counter(category for category_list in categories_list for category in category_list)\n",
    "n = categories.shape[0]\n",
    "item_n = np.sum(list(zip(*count.items()))[1])\n",
    "min_sup = np.floor(n*sup)\n",
    "\n",
    "# dynamic variable\n",
    "vars()['join5'] = 2\n",
    "\n",
    "# scan\n",
    "scan1 = dict()\n",
    "[scan1.update({key: value}) for key, value in count.items() if value > min_sup]\n",
    "print(\"scan1 done\")\n",
    "\n",
    "# generate self-join\n",
    "join1 = [comb for comb in combinations(scan1.keys(), 2)]\n",
    "count = Counter(comb for category_list in categories_list for comb in combinations(category_list,2) for join in join1 if comb==join)\n",
    "\n",
    "# scan phase 2\n",
    "scan2= dict()\n",
    "[scan2.update({key: value}) for key, value in count.items() if value > min_sup]\n",
    "print(\"scan2 done\")"
   ]
  },
  {
   "cell_type": "code",
   "execution_count": 127,
   "metadata": {},
   "outputs": [],
   "source": [
    "# to list of sets\n",
    "categories_list = [category_list for category_list in categories.category.str.split(';')]\n",
    "count = Counter(category for category_list in categories_list for category in category_list)\n",
    "\n",
    "# scan\n",
    "scan1 = dict()\n",
    "[scan1.update({key: value}) for key, value in count.items() if value > min_sup]\n",
    "\n",
    "# self-join list\n",
    "join = [comb for comb in combinations(scan1.keys(),2)]"
   ]
  },
  {
   "cell_type": "code",
   "execution_count": 257,
   "metadata": {},
   "outputs": [
    {
     "name": "stdout",
     "output_type": "stream",
     "text": [
      "Wall time: 589 ms\n"
     ]
    }
   ],
   "source": [
    "%%time\n",
    "data = categories\n",
    "\n",
    "# set minimum support\n",
    "n = data.shape[0]\n",
    "min_sup = np.floor(n*sup)\n",
    "\n",
    "# to list of sets\n",
    "categories_list = [set(category_list) for category_list in data.category.str.split(';')]\n",
    "\n",
    "# result container\n",
    "rules = dict()\n",
    "\n",
    "# count items\n",
    "count = Counter(category for category_list in categories_list for category in category_list)\n",
    "scan = dict()\n",
    "[scan.update({key: value}) for key, value in count.items() if value > min_sup]\n",
    "\n",
    "# join\n",
    "join = Counter(comb for category_list in categories_list for comb in combinations(category_list, 2))"
   ]
  },
  {
   "cell_type": "code",
   "execution_count": 158,
   "metadata": {},
   "outputs": [
    {
     "name": "stdout",
     "output_type": "stream",
     "text": [
      "Wall time: 103 ms\n"
     ]
    }
   ],
   "source": [
    "%%time\n",
    "data = categories\n",
    "\n",
    "# set minimum support\n",
    "n = data.shape[0]\n",
    "min_sup = np.floor(n*sup)\n",
    "\n",
    "# to list of sets\n",
    "categories_list = [set(category_list) for category_list in data.category.str.split(';')]\n",
    "\n",
    "# result container\n",
    "rules = dict()\n",
    "\n",
    "# count items\n",
    "count = Counter(category for category_list in categories_list for category in category_list)\n",
    "scan = dict()\n",
    "[scan.update({key: value}) for key, value in count.items() if value > min_sup]\n",
    "\n",
    "i = 1\n",
    "while(True):\n",
    "    # get join of categories_list\n",
    "    join = Counter(comb for category_list in categories_list for comb in combinations(category_list, i))\n",
    "    [rules.update({key: value}) for key, value in join.items() if value > min_sup]\n",
    "    i += 1\n",
    "    if not len(join)>0:\n",
    "        break\n",
    "rules"
   ]
  },
  {
   "cell_type": "markdown",
   "metadata": {},
   "source": [
    "## Apriori"
   ]
  },
  {
   "cell_type": "code",
   "execution_count": 162,
   "metadata": {},
   "outputs": [],
   "source": [
    "def apriori(data, sup = 0.01):\n",
    "    # set minimum support\n",
    "    n = data.shape[0]\n",
    "    min_sup = np.floor(n*sup)\n",
    "\n",
    "    # to list of sets\n",
    "    categories_list = [set(category_list) for category_list in data.category.str.split(';')]\n",
    "    \n",
    "    # result container\n",
    "    rules = dict()\n",
    "    \n",
    "    i = 1\n",
    "    while(True):\n",
    "        # get join of categories_list\n",
    "        join = Counter(comb for category_list in categories_list for comb in combinations(category_list, i))\n",
    "        [rules.update({key: value}) for key, value in join.items() if value > min_sup]\n",
    "        i += 1\n",
    "        if not len(join)>0:\n",
    "            break\n",
    "    return rules"
   ]
  },
  {
   "cell_type": "code",
   "execution_count": 163,
   "metadata": {},
   "outputs": [],
   "source": [
    "rules = apriori(categories)"
   ]
  },
  {
   "cell_type": "code",
   "execution_count": 194,
   "metadata": {},
   "outputs": [],
   "source": [
    "# Part 1\n",
    "keys = list(zip(*rules.items()))[0]\n",
    "keys = [key for key in keys if len(key)==1]\n",
    "\n",
    "one_rules = dict()\n",
    "for key in keys:\n",
    "    one_rules.update({key: rules.get(key)})"
   ]
  },
  {
   "cell_type": "code",
   "execution_count": 224,
   "metadata": {},
   "outputs": [],
   "source": [
    "# save\n",
    "with open('patterns1.txt', 'w') as file:\n",
    "    for key, value in one_rules.items():\n",
    "        file.write(str(value) + \":\" + str(key[0])+'\\n')"
   ]
  },
  {
   "cell_type": "code",
   "execution_count": 225,
   "metadata": {},
   "outputs": [],
   "source": [
    "# save Part 2\n",
    "with open('patterns2.txt', 'w') as file:\n",
    "    for key, value in rules.items():\n",
    "        file.write(str(value)+':'+';'.join(key) +'\\n')"
   ]
  }
 ],
 "metadata": {
  "kernelspec": {
   "display_name": "Python 3",
   "language": "python",
   "name": "python3"
  },
  "language_info": {
   "codemirror_mode": {
    "name": "ipython",
    "version": 3
   },
   "file_extension": ".py",
   "mimetype": "text/x-python",
   "name": "python",
   "nbconvert_exporter": "python",
   "pygments_lexer": "ipython3",
   "version": "3.6.4"
  }
 },
 "nbformat": 4,
 "nbformat_minor": 2
}
