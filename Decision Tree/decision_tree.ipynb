{
 "cells": [
  {
   "cell_type": "code",
   "execution_count": 1,
   "metadata": {},
   "outputs": [],
   "source": [
    "import pandas as pd\n",
    "import numpy as np"
   ]
  },
  {
   "cell_type": "markdown",
   "metadata": {},
   "source": [
    "## Read"
   ]
  },
  {
   "cell_type": "code",
   "execution_count": 2,
   "metadata": {},
   "outputs": [],
   "source": [
    "## read train data\n",
    "data = pd.read_table('training.txt', sep=' ', header=None)\n",
    "# name label\n",
    "data.rename(columns={0:'label'}, inplace=True)\n",
    "# sepearte labels\n",
    "label = data.iloc[:, 0]\n",
    "\n",
    "# remove index: from data\n",
    "data = data.iloc[:, 1:]\n",
    "data = data.iloc[:,1:].applymap(lambda x: x[x.find(':')+1:])\n",
    "\n",
    "# rename columns and merge label\n",
    "data.columns = list(range(data.shape[1]))\n",
    "data = data.join(label)\n",
    "# label: int, other columns: str"
   ]
  },
  {
   "cell_type": "code",
   "execution_count": 382,
   "metadata": {},
   "outputs": [],
   "source": [
    "## read test data\n",
    "test = pd.read_table('testing.txt', sep=' ', header=None)\n",
    "\n",
    "# remove index: from data\n",
    "test = test.applymap(lambda x: x[x.find(':')+1:])"
   ]
  },
  {
   "cell_type": "markdown",
   "metadata": {},
   "source": [
    "## Decision Tree"
   ]
  },
  {
   "cell_type": "code",
   "execution_count": null,
   "metadata": {},
   "outputs": [],
   "source": [
    "'''\n",
    "1.compute the entropy for data-set\n",
    "2.for every attribute/feature:\n",
    "       1.calculate entropy for all categorical values\n",
    "       2.take average information entropy for the current attribute\n",
    "       3.calculate gain for the current attribute\n",
    "3. pick the highest gain attribute.\n",
    "4. Repeat until we get the tree we desired.\n",
    "'''"
   ]
  },
  {
   "cell_type": "code",
   "execution_count": 418,
   "metadata": {},
   "outputs": [],
   "source": [
    "# create Tree class\n",
    "class Tree:\n",
    "    def __init__(self):\n",
    "        self.left = None\n",
    "        self.right = None\n",
    "        self.data = None\n",
    "        self.root = None\n",
    "        self.depth = 0\n",
    "        # rule of decision tree\n",
    "        self.rule = None\n",
    "        # test dataset\n",
    "        self.test = None\n",
    "        \n",
    "    def get_depth(self):\n",
    "        if self.root == None:\n",
    "            return self.depth\n",
    "        else:\n",
    "            return self.root.get_depth()+1\n",
    "        \n",
    "    # set left node\n",
    "    def set_left(self, left):\n",
    "        self.left = left\n",
    "        left.root = self\n",
    "    \n",
    "    # set right node\n",
    "    def set_right(self, right):\n",
    "        self.right = right\n",
    "        right.root = self\n",
    "        \n",
    "    # set rules\n",
    "    def set_rule(self, column, feature):\n",
    "        self.rule = (column, feature)\n",
    "    \n",
    "    # set test data\n",
    "    def set_test(self, test):\n",
    "        self.test = test\n",
    "        \n",
    "    # get left node\n",
    "    def get_left(self):\n",
    "        return self.left\n",
    "    \n",
    "    # get right node\n",
    "    def get_right(self):\n",
    "        return self.right\n",
    "    \n",
    "    # get rules\n",
    "    def get_rules(self):\n",
    "        return self.rule\n",
    "        \n",
    "    # check if leaf\n",
    "    def is_leaf(self):\n",
    "        return (self.left is None and self.right is None)\n",
    "    \n",
    "    # predict label based on data\n",
    "    def get_label(self):\n",
    "        n = self.data.shape[0]\n",
    "        result = self.data.groupby('label')[0].count()/n\n",
    "        label = result.idxmax()\n",
    "        return label"
   ]
  },
  {
   "cell_type": "code",
   "execution_count": 315,
   "metadata": {},
   "outputs": [],
   "source": [
    "root = Tree()\n",
    "root.data = data\n",
    "\n",
    "left = Tree()\n",
    "left.data = test\n",
    "root.set_left(left)"
   ]
  },
  {
   "cell_type": "code",
   "execution_count": 246,
   "metadata": {},
   "outputs": [],
   "source": [
    "def get_gini(data, column, feature):\n",
    "    n = data.shape[0]\n",
    "    # counts of each attribute, each class(label) count\n",
    "    column_count = data.groupby(column)[column].count()\n",
    "    class_count = data.groupby([column, 'label'])[column].count()\n",
    "\n",
    "    # gini for left split\n",
    "    class_exclude = class_count.unstack().drop(index = feature).sum()\n",
    "    column_exclude = column_count.drop(index=feature).sum()\n",
    "    prob_exclude = class_exclude/column_exclude\n",
    "    ratio_exclude = column_exclude/n\n",
    "    gini_exclude = (1-np.sum((prob_exclude)**2))\n",
    "\n",
    "    # gini for right split\n",
    "    class_feature = class_count.unstack().loc[feature]\n",
    "    column_feature = column_count.loc[feature].sum()\n",
    "    prob_feature = class_feature/column_feature\n",
    "    ratio_feature = column_feature/n\n",
    "    gini_feature = (1-np.sum((prob_feature)**2))\n",
    "\n",
    "    # combine two gini index\n",
    "    gini = ratio_exclude*gini_exclude+ratio_feature*gini_feature\n",
    "    return gini"
   ]
  },
  {
   "cell_type": "markdown",
   "metadata": {},
   "source": [
    "## Root"
   ]
  },
  {
   "cell_type": "code",
   "execution_count": 333,
   "metadata": {
    "scrolled": true
   },
   "outputs": [
    {
     "name": "stdout",
     "output_type": "stream",
     "text": [
      "Wall time: 2.24 s\n"
     ]
    }
   ],
   "source": [
    "%%time\n",
    "train = data\n",
    "## calculate gini\n",
    "n = train.shape[0]\n",
    "gini_list = []\n",
    "\n",
    "# loop over columns except labels\n",
    "for column in train.iloc[:,:-1]:\n",
    "    for feature in np.unique(train[column]):\n",
    "        gini = get_gini(train, column, feature)\n",
    "        gini_list.append((column, feature, gini))"
   ]
  },
  {
   "cell_type": "code",
   "execution_count": 334,
   "metadata": {},
   "outputs": [],
   "source": [
    "# split tree\n",
    "column, feature, min_gini = min(gini_list, key=lambda x: x[2])\n",
    "left = data[data[column]==feature]\n",
    "right = data[data[column]!=feature]"
   ]
  },
  {
   "cell_type": "code",
   "execution_count": 335,
   "metadata": {},
   "outputs": [],
   "source": [
    "# tree\n",
    "root = Tree()\n",
    "root.rule = (column, feature)\n",
    "\n",
    "# left\n",
    "root.left = Tree()\n",
    "root.left.root = root\n",
    "root.left.data = left\n",
    "\n",
    "# right\n",
    "root.right = Tree()\n",
    "root.right.root = root\n",
    "root.right.data = right"
   ]
  },
  {
   "cell_type": "markdown",
   "metadata": {},
   "source": [
    "## Left"
   ]
  },
  {
   "cell_type": "code",
   "execution_count": 336,
   "metadata": {},
   "outputs": [
    {
     "name": "stdout",
     "output_type": "stream",
     "text": [
      "Wall time: 1.99 s\n"
     ]
    }
   ],
   "source": [
    "%%time\n",
    "train = root.left.data\n",
    "## calculate gini\n",
    "n = train.shape[0]\n",
    "gini_list = []\n",
    "\n",
    "# loop over columns except labels\n",
    "for column in train.iloc[:,:-1]:\n",
    "    for feature in np.unique(train[column]):\n",
    "        gini = get_gini(train, column, feature)\n",
    "        gini_list.append((column, feature, gini))"
   ]
  },
  {
   "cell_type": "code",
   "execution_count": 337,
   "metadata": {},
   "outputs": [],
   "source": [
    "# split tree\n",
    "column, feature, min_gini = min(gini_list, key=lambda x: x[2])\n",
    "left = train[train[column]==feature]\n",
    "right = train[train[column]!=feature]"
   ]
  },
  {
   "cell_type": "code",
   "execution_count": 338,
   "metadata": {},
   "outputs": [],
   "source": [
    "# tree\n",
    "root.left.rule = (column, feature)\n",
    "\n",
    "# left\n",
    "root.left.left = Tree()\n",
    "root.left.left.root = root.left\n",
    "root.left.left.data = left\n",
    "\n",
    "# right\n",
    "root.left.right = Tree()\n",
    "root.left.right.root = root.left\n",
    "root.left.right.data = right"
   ]
  },
  {
   "cell_type": "markdown",
   "metadata": {},
   "source": [
    "## right"
   ]
  },
  {
   "cell_type": "code",
   "execution_count": 339,
   "metadata": {},
   "outputs": [
    {
     "name": "stdout",
     "output_type": "stream",
     "text": [
      "Wall time: 2.3 s\n"
     ]
    }
   ],
   "source": [
    "%%time\n",
    "train = root.right.data\n",
    "## calculate gini\n",
    "n = train.shape[0]\n",
    "gini_list = []\n",
    "\n",
    "# loop over columns except labels\n",
    "for column in train.iloc[:,:-1]:\n",
    "    for feature in np.unique(train[column]):\n",
    "        gini = get_gini(train, column, feature)\n",
    "        gini_list.append((column, feature, gini))"
   ]
  },
  {
   "cell_type": "code",
   "execution_count": 340,
   "metadata": {},
   "outputs": [],
   "source": [
    "# split tree\n",
    "column, feature, min_gini = min(gini_list, key=lambda x: x[2])\n",
    "left = train[train[column]==feature]\n",
    "right = train[train[column]!=feature]"
   ]
  },
  {
   "cell_type": "code",
   "execution_count": 341,
   "metadata": {},
   "outputs": [],
   "source": [
    "# split tree\n",
    "column, feature, min_gini = min(gini_list, key=lambda x: x[2])\n",
    "left = train[train[column]==feature]\n",
    "right = train[train[column]!=feature]"
   ]
  },
  {
   "cell_type": "code",
   "execution_count": 342,
   "metadata": {},
   "outputs": [],
   "source": [
    "# tree\n",
    "root.right.rule = (column, feature)\n",
    "\n",
    "# left\n",
    "root.right.left = Tree()\n",
    "root.right.left.root = root.right\n",
    "root.right.left.data = left\n",
    "\n",
    "# right\n",
    "root.right.right = Tree()\n",
    "root.right.right.root = root.right\n",
    "root.right.right.data = right"
   ]
  },
  {
   "cell_type": "code",
   "execution_count": 348,
   "metadata": {},
   "outputs": [
    {
     "data": {
      "text/plain": [
       "numpy.int64"
      ]
     },
     "execution_count": 348,
     "metadata": {},
     "output_type": "execute_result"
    }
   ],
   "source": [
    "result.idxmax()"
   ]
  },
  {
   "cell_type": "code",
   "execution_count": 344,
   "metadata": {},
   "outputs": [],
   "source": [
    "lln = root.left.left.data.shape[0]\n",
    "result = root.left.left.data.groupby('label')[column].count()/lln"
   ]
  },
  {
   "cell_type": "code",
   "execution_count": 125,
   "metadata": {},
   "outputs": [
    {
     "data": {
      "text/plain": [
       "label\n",
       "1    0.117063\n",
       "2    0.277778\n",
       "3    0.107143\n",
       "4    0.498016\n",
       "Name: 55, dtype: float64"
      ]
     },
     "execution_count": 125,
     "metadata": {},
     "output_type": "execute_result"
    }
   ],
   "source": [
    "lrn = root.left.right.data.shape[0]\n",
    "root.left.right.data.groupby('label')[column].count()/lrn"
   ]
  },
  {
   "cell_type": "code",
   "execution_count": 187,
   "metadata": {},
   "outputs": [
    {
     "data": {
      "text/plain": [
       "label\n",
       "1    0.307004\n",
       "2    0.209057\n",
       "3    0.332280\n",
       "4    0.151659\n",
       "Name: 63, dtype: float64"
      ]
     },
     "execution_count": 187,
     "metadata": {},
     "output_type": "execute_result"
    }
   ],
   "source": [
    "rrn = root.right.right.data.shape[0]\n",
    "root.right.right.data.groupby('label')[column].count()/rrn"
   ]
  },
  {
   "cell_type": "code",
   "execution_count": 188,
   "metadata": {},
   "outputs": [
    {
     "data": {
      "text/plain": [
       "label\n",
       "1    0.172632\n",
       "2    0.296842\n",
       "3    0.132632\n",
       "4    0.397895\n",
       "Name: 63, dtype: float64"
      ]
     },
     "execution_count": 188,
     "metadata": {},
     "output_type": "execute_result"
    }
   ],
   "source": [
    "rln = root.right.left.data.shape[0]\n",
    "root.right.left.data.groupby('label')[column].count()/rln"
   ]
  },
  {
   "cell_type": "markdown",
   "metadata": {},
   "source": [
    "## Predicition"
   ]
  },
  {
   "cell_type": "code",
   "execution_count": 192,
   "metadata": {},
   "outputs": [],
   "source": [
    "#split\n",
    "column, feature = root.rule\n",
    "# split tree\n",
    "left = test[test[column]==feature]\n",
    "right = test[test[column]!=feature]"
   ]
  },
  {
   "cell_type": "code",
   "execution_count": 193,
   "metadata": {},
   "outputs": [],
   "source": [
    "column, feature = root.left.rule\n",
    "# split left tree\n",
    "ll = left[left[column]==feature]\n",
    "lr = left[left[column]!=feature]"
   ]
  },
  {
   "cell_type": "code",
   "execution_count": 194,
   "metadata": {},
   "outputs": [],
   "source": [
    "column, feature = root.right.rule\n",
    "# split left tree\n",
    "rl = right[right[column]==feature]\n",
    "rr = right[right[column]!=feature]"
   ]
  },
  {
   "cell_type": "code",
   "execution_count": 195,
   "metadata": {},
   "outputs": [],
   "source": [
    "test['label'] = None\n",
    "test.loc[rl.index, 'label']=int(4)\n",
    "test.loc[rr.index, 'label']=int(3)\n",
    "test.loc[ll.index, 'label']=int(2)\n",
    "test.loc[lr.index, 'label']=int(4)"
   ]
  },
  {
   "cell_type": "markdown",
   "metadata": {},
   "source": [
    "## Save"
   ]
  },
  {
   "cell_type": "code",
   "execution_count": 455,
   "metadata": {},
   "outputs": [],
   "source": [
    "with open('result.txt', 'w') as fp:\n",
    "    [fp.write(str(label)+'\\n') for label in  pred]"
   ]
  },
  {
   "cell_type": "code",
   "execution_count": 200,
   "metadata": {},
   "outputs": [
    {
     "name": "stdout",
     "output_type": "stream",
     "text": [
      "Wall time: 2.04 s\n"
     ]
    }
   ],
   "source": [
    "%%time\n",
    "train = root.left.left.data\n",
    "## calculate gini\n",
    "n = train.shape[0]\n",
    "gini_list = []\n",
    "\n",
    "# loop over columns except labels\n",
    "for column in train.iloc[:,:-1]:\n",
    "    for feature in np.unique(train[column]):\n",
    "        gini = get_gini(train, column, feature)\n",
    "        gini_list.append((column, feature, gini))"
   ]
  },
  {
   "cell_type": "markdown",
   "metadata": {},
   "source": [
    "## test"
   ]
  },
  {
   "cell_type": "code",
   "execution_count": 243,
   "metadata": {},
   "outputs": [],
   "source": [
    "def test_split(node):\n",
    "    train = node.data\n",
    "    ## calculate gini\n",
    "    n = train.shape[0]\n",
    "    gini_list = []\n",
    "\n",
    "    # loop over columns except labels\n",
    "    for column in train.iloc[:,:-1]:\n",
    "        for feature in np.unique(train[column]):\n",
    "            gini = get_gini(train, column, feature)\n",
    "            gini_list.append((column, feature, gini))\n",
    "    \n",
    "    column, feature, min_gini = min(gini_list, key=lambda x: x[2])\n",
    "    \n",
    "    return column, feature, min_gini"
   ]
  },
  {
   "cell_type": "code",
   "execution_count": 359,
   "metadata": {},
   "outputs": [],
   "source": [
    "def data_split(data, column, feature):\n",
    "    left_data = data[data[column]==feature]\n",
    "    right_data = data[data[column]!=feature]\n",
    "    return left_data, right_data"
   ]
  },
  {
   "cell_type": "code",
   "execution_count": 360,
   "metadata": {},
   "outputs": [],
   "source": [
    "def get_split(data, column, feature):\n",
    "    # split data\n",
    "    left_data, right_data = data_split(data, column, feature)\n",
    "    \n",
    "    left = Tree()\n",
    "    right = Tree()\n",
    "    left.data =  left_data\n",
    "    right.data = right_data\n",
    "    \n",
    "    return left, right"
   ]
  },
  {
   "cell_type": "code",
   "execution_count": 451,
   "metadata": {},
   "outputs": [],
   "source": [
    "def predict(root, test):\n",
    "    # create empty predict\n",
    "    temp = test.copy()\n",
    "    temp['predict']= None\n",
    "    pred = temp['predict']\n",
    "    \n",
    "    root.test = test\n",
    "    divide_list = [root]\n",
    "    \n",
    "    # breadth first search\n",
    "    while divide_list:\n",
    "        node = divide_list.pop(0)\n",
    "        print(node.get_depth())\n",
    "        \n",
    "        # when node is leaf\n",
    "        if node.is_leaf():\n",
    "            # set predicted label\n",
    "            pred.loc[node.test.index] = node.get_label()\n",
    "            continue\n",
    "        \n",
    "        column, feature = node.get_rules()\n",
    "        left_data, right_data = data_split(node.test, column, feature)\n",
    "        \n",
    "        node.left.set_test(left_data)\n",
    "        node.right.set_test(right_data)\n",
    "        \n",
    "        divide_list.append(node.left)\n",
    "        divide_list.append(node.right)\n",
    "    \n",
    "    return pred"
   ]
  },
  {
   "cell_type": "code",
   "execution_count": 447,
   "metadata": {
    "scrolled": true
   },
   "outputs": [
    {
     "name": "stdout",
     "output_type": "stream",
     "text": [
      "1\n",
      "node depth: 0\n",
      "left data: 626\n",
      "right data: 2374\n",
      "2\n",
      "node depth: 1\n",
      "left data: 122\n",
      "right data: 504\n",
      "3\n",
      "node depth: 1\n",
      "left data: 475\n",
      "right data: 1899\n",
      "4\n",
      "node depth: 2\n",
      "left data: 21\n",
      "right data: 101\n",
      "5\n",
      "node depth: 2\n",
      "left data: 152\n",
      "right data: 352\n",
      "6\n",
      "node depth: 2\n",
      "left data: 76\n",
      "right data: 399\n",
      "7\n",
      "node depth: 2\n",
      "left data: 430\n",
      "right data: 1469\n",
      "8\n",
      "node depth: 3\n",
      "7\n",
      "node depth: 3\n",
      "6\n",
      "node depth: 3\n",
      "5\n",
      "node depth: 3\n",
      "4\n",
      "node depth: 3\n",
      "3\n",
      "node depth: 3\n",
      "2\n",
      "node depth: 3\n",
      "1\n",
      "node depth: 3\n"
     ]
    }
   ],
   "source": [
    "# max_depth, min_node\n",
    "max_depth = 3\n",
    "min_node = 200\n",
    "\n",
    "root = Tree()\n",
    "root.data = data\n",
    "\n",
    "search_list = [root]\n",
    "\n",
    "# breadth first search\n",
    "while search_list:\n",
    "    print(len(search_list) )\n",
    "    node = search_list.pop(0)\n",
    "    # depth check\n",
    "    print('node depth: '+str(node.get_depth()))\n",
    "    if node.get_depth() >= max_depth:\n",
    "        continue\n",
    "    \n",
    "    # get gini based best split\n",
    "    column, feature, min_gini = test_split(node)\n",
    "    # divide according to split\n",
    "    left, right = get_split(node.data, column, feature)\n",
    "    \n",
    "    # node number check\n",
    "    print('left data: '+ str(left.data.shape[0]))\n",
    "    print('right data: '+ str(right.data.shape[0]))\n",
    "    \n",
    "    if left.data.shape[0] <= min_node | right.data.shape[0] <=min_node:\n",
    "        continue\n",
    "    \n",
    "    # set left and right of node\n",
    "    node.set_left(left)\n",
    "    node.set_right(right)\n",
    "    node.set_rule(column, feature)\n",
    "    \n",
    "    # append nodes\n",
    "    search_list.append(left)\n",
    "    search_list.append(right)"
   ]
  },
  {
   "cell_type": "code",
   "execution_count": 454,
   "metadata": {},
   "outputs": [
    {
     "data": {
      "text/plain": [
       "0      3\n",
       "1      1\n",
       "2      2\n",
       "3      1\n",
       "4      1\n",
       "5      1\n",
       "6      1\n",
       "7      4\n",
       "8      1\n",
       "9      1\n",
       "10     1\n",
       "11     1\n",
       "12     1\n",
       "13     2\n",
       "14     1\n",
       "15     1\n",
       "16     4\n",
       "17     1\n",
       "18     1\n",
       "19     1\n",
       "20     4\n",
       "21     1\n",
       "22     1\n",
       "23     1\n",
       "24     1\n",
       "25     1\n",
       "26     1\n",
       "27     1\n",
       "28     2\n",
       "29     1\n",
       "      ..\n",
       "970    4\n",
       "971    3\n",
       "972    1\n",
       "973    1\n",
       "974    1\n",
       "975    1\n",
       "976    3\n",
       "977    3\n",
       "978    1\n",
       "979    4\n",
       "980    1\n",
       "981    1\n",
       "982    4\n",
       "983    3\n",
       "984    1\n",
       "985    2\n",
       "986    2\n",
       "987    1\n",
       "988    4\n",
       "989    1\n",
       "990    1\n",
       "991    4\n",
       "992    3\n",
       "993    1\n",
       "994    1\n",
       "995    1\n",
       "996    1\n",
       "997    3\n",
       "998    1\n",
       "999    1\n",
       "Name: predict, Length: 1000, dtype: int64"
      ]
     },
     "execution_count": 454,
     "metadata": {},
     "output_type": "execute_result"
    }
   ],
   "source": [
    "pred"
   ]
  }
 ],
 "metadata": {
  "kernelspec": {
   "display_name": "Python 3",
   "language": "python",
   "name": "python3"
  },
  "language_info": {
   "codemirror_mode": {
    "name": "ipython",
    "version": 3
   },
   "file_extension": ".py",
   "mimetype": "text/x-python",
   "name": "python",
   "nbconvert_exporter": "python",
   "pygments_lexer": "ipython3",
   "version": "3.6.4"
  }
 },
 "nbformat": 4,
 "nbformat_minor": 2
}
