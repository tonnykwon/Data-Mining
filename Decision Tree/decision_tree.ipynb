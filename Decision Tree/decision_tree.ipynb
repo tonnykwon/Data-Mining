{
 "cells": [
  {
   "cell_type": "code",
   "execution_count": 1,
   "metadata": {},
   "outputs": [],
   "source": [
    "import pandas as pd\n",
    "import numpy as np"
   ]
  },
  {
   "cell_type": "markdown",
   "metadata": {},
   "source": [
    "## Read"
   ]
  },
  {
   "cell_type": "code",
   "execution_count": 2,
   "metadata": {},
   "outputs": [],
   "source": [
    "## read train data\n",
    "data = pd.read_table('training.txt', sep=' ', header=None)\n",
    "# name label\n",
    "data.rename(columns={0:'label'}, inplace=True)\n",
    "# sepearte labels\n",
    "label = data.iloc[:, 0]\n",
    "\n",
    "# remove index: from data\n",
    "data = data.iloc[:, 1:]\n",
    "data = data.iloc[:,1:].applymap(lambda x: x[x.find(':')+1:])\n",
    "\n",
    "# rename columns and merge label\n",
    "data.columns = list(range(data.shape[1]))\n",
    "data = data.join(label)\n",
    "# label: int, other columns: str"
   ]
  },
  {
   "cell_type": "code",
   "execution_count": 132,
   "metadata": {},
   "outputs": [],
   "source": [
    "## read test data\n",
    "test = pd.read_table('testing.txt', sep=' ', header=None)\n",
    "\n",
    "# remove index: from data\n",
    "test = test.applymap(lambda x: x[x.find(':')+1:])"
   ]
  },
  {
   "cell_type": "markdown",
   "metadata": {},
   "source": [
    "## Decision Tree"
   ]
  },
  {
   "cell_type": "code",
   "execution_count": null,
   "metadata": {},
   "outputs": [],
   "source": [
    "'''\n",
    "1.compute the entropy for data-set\n",
    "2.for every attribute/feature:\n",
    "       1.calculate entropy for all categorical values\n",
    "       2.take average information entropy for the current attribute\n",
    "       3.calculate gain for the current attribute\n",
    "3. pick the highest gain attribute.\n",
    "4. Repeat until we get the tree we desired.\n",
    "'''"
   ]
  },
  {
   "cell_type": "code",
   "execution_count": 83,
   "metadata": {},
   "outputs": [],
   "source": [
    "# create Tree class\n",
    "class Tree:\n",
    "    def __init__(self):\n",
    "        self.left = None\n",
    "        self.right = None\n",
    "        self.data = None\n",
    "        self.root = None\n",
    "        self.depth = 0\n",
    "        self.rule = None\n",
    "        \n",
    "    def get_depth(self):\n",
    "        if self.root == None:\n",
    "            return self.depth\n",
    "        else:\n",
    "            return self.root.get_depth()+1"
   ]
  },
  {
   "cell_type": "code",
   "execution_count": 52,
   "metadata": {},
   "outputs": [],
   "source": [
    "def get_gini(data, column, feature):\n",
    "    n = data.shape[0]\n",
    "    # counts of each attribute, each class(label) count\n",
    "    column_count = data.groupby(column)[column].count()\n",
    "    class_count = data.groupby([column, 'label'])[column].count()\n",
    "\n",
    "    # gini for left split\n",
    "    class_exclude = class_count.unstack().drop(index = feature).sum()\n",
    "    column_exclude = column_count.drop(index=feature).sum()\n",
    "    prob_exclude = class_exclude/column_exclude\n",
    "    ratio_exclude = column_exclude/n\n",
    "    gini_exclude = (1-np.sum((prob_exclude)**2))\n",
    "\n",
    "    # gini for right split\n",
    "    class_feature = class_count.unstack().loc[feature]\n",
    "    column_feature = column_count.loc[feature].sum()\n",
    "    prob_feature = class_feature/column_feature\n",
    "    ratio_feature = column_feature/n\n",
    "    gini_feature = (1-np.sum((prob_feature)**2))\n",
    "\n",
    "    # combine two gini index\n",
    "    gini = ratio_exclude*gini_exclude+ratio_feature*gini_feature\n",
    "    return gini"
   ]
  },
  {
   "cell_type": "markdown",
   "metadata": {},
   "source": [
    "## Root"
   ]
  },
  {
   "cell_type": "code",
   "execution_count": 97,
   "metadata": {
    "scrolled": true
   },
   "outputs": [
    {
     "name": "stdout",
     "output_type": "stream",
     "text": [
      "Wall time: 2.29 s\n"
     ]
    }
   ],
   "source": [
    "%%time\n",
    "train = data\n",
    "## calculate gini\n",
    "n = train.shape[0]\n",
    "gini_list = []\n",
    "\n",
    "# loop over columns except labels\n",
    "for column in train.iloc[:,:-1]:\n",
    "    for feature in np.unique(train[column]):\n",
    "        gini = get_gini(train, column, feature)\n",
    "        gini_list.append((column, feature, gini))"
   ]
  },
  {
   "cell_type": "code",
   "execution_count": 98,
   "metadata": {},
   "outputs": [],
   "source": [
    "# split tree\n",
    "column, feature, min_gini = min(gini_list, key=lambda x: x[2])\n",
    "left = data[data[column]==feature]\n",
    "right = data[data[column]!=feature]"
   ]
  },
  {
   "cell_type": "code",
   "execution_count": 99,
   "metadata": {},
   "outputs": [],
   "source": [
    "# tree\n",
    "root = Tree()\n",
    "root.rule = (column, feature)\n",
    "\n",
    "# left\n",
    "root.left = Tree()\n",
    "root.left.root = root\n",
    "root.left.data = left\n",
    "\n",
    "# right\n",
    "root.right = Tree()\n",
    "root.right.root = root\n",
    "root.right.data = right"
   ]
  },
  {
   "cell_type": "markdown",
   "metadata": {},
   "source": [
    "## Left"
   ]
  },
  {
   "cell_type": "code",
   "execution_count": 111,
   "metadata": {},
   "outputs": [
    {
     "name": "stdout",
     "output_type": "stream",
     "text": [
      "Wall time: 2.01 s\n"
     ]
    }
   ],
   "source": [
    "%%time\n",
    "train = root.left.data\n",
    "## calculate gini\n",
    "n = train.shape[0]\n",
    "gini_list = []\n",
    "\n",
    "# loop over columns except labels\n",
    "for column in train.iloc[:,:-1]:\n",
    "    for feature in np.unique(train[column]):\n",
    "        gini = get_gini(train, column, feature)\n",
    "        gini_list.append((column, feature, gini))"
   ]
  },
  {
   "cell_type": "code",
   "execution_count": 113,
   "metadata": {},
   "outputs": [],
   "source": [
    "# split tree\n",
    "column, feature, min_gini = min(gini_list, key=lambda x: x[2])\n",
    "left = train[train[column]==feature]\n",
    "right = train[train[column]!=feature]"
   ]
  },
  {
   "cell_type": "code",
   "execution_count": 117,
   "metadata": {},
   "outputs": [],
   "source": [
    "# tree\n",
    "root.left.rule = (column, feature)\n",
    "\n",
    "# left\n",
    "root.left.left = Tree()\n",
    "root.left.left.root = root.left\n",
    "root.left.left.data = left\n",
    "\n",
    "# right\n",
    "root.left.right = Tree()\n",
    "root.left.right.root = root.left\n",
    "root.left.right.data = right"
   ]
  },
  {
   "cell_type": "code",
   "execution_count": 124,
   "metadata": {},
   "outputs": [
    {
     "data": {
      "text/plain": [
       "label\n",
       "1    0.065574\n",
       "2    0.631148\n",
       "3    0.163934\n",
       "4    0.139344\n",
       "Name: 55, dtype: float64"
      ]
     },
     "execution_count": 124,
     "metadata": {},
     "output_type": "execute_result"
    }
   ],
   "source": [
    "lln = root.left.left.data.shape[0]\n",
    "root.left.left.data.groupby('label')[column].count()/lln"
   ]
  },
  {
   "cell_type": "code",
   "execution_count": 125,
   "metadata": {},
   "outputs": [
    {
     "data": {
      "text/plain": [
       "label\n",
       "1    0.117063\n",
       "2    0.277778\n",
       "3    0.107143\n",
       "4    0.498016\n",
       "Name: 55, dtype: float64"
      ]
     },
     "execution_count": 125,
     "metadata": {},
     "output_type": "execute_result"
    }
   ],
   "source": [
    "lrn = root.left.right.data.shape[0]\n",
    "root.left.right.data.groupby('label')[column].count()/lrn"
   ]
  },
  {
   "cell_type": "code",
   "execution_count": 126,
   "metadata": {},
   "outputs": [
    {
     "data": {
      "text/plain": [
       "label\n",
       "1    0.280118\n",
       "2    0.226622\n",
       "3    0.292334\n",
       "4    0.200927\n",
       "Name: 55, dtype: float64"
      ]
     },
     "execution_count": 126,
     "metadata": {},
     "output_type": "execute_result"
    }
   ],
   "source": [
    "rn = root.right.data.shape[0]\n",
    "root.right.data.groupby('label')[column].count()/rn"
   ]
  },
  {
   "cell_type": "markdown",
   "metadata": {},
   "source": [
    "## Predicition"
   ]
  },
  {
   "cell_type": "code",
   "execution_count": 175,
   "metadata": {},
   "outputs": [],
   "source": [
    "#split\n",
    "column, feature = root.rule\n",
    "# split tree\n",
    "left = test[test[column]==feature]\n",
    "right = test[test[column]!=feature]"
   ]
  },
  {
   "cell_type": "code",
   "execution_count": 176,
   "metadata": {},
   "outputs": [],
   "source": [
    "column, feature = root.left.rule\n",
    "# split left tree\n",
    "ll = left[left[column]==feature]\n",
    "lr = left[left[column]!=feature]"
   ]
  },
  {
   "cell_type": "code",
   "execution_count": 177,
   "metadata": {},
   "outputs": [],
   "source": [
    "test['label'] = None\n",
    "test.loc[right.index, 'label']=int(3)\n",
    "test.loc[ll.index, 'label']=int(2)\n",
    "test.loc[lr.index, 'label']=int(4)"
   ]
  },
  {
   "cell_type": "code",
   "execution_count": 178,
   "metadata": {},
   "outputs": [
    {
     "data": {
      "text/plain": [
       "194"
      ]
     },
     "execution_count": 178,
     "metadata": {},
     "output_type": "execute_result"
    }
   ],
   "source": [
    "lr.shape[0]+ll.shape[0]"
   ]
  },
  {
   "cell_type": "markdown",
   "metadata": {},
   "source": [
    "## Save"
   ]
  },
  {
   "cell_type": "code",
   "execution_count": 169,
   "metadata": {},
   "outputs": [],
   "source": [
    "with open('result.txt', 'w') as fp:\n",
    "    [fp.write(str(label)+'\\n') for label in  test.label]"
   ]
  },
  {
   "cell_type": "code",
   "execution_count": 15,
   "metadata": {},
   "outputs": [
    {
     "data": {
      "text/plain": [
       "0.7290673689858093"
      ]
     },
     "execution_count": 15,
     "metadata": {},
     "output_type": "execute_result"
    }
   ],
   "source": [
    "column = 71\n",
    "feature = '1'\n",
    "# counts of each attribute, each class(label) count\n",
    "column_count = data.groupby(column)[column].count()\n",
    "class_count = data.groupby([column, 'label'])[column].count()\n",
    "\n",
    "# gini for left split\n",
    "class_exclude = class_count.unstack().drop(index = feature).sum()\n",
    "column_exclude = column_count.drop(index=feature).sum()\n",
    "prob_exclude = class_exclude/column_exclude\n",
    "ratio_exclude = column_exclude/n\n",
    "gini_exclude = (1-np.sum((prob_exclude)**2))\n",
    "\n",
    "# gini for right split\n",
    "class_feature = class_count.unstack().loc[feature]\n",
    "column_feature = column_count.loc[feature].sum()\n",
    "prob_feature = class_feature/column_feature\n",
    "ratio_feature = column_feature/n\n",
    "gini_feature = (1-np.sum((prob_feature)**2))\n",
    "\n",
    "# combine two gini index\n",
    "gini = ratio_exclude*gini_exclude + ratio_feature*gini_feature\n",
    "gini_list.append(gini)"
   ]
  }
 ],
 "metadata": {
  "kernelspec": {
   "display_name": "Python 3",
   "language": "python",
   "name": "python3"
  },
  "language_info": {
   "codemirror_mode": {
    "name": "ipython",
    "version": 3
   },
   "file_extension": ".py",
   "mimetype": "text/x-python",
   "name": "python",
   "nbconvert_exporter": "python",
   "pygments_lexer": "ipython3",
   "version": "3.6.4"
  }
 },
 "nbformat": 4,
 "nbformat_minor": 2
}
