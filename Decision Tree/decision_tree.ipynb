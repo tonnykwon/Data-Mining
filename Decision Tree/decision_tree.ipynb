{
 "cells": [
  {
   "cell_type": "code",
   "execution_count": 1,
   "metadata": {},
   "outputs": [],
   "source": [
    "import pandas as pd\n",
    "import numpy as np"
   ]
  },
  {
   "cell_type": "markdown",
   "metadata": {},
   "source": [
    "## Read"
   ]
  },
  {
   "cell_type": "code",
   "execution_count": 76,
   "metadata": {},
   "outputs": [],
   "source": [
    "data = pd.read_table('training.txt', sep=' ', header=None)\n",
    "# name label\n",
    "data.rename(columns={0:'label'}, inplace=True)\n",
    "# sepearte labels\n",
    "label = data.iloc[:, 0]\n",
    "\n",
    "# remove index: from data\n",
    "data = data.iloc[:, 1:]\n",
    "data = data.iloc[:,1:].applymap(lambda x: x[x.find(':')+1:])"
   ]
  },
  {
   "cell_type": "code",
   "execution_count": 82,
   "metadata": {},
   "outputs": [],
   "source": [
    "# rename columns and merge label\n",
    "data.columns = list(range(data.shape[1]))\n",
    "data = data.join(label)\n",
    "# label: int, other columns: str"
   ]
  },
  {
   "cell_type": "markdown",
   "metadata": {},
   "source": [
    "## Decision Tree"
   ]
  },
  {
   "cell_type": "code",
   "execution_count": null,
   "metadata": {},
   "outputs": [],
   "source": [
    "'''\n",
    "1.compute the entropy for data-set\n",
    "2.for every attribute/feature:\n",
    "       1.calculate entropy for all categorical values\n",
    "       2.take average information entropy for the current attribute\n",
    "       3.calculate gain for the current attribute\n",
    "3. pick the highest gain attribute.\n",
    "4. Repeat until we get the tree we desired.\n",
    "'''"
   ]
  },
  {
   "cell_type": "code",
   "execution_count": 164,
   "metadata": {},
   "outputs": [],
   "source": [
    "# create Tree class\n",
    "class Tree:\n",
    "    def __init__(self):\n",
    "        self.left = None\n",
    "        self.right = None\n",
    "        self.data = None\n",
    "        self.root = None\n",
    "        self.depth = 0\n",
    "        \n",
    "    def get_depth(self):\n",
    "        if self.root == None:\n",
    "            return self.depth\n",
    "        else:\n",
    "            return self.root.get_depth()+1"
   ]
  },
  {
   "cell_type": "code",
   "execution_count": 170,
   "metadata": {},
   "outputs": [
    {
     "data": {
      "text/plain": [
       "2"
      ]
     },
     "execution_count": 170,
     "metadata": {},
     "output_type": "execute_result"
    }
   ],
   "source": [
    "# tree test\n",
    "root = Tree()\n",
    "left = Tree()\n",
    "left_left = Tree()\n",
    "right = Tree()\n",
    "\n",
    "# left\n",
    "root.left = left\n",
    "left.root = root\n",
    "\n",
    "# right\n",
    "root.right= right\n",
    "right.root = root\n",
    "\n",
    "# left left\n",
    "left.left = left_left\n",
    "left_left.root = left\n",
    "\n",
    "# test depth\n",
    "left_left.get_depth()"
   ]
  },
  {
   "cell_type": "code",
   "execution_count": 369,
   "metadata": {},
   "outputs": [],
   "source": [
    "def get_gini(data, column, feature):\n",
    "    column_count = data.groupby(column)[column].count()\n",
    "    class_count = data.groupby([column, 'label'])[column].count()\n",
    "\n",
    "    # case when specific feature selected\n",
    "    class_exclude = class_count.unstack().drop(index = feature).sum()\n",
    "    column_exclude = column_count.drop(index=feature).sum()\n",
    "    prob_exclude = class_exclude/column_exclude\n",
    "    ratio_exclude = column_exclude/n\n",
    "    gini_exclude = (1-np.sum((prob_exclude)**2))\n",
    "\n",
    "    class_feature = class_count.unstack().loc[feature]\n",
    "    column_feature = column_count.loc[feature].sum()\n",
    "    prob_feature = class_feature/column_feature\n",
    "    ratio_feature = column_feature/n\n",
    "    gini_feature = (1-np.sum((prob_feature)**2))\n",
    "    \n",
    "    gini = ratio_exclude*gini_exclude+ratio_feature*gini_feature\n",
    "    return gini"
   ]
  },
  {
   "cell_type": "code",
   "execution_count": 372,
   "metadata": {},
   "outputs": [
    {
     "data": {
      "text/plain": [
       "0.7479510176693738"
      ]
     },
     "execution_count": 372,
     "metadata": {},
     "output_type": "execute_result"
    }
   ],
   "source": [
    "get_gini(data, 20, '1')"
   ]
  },
  {
   "cell_type": "code",
   "execution_count": 375,
   "metadata": {
    "scrolled": true
   },
   "outputs": [
    {
     "name": "stdout",
     "output_type": "stream",
     "text": [
      "Wall time: 4.44 s\n"
     ]
    }
   ],
   "source": [
    "%%time\n",
    "# contain gini\n",
    "gini_list = []\n",
    "\n",
    "# loop over columns except labels\n",
    "for column in data.iloc[:,:-1]:\n",
    "    for feature in np.unique(data[column]):\n",
    "        # counts of each attribute, each class(label) count\n",
    "        column_count = data.groupby(column)[column].count()\n",
    "        class_count = data.groupby([column, 'label'])[column].count()\n",
    "\n",
    "        # case when specific feature selected\n",
    "        class_exclude = class_count.unstack().drop(index = feature).sum()\n",
    "        column_exclude = column_count.drop(index=feature).sum()\n",
    "        prob_exclude = class_exclude/column_exclude\n",
    "        ratio_exclude = column_exclude/n\n",
    "        gini_exclude = (1-np.sum((prob_exclude)**2))\n",
    "\n",
    "        class_feature = class_count.unstack().loc[feature]\n",
    "        column_feature = column_count.loc[feature].sum()\n",
    "        prob_feature = class_feature/column_feature\n",
    "\n",
    "        ratio_feature = column_feature/n\n",
    "        gini_feature = (1-np.sum((prob_feature)**2))\n",
    "\n",
    "        gini = ratio_exclude*gini_exclude+ratio_feature*gini_feature\n",
    "        gini_list.append(gini)"
   ]
  },
  {
   "cell_type": "code",
   "execution_count": 380,
   "metadata": {},
   "outputs": [
    {
     "data": {
      "text/plain": [
       "0.7290673689858093"
      ]
     },
     "execution_count": 380,
     "metadata": {},
     "output_type": "execute_result"
    }
   ],
   "source": [
    "column = 71\n",
    "feature = '1'\n",
    "column_count = data.groupby(column)[column].count()\n",
    "class_count = data.groupby([column, 'label'])[column].count()\n",
    "\n",
    "# case when specific feature selected\n",
    "class_exclude = class_count.unstack().drop(index = feature).sum()\n",
    "column_exclude = column_count.drop(index=feature).sum()\n",
    "prob_exclude = class_exclude/column_exclude\n",
    "ratio_exclude = column_exclude/n\n",
    "gini_exclude = (1-np.sum((prob_exclude)**2))\n",
    "\n",
    "class_feature = class_count.unstack().loc[feature]\n",
    "column_feature = column_count.loc[feature].sum()\n",
    "prob_feature = class_feature/column_feature\n",
    "ratio_feature = column_feature/n\n",
    "gini_feature = (1-np.sum((prob_feature)**2))\n",
    "\n",
    "gini = ratio_exclude*gini_exclude+ratio_feature*gini_feature\n",
    "gini"
   ]
  },
  {
   "cell_type": "code",
   "execution_count": 387,
   "metadata": {},
   "outputs": [
    {
     "data": {
      "text/plain": [
       "3  label\n",
       "1  1        169\n",
       "   2        128\n",
       "   3        154\n",
       "   4        155\n",
       "2  1        405\n",
       "   2        486\n",
       "   3        452\n",
       "   4        441\n",
       "3  1        158\n",
       "   2        141\n",
       "   3        162\n",
       "   4        149\n",
       "Name: 71, dtype: int64"
      ]
     },
     "execution_count": 387,
     "metadata": {},
     "output_type": "execute_result"
    }
   ],
   "source": [
    "data.groupby([3, 'label'])[71].count()"
   ]
  }
 ],
 "metadata": {
  "kernelspec": {
   "display_name": "Python 3",
   "language": "python",
   "name": "python3"
  },
  "language_info": {
   "codemirror_mode": {
    "name": "ipython",
    "version": 3
   },
   "file_extension": ".py",
   "mimetype": "text/x-python",
   "name": "python",
   "nbconvert_exporter": "python",
   "pygments_lexer": "ipython3",
   "version": "3.6.4"
  }
 },
 "nbformat": 4,
 "nbformat_minor": 2
}
