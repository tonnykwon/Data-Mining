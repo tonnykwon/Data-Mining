{
 "cells": [
  {
   "cell_type": "code",
   "execution_count": 1,
   "metadata": {},
   "outputs": [],
   "source": [
    "import pandas as pd\n",
    "import numpy as np"
   ]
  },
  {
   "cell_type": "code",
   "execution_count": 303,
   "metadata": {},
   "outputs": [
    {
     "ename": "NameError",
     "evalue": "name 'n' is not defined",
     "output_type": "error",
     "traceback": [
      "\u001b[1;31m---------------------------------------------------------------------------\u001b[0m",
      "\u001b[1;31mNameError\u001b[0m                                 Traceback (most recent call last)",
      "\u001b[1;32m<ipython-input-303-dd8eba9cfc04>\u001b[0m in \u001b[0;36m<module>\u001b[1;34m()\u001b[0m\n\u001b[0;32m      1\u001b[0m \u001b[1;32mfrom\u001b[0m \u001b[0mDecisionTree_recursive\u001b[0m \u001b[1;32mimport\u001b[0m \u001b[0mDecisionTree\u001b[0m\u001b[1;33m\u001b[0m\u001b[0m\n\u001b[0;32m      2\u001b[0m \u001b[0mdt\u001b[0m \u001b[1;33m=\u001b[0m \u001b[0mDecisionTree\u001b[0m\u001b[1;33m(\u001b[0m\u001b[0mmax_depth\u001b[0m \u001b[1;33m=\u001b[0m \u001b[1;36m20\u001b[0m\u001b[1;33m,\u001b[0m \u001b[0mmin_node\u001b[0m \u001b[1;33m=\u001b[0m \u001b[1;36m20\u001b[0m\u001b[1;33m,\u001b[0m \u001b[0mmin_leaf\u001b[0m\u001b[1;33m=\u001b[0m\u001b[1;36m10\u001b[0m\u001b[1;33m,\u001b[0m \u001b[0mthreshold\u001b[0m \u001b[1;33m=\u001b[0m \u001b[1;36m1e-3\u001b[0m\u001b[1;33m)\u001b[0m\u001b[1;33m\u001b[0m\u001b[0m\n\u001b[1;32m----> 3\u001b[1;33m \u001b[0mdt\u001b[0m\u001b[1;33m.\u001b[0m\u001b[0mbuild_tree\u001b[0m\u001b[1;33m(\u001b[0m\u001b[0mtrain_data\u001b[0m\u001b[1;33m,\u001b[0m \u001b[1;36m20\u001b[0m\u001b[1;33m,\u001b[0m \u001b[0mget_gini\u001b[0m\u001b[1;33m(\u001b[0m\u001b[0mtrain_data\u001b[0m\u001b[1;33m)\u001b[0m\u001b[1;33m)\u001b[0m\u001b[1;33m\u001b[0m\u001b[0m\n\u001b[0m",
      "\u001b[1;32m~\\Documents\\MCS\\CS412 Data Mining\\codes\\Decision Tree\\DecisionTree_recursive.py\u001b[0m in \u001b[0;36mbuild_tree\u001b[1;34m(self, data, depth, base_gini)\u001b[0m\n\u001b[0;32m     68\u001b[0m             \u001b[1;32mpass\u001b[0m\u001b[1;33m\u001b[0m\u001b[0m\n\u001b[0;32m     69\u001b[0m         \u001b[1;32melse\u001b[0m\u001b[1;33m:\u001b[0m\u001b[1;33m\u001b[0m\u001b[0m\n\u001b[1;32m---> 70\u001b[1;33m             \u001b[0mcolumn\u001b[0m\u001b[1;33m,\u001b[0m \u001b[0mfeature\u001b[0m\u001b[1;33m,\u001b[0m \u001b[0mmin_gini\u001b[0m \u001b[1;33m=\u001b[0m \u001b[0mself\u001b[0m\u001b[1;33m.\u001b[0m\u001b[0mfind_best_split\u001b[0m\u001b[1;33m(\u001b[0m\u001b[0mdata\u001b[0m\u001b[1;33m)\u001b[0m\u001b[1;33m\u001b[0m\u001b[0m\n\u001b[0m\u001b[0;32m     71\u001b[0m             \u001b[1;32mif\u001b[0m \u001b[1;32mnot\u001b[0m \u001b[0mmin_gini\u001b[0m\u001b[1;33m:\u001b[0m\u001b[1;33m\u001b[0m\u001b[0m\n\u001b[0;32m     72\u001b[0m                 \u001b[1;32mpass\u001b[0m\u001b[1;33m\u001b[0m\u001b[0m\n",
      "\u001b[1;32m~\\Documents\\MCS\\CS412 Data Mining\\codes\\Decision Tree\\DecisionTree_recursive.py\u001b[0m in \u001b[0;36mfind_best_split\u001b[1;34m(self, data)\u001b[0m\n\u001b[0;32m     49\u001b[0m                     \u001b[1;32mpass\u001b[0m\u001b[1;33m\u001b[0m\u001b[0m\n\u001b[0;32m     50\u001b[0m                 \u001b[1;32melif\u001b[0m \u001b[0mleft_n\u001b[0m \u001b[1;33m>\u001b[0m \u001b[0mmin_leaf\u001b[0m \u001b[1;32mand\u001b[0m \u001b[0mright_n\u001b[0m \u001b[1;33m>\u001b[0m \u001b[0mmin_leaf\u001b[0m\u001b[1;33m:\u001b[0m\u001b[1;33m\u001b[0m\u001b[0m\n\u001b[1;32m---> 51\u001b[1;33m                     \u001b[0mleft_ratio\u001b[0m \u001b[1;33m=\u001b[0m \u001b[0mleft_n\u001b[0m\u001b[1;33m/\u001b[0m\u001b[0mn\u001b[0m\u001b[1;33m\u001b[0m\u001b[0m\n\u001b[0m\u001b[0;32m     52\u001b[0m                     \u001b[0mright_ratio\u001b[0m \u001b[1;33m=\u001b[0m \u001b[0mright_n\u001b[0m\u001b[1;33m/\u001b[0m\u001b[0mn\u001b[0m\u001b[1;33m\u001b[0m\u001b[0m\n\u001b[0;32m     53\u001b[0m                     \u001b[0mgini\u001b[0m \u001b[1;33m=\u001b[0m \u001b[0mleft_ratio\u001b[0m\u001b[1;33m*\u001b[0m\u001b[0mself\u001b[0m\u001b[1;33m.\u001b[0m\u001b[0mget_gini\u001b[0m\u001b[1;33m(\u001b[0m\u001b[0mdata\u001b[0m\u001b[1;33m.\u001b[0m\u001b[0mloc\u001b[0m\u001b[1;33m[\u001b[0m\u001b[0mleft_idx\u001b[0m\u001b[1;33m,\u001b[0m\u001b[1;33m:\u001b[0m\u001b[1;33m]\u001b[0m\u001b[1;33m)\u001b[0m\u001b[1;33m+\u001b[0m\u001b[0mright_ratio\u001b[0m\u001b[1;33m*\u001b[0m\u001b[0mself\u001b[0m\u001b[1;33m.\u001b[0m\u001b[0mget_gini\u001b[0m\u001b[1;33m(\u001b[0m\u001b[0mdata\u001b[0m\u001b[1;33m.\u001b[0m\u001b[0mloc\u001b[0m\u001b[1;33m[\u001b[0m\u001b[0mright_idx\u001b[0m\u001b[1;33m,\u001b[0m \u001b[1;33m:\u001b[0m\u001b[1;33m]\u001b[0m\u001b[1;33m)\u001b[0m\u001b[1;33m\u001b[0m\u001b[0m\n",
      "\u001b[1;31mNameError\u001b[0m: name 'n' is not defined"
     ]
    }
   ],
   "source": [
    "from DecisionTree_recursive import DecisionTree\n",
    "dt = DecisionTree(max_depth = 20, min_node = 20, min_leaf=10, threshold = 1e-3)\n",
    "dt.build_tree(train_data, 20, get_gini(train_data))"
   ]
  },
  {
   "cell_type": "markdown",
   "metadata": {},
   "source": [
    "## Read"
   ]
  },
  {
   "cell_type": "code",
   "execution_count": 217,
   "metadata": {},
   "outputs": [],
   "source": [
    "## read train data\n",
    "data = pd.read_table('training.txt', sep=' ', header=None)\n",
    "# name label\n",
    "data.rename(columns={0:'label'}, inplace=True)\n",
    "# sepearte labels\n",
    "label = data.iloc[:, 0]\n",
    "\n",
    "# remove index: from data\n",
    "data = data.iloc[:, 1:].applymap(lambda x: x[x.find(':')+1:])\n",
    "data = data.astype(int)\n",
    "\n",
    "# rename columns and merge label\n",
    "data.columns = list(range(data.shape[1]))\n",
    "data = data.join(label)"
   ]
  },
  {
   "cell_type": "code",
   "execution_count": 221,
   "metadata": {},
   "outputs": [],
   "source": [
    "## read test data\n",
    "test = pd.read_table('testing.txt', sep=' ', header=None)\n",
    "\n",
    "# remove index: from data\n",
    "test = test.applymap(lambda x: x[x.find(':')+1:])\n",
    "test = test.astype(int)"
   ]
  },
  {
   "cell_type": "code",
   "execution_count": 62,
   "metadata": {},
   "outputs": [],
   "source": [
    "# train test split\n",
    "n = data.shape[0]\n",
    "idx = np.random.randint(0, n, int(n/20))\n",
    "val_data = data.iloc[idx,:]\n",
    "train_data = data.drop(idx)\n",
    "\n",
    "# data indexing\n",
    "train_data.index = range(0, train_data.shape[0])\n",
    "val_data.index = range(0, val_data.shape[0])"
   ]
  },
  {
   "cell_type": "markdown",
   "metadata": {},
   "source": [
    "## Decision Tree"
   ]
  },
  {
   "cell_type": "code",
   "execution_count": 342,
   "metadata": {},
   "outputs": [],
   "source": [
    "# Build tree\n",
    "def build_tree(data, depth, min_node, min_leaf, base_gini):\n",
    "    threshold = 3e-3\n",
    "    \n",
    "    if depth == 0 or data.shape[0] < min_node:\n",
    "        pass\n",
    "    else:\n",
    "        column, feature, min_gini = find_best_split(data, min_leaf)\n",
    "        if not min_gini:\n",
    "            pass\n",
    "        elif base_gini-min_gini > threshold:\n",
    "            left_idx, right_idx = data_split(data, column, feature)\n",
    "            left_label = get_label(data.loc[left_idx, :])\n",
    "            right_label = get_label(data.loc[right_idx, :])\n",
    "\n",
    "            tree = {}\n",
    "            tree[(column, feature, 'left', len(left_idx), left_label)] = build_tree(data.loc[left_idx, :], depth-1, min_node, min_leaf, min_gini)\n",
    "            tree[(column, feature, 'right', len(right_idx), right_label)] = build_tree(data.loc[right_idx, :], depth-1, min_node, min_leaf, min_gini)\n",
    "            \n",
    "            return tree\n",
    "        else:\n",
    "            pass\n"
   ]
  },
  {
   "cell_type": "code",
   "execution_count": 310,
   "metadata": {},
   "outputs": [],
   "source": [
    "## Predict\n",
    "def predict(data, tree):\n",
    "    train = data.copy()\n",
    "    tree_list = [(train ,tree)]\n",
    "    while tree_list:\n",
    "        train, tree_dict = tree_list.pop(0)\n",
    "        \n",
    "        for key, item in tree_dict.items():\n",
    "            if item is not None:\n",
    "                column, feature, side, number, label = key\n",
    "                #print(key)\n",
    "\n",
    "                # on left leaf\n",
    "                if side == 'left':\n",
    "                    left_idx, right_idx = data_split(train, column, feature)\n",
    "                    data.loc[left_idx, 'predict'] = label\n",
    "                    tree_list.append((data.loc[left_idx, :],item))\n",
    "\n",
    "                # on right leaf\n",
    "                else:\n",
    "                    left_idx, right_idx = data_split(train, column, feature)\n",
    "                    data.loc[right_idx, 'predict'] = label\n",
    "                    # append leaf\n",
    "                    tree_list.append((data.loc[right_idx, :], item))\n",
    "\n",
    "        \n",
    "    return 0"
   ]
  },
  {
   "cell_type": "code",
   "execution_count": 311,
   "metadata": {},
   "outputs": [],
   "source": [
    "def get_gini(data):\n",
    "    _, counts = np.unique(np.array(data.label), return_counts= True)\n",
    "    \n",
    "    return 1-np.sum(np.square(counts/data.shape[0]))"
   ]
  },
  {
   "cell_type": "code",
   "execution_count": 312,
   "metadata": {},
   "outputs": [],
   "source": [
    "def data_split(data, column, feature):\n",
    "    \n",
    "    left = data[column][data[column]==feature].index.values\n",
    "    right = data[column][data[column]!=feature].index.values\n",
    "    \n",
    "    return left, right"
   ]
  },
  {
   "cell_type": "code",
   "execution_count": 313,
   "metadata": {},
   "outputs": [],
   "source": [
    "def get_label(data):\n",
    "    label_count = data.groupby('label').label.count()\n",
    "    \n",
    "    return label_count.idxmax()"
   ]
  },
  {
   "cell_type": "code",
   "execution_count": 332,
   "metadata": {},
   "outputs": [],
   "source": [
    "def find_best_split(data, min_leaf):\n",
    "    subset_n = int(np.sqrt(data.shape[1])+1)\n",
    "    # exclude 'label' column\n",
    "    columns = np.random.choice(data.columns[:-1], size = subset_n, replace=False)\n",
    "    gini_list = []\n",
    "    # loop over columns except labels\n",
    "    for column in data.loc[:,columns]:\n",
    "        if column != 'label':\n",
    "            for feature in np.unique(data[column]):\n",
    "                left_idx, right_idx = data_split(data, column, feature)\n",
    "\n",
    "                # check if splits are smaller than min_leaf\n",
    "                left_n = len(left_idx)\n",
    "                right_n = len(right_idx)\n",
    "                if left_n <= min_leaf and right_n <= min_leaf:\n",
    "                    pass\n",
    "                elif left_n > min_leaf and right_n > min_leaf:\n",
    "                    left_ratio = left_n/n\n",
    "                    right_ratio = right_n/n\n",
    "                    gini = left_ratio*get_gini(data.loc[left_idx,:])+right_ratio*get_gini(data.loc[right_idx, :])\n",
    "                    gini_list.append((column, feature, gini))\n",
    "\n",
    "    if not gini_list:\n",
    "        return None, None, None\n",
    "    else:\n",
    "        return min(gini_list, key= lambda x: x[2])"
   ]
  },
  {
   "cell_type": "code",
   "execution_count": 343,
   "metadata": {},
   "outputs": [
    {
     "name": "stdout",
     "output_type": "stream",
     "text": [
      "Wall time: 43.4 s\n"
     ]
    }
   ],
   "source": [
    "%%time\n",
    "tree = build_tree(train_data, depth = 15, min_node = 10, min_leaf = 2, base_gini = get_gini(data))"
   ]
  },
  {
   "cell_type": "code",
   "execution_count": 344,
   "metadata": {},
   "outputs": [
    {
     "name": "stdout",
     "output_type": "stream",
     "text": [
      "(array([1, 2, 3, 4], dtype=int64), array([659, 723, 821, 653], dtype=int64))\n",
      "0.5826330532212886\n",
      "0.44666666666666666\n"
     ]
    }
   ],
   "source": [
    "train_data.predict = None\n",
    "pred = predict(train_data, tree)\n",
    "print(np.unique(train_data.predict, return_counts=True))\n",
    "print(np.mean(train_data.label==train_data.predict))\n",
    "pred = predict(val_data, tree)\n",
    "print(np.mean(val_data.label==val_data.predict))"
   ]
  },
  {
   "cell_type": "markdown",
   "metadata": {},
   "source": [
    "## Test set"
   ]
  },
  {
   "cell_type": "code",
   "execution_count": 345,
   "metadata": {},
   "outputs": [
    {
     "name": "stdout",
     "output_type": "stream",
     "text": [
      "Wall time: 46.2 s\n"
     ]
    }
   ],
   "source": [
    "%%time\n",
    "tree = build_tree(data, depth = 15, min_node = 10, min_leaf = 2, base_gini = get_gini(data))"
   ]
  },
  {
   "cell_type": "code",
   "execution_count": 346,
   "metadata": {},
   "outputs": [],
   "source": [
    "pred = predict(test, tree)"
   ]
  },
  {
   "cell_type": "markdown",
   "metadata": {},
   "source": [
    "## Save"
   ]
  },
  {
   "cell_type": "code",
   "execution_count": 347,
   "metadata": {},
   "outputs": [],
   "source": [
    "with open('result.txt', 'w') as fp:\n",
    "    [fp.write(str(int(predict))+'\\n') for predict in test.predict]"
   ]
  }
 ],
 "metadata": {
  "kernelspec": {
   "display_name": "Python 3",
   "language": "python",
   "name": "python3"
  },
  "language_info": {
   "codemirror_mode": {
    "name": "ipython",
    "version": 3
   },
   "file_extension": ".py",
   "mimetype": "text/x-python",
   "name": "python",
   "nbconvert_exporter": "python",
   "pygments_lexer": "ipython3",
   "version": "3.6.4"
  }
 },
 "nbformat": 4,
 "nbformat_minor": 2
}
