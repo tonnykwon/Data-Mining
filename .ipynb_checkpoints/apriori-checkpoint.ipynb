{
 "cells": [
  {
   "cell_type": "markdown",
   "metadata": {},
   "source": [
    "# Pattern Discovery MP1"
   ]
  },
  {
   "cell_type": "code",
   "execution_count": 160,
   "metadata": {},
   "outputs": [],
   "source": [
    "import pandas as pd\n",
    "import numpy as np\n",
    "from itertools import combinations\n",
    "from collections import Counter"
   ]
  },
  {
   "cell_type": "markdown",
   "metadata": {},
   "source": [
    "## Read"
   ]
  },
  {
   "cell_type": "code",
   "execution_count": 3,
   "metadata": {},
   "outputs": [
    {
     "data": {
      "text/plain": [
       "(77185, 1)"
      ]
     },
     "execution_count": 3,
     "metadata": {},
     "output_type": "execute_result"
    }
   ],
   "source": [
    "categories = pd.read_table('categories.txt', header=None, names=['category'])\n",
    "categories.shape"
   ]
  },
  {
   "cell_type": "markdown",
   "metadata": {},
   "source": [
    "## Apriori\n",
    "with join"
   ]
  },
  {
   "cell_type": "code",
   "execution_count": 164,
   "metadata": {},
   "outputs": [
    {
     "name": "stdout",
     "output_type": "stream",
     "text": [
      "scan done\n"
     ]
    }
   ],
   "source": [
    "## 1-len item\n",
    "# set minimum support\n",
    "sup = 0.01\n",
    "n = categories.shape[0]\n",
    "min_sup = np.floor(n*sup)\n",
    "\n",
    "# join: category data to list of categories and count items\n",
    "categories_list = categories.category.str.split(\";\")\n",
    "count = Counter(category for category_list in categories_list for category in category_list)\n",
    "\n",
    "# scan: for minimum counts\n",
    "scan = dict()\n",
    "[scan.update({key: value}) for key, value in count.items() if value > min_sup]\n",
    "print('scan done')"
   ]
  },
  {
   "cell_type": "code",
   "execution_count": 174,
   "metadata": {
    "scrolled": true
   },
   "outputs": [
    {
     "data": {
      "text/plain": [
       "{('Active Life', 'Fitness & Instruction'): 1442,\n",
       " ('American (New)', 'Restaurants'): 1593,\n",
       " ('American (Traditional)', 'Restaurants'): 2416,\n",
       " ('Auto Repair', 'Automotive'): 1716,\n",
       " ('Bakeries', 'Food'): 1115,\n",
       " ('Bars', 'Nightlife'): 4328,\n",
       " ('Bars', 'Pubs'): 874,\n",
       " ('Bars', 'Restaurants'): 2423,\n",
       " ('Bars', 'Sports Bars'): 818,\n",
       " ('Beauty & Spas', 'Hair Salons'): 2091,\n",
       " ('Beauty & Spas', 'Nail Salons'): 1667,\n",
       " ('Breakfast & Brunch', 'Restaurants'): 1369,\n",
       " ('Burgers', 'Fast Food'): 774,\n",
       " ('Burgers', 'Restaurants'): 1774,\n",
       " ('Cafes', 'Restaurants'): 1002,\n",
       " ('Chinese', 'Restaurants'): 1629,\n",
       " ('Coffee & Tea', 'Food'): 2199,\n",
       " ('Dentists', 'General Dentistry'): 823,\n",
       " ('Dentists', 'Health & Medical'): 1195,\n",
       " ('Doctors', 'Health & Medical'): 1694,\n",
       " ('Event Planning & Services', 'Hotels'): 1431,\n",
       " ('Event Planning & Services', 'Hotels & Travel'): 1471,\n",
       " ('Fashion', 'Shopping'): 3078,\n",
       " ('Fashion', \"Women's Clothing\"): 1138,\n",
       " ('Fast Food', 'Restaurants'): 2851,\n",
       " ('Food', 'Grocery'): 1424,\n",
       " ('Food', 'Ice Cream & Frozen Yogurt'): 1018,\n",
       " ('Food', 'Restaurants'): 2101,\n",
       " ('Food', 'Specialty Food'): 1150,\n",
       " ('General Dentistry', 'Health & Medical'): 823,\n",
       " ('Home & Garden', 'Shopping'): 1586,\n",
       " ('Home Services', 'Real Estate'): 1424,\n",
       " ('Hotels', 'Hotels & Travel'): 1431,\n",
       " ('Italian', 'Restaurants'): 1848,\n",
       " ('Japanese', 'Restaurants'): 848,\n",
       " ('Mexican', 'Restaurants'): 2515,\n",
       " ('Nightlife', 'Pubs'): 874,\n",
       " ('Nightlife', 'Restaurants'): 2533,\n",
       " ('Nightlife', 'Sports Bars'): 818,\n",
       " ('Pet Services', 'Pets'): 870,\n",
       " ('Pizza', 'Restaurants'): 2657,\n",
       " ('Restaurants', 'Sandwiches'): 2364,\n",
       " ('Restaurants', 'Sushi Bars'): 798,\n",
       " ('Shopping', \"Women's Clothing\"): 1138}"
      ]
     },
     "execution_count": 174,
     "metadata": {},
     "output_type": "execute_result"
    }
   ],
   "source": [
    "## 2-len items\n",
    "# self- join and count\n",
    "join = list(combinations(scan.keys(), 2))\n",
    "count = Counter(tuple(sorted(comb)) for category_list in categories_list for comb in combinations(category_list, 2))\n",
    "\n",
    "# scan\n",
    "scan2 = dict()\n",
    "[scan2.update({key: value}) for key, value in count.items() for item in join if set(key) == set(item) and value > min_sup]"
   ]
  },
  {
   "cell_type": "code",
   "execution_count": 175,
   "metadata": {},
   "outputs": [
    {
     "data": {
      "text/plain": [
       "{('Bars', 'Nightlife', 'Pubs'): 874,\n",
       " ('Bars', 'Nightlife', 'Restaurants'): 2423,\n",
       " ('Bars', 'Nightlife', 'Sports Bars'): 818,\n",
       " ('Burgers', 'Fast Food', 'Restaurants'): 774,\n",
       " ('Dentists', 'General Dentistry', 'Health & Medical'): 823,\n",
       " ('Event Planning & Services', 'Hotels', 'Hotels & Travel'): 1431,\n",
       " ('Fashion', 'Shopping', \"Women's Clothing\"): 1138}"
      ]
     },
     "execution_count": 175,
     "metadata": {},
     "output_type": "execute_result"
    }
   ],
   "source": [
    "## 3-len items\n",
    "k = 3\n",
    "# self-join(k-2 match)\n",
    "len(scan2.keys())\n",
    "join = [set(key).union(set(key2))  for key in scan2.keys() for key2 in scan2.keys() if len(set(key).intersection(set(key2)))>= k-2 and key !=key2 ]\n",
    "join = np.unique(join)\n",
    "# count\n",
    "count = Counter(tuple(sorted(comb)) for category_list in categories_list for comb in  combinations(category_list, k))\n",
    "\n",
    "# scan\n",
    "scan3 = dict()\n",
    "[scan3.update({key: value}) for key, value in count.items() for item in join if set(key) == item and value>min_sup]\n",
    "scan3"
   ]
  },
  {
   "cell_type": "code",
   "execution_count": 176,
   "metadata": {},
   "outputs": [],
   "source": [
    "# combine scan dictionary\n",
    "scan.update(scan2)\n",
    "scan.update(scan3)"
   ]
  },
  {
   "cell_type": "code",
   "execution_count": 177,
   "metadata": {},
   "outputs": [],
   "source": [
    "# save file\n",
    "with open('patterns2.txt', 'w') as file:\n",
    "    for key, value in scan.items():\n",
    "        if type(key) is str:\n",
    "            file.write(str(value)+\":\"+key+'\\n')\n",
    "        else:\n",
    "            file.write(str(value)+':'+';'.join(key)+'\\n')"
   ]
  },
  {
   "cell_type": "markdown",
   "metadata": {},
   "source": [
    "## Apriori\n",
    "without join"
   ]
  },
  {
   "cell_type": "code",
   "execution_count": 178,
   "metadata": {},
   "outputs": [],
   "source": [
    "def apriori(data, sup = 0.01):\n",
    "    # set minimum support\n",
    "    n = data.shape[0]\n",
    "    min_sup = np.floor(n*sup)\n",
    "\n",
    "    # to list of sets\n",
    "    categories_list = [set(category_list) for category_list in data.category.str.split(';')]\n",
    "    \n",
    "    # result container\n",
    "    rules = dict()\n",
    "    \n",
    "    i = 1\n",
    "    while(True):\n",
    "        # get join of categories_list\n",
    "        # sort in alphabetic order\n",
    "        join = Counter(tuple(sorted(comb)) for category_list in categories_list for comb in combinations(category_list, i))\n",
    "        [rules.update({key: value}) for key, value in join.items() if value > min_sup]\n",
    "        i += 1\n",
    "        if all([value < min_sup for value in list(join.values())]):\n",
    "            break\n",
    "    return rules"
   ]
  },
  {
   "cell_type": "code",
   "execution_count": 180,
   "metadata": {},
   "outputs": [
    {
     "data": {
      "text/plain": [
       "{('Active Life',): 3103,\n",
       " ('Active Life', 'Fitness & Instruction'): 1442,\n",
       " ('American (New)',): 1593,\n",
       " ('American (New)', 'Restaurants'): 1593,\n",
       " ('American (Traditional)',): 2416,\n",
       " ('American (Traditional)', 'Restaurants'): 2416,\n",
       " ('Arts & Entertainment',): 2271,\n",
       " ('Auto Repair',): 1716,\n",
       " ('Auto Repair', 'Automotive'): 1716,\n",
       " ('Automotive',): 4208,\n",
       " ('Bakeries',): 1115,\n",
       " ('Bakeries', 'Food'): 1115,\n",
       " ('Bars',): 4328,\n",
       " ('Bars', 'Nightlife'): 4328,\n",
       " ('Bars', 'Nightlife', 'Pubs'): 874,\n",
       " ('Bars', 'Nightlife', 'Restaurants'): 2423,\n",
       " ('Bars', 'Nightlife', 'Sports Bars'): 818,\n",
       " ('Bars', 'Pubs'): 874,\n",
       " ('Bars', 'Restaurants'): 2423,\n",
       " ('Bars', 'Sports Bars'): 818,\n",
       " ('Beauty & Spas',): 6583,\n",
       " ('Beauty & Spas', 'Hair Salons'): 2091,\n",
       " ('Beauty & Spas', 'Nail Salons'): 1667,\n",
       " ('Breakfast & Brunch',): 1369,\n",
       " ('Breakfast & Brunch', 'Restaurants'): 1369,\n",
       " ('Burgers',): 1774,\n",
       " ('Burgers', 'Fast Food'): 774,\n",
       " ('Burgers', 'Fast Food', 'Restaurants'): 774,\n",
       " ('Burgers', 'Restaurants'): 1774,\n",
       " ('Cafes',): 1002,\n",
       " ('Cafes', 'Restaurants'): 1002,\n",
       " ('Chinese',): 1629,\n",
       " ('Chinese', 'Restaurants'): 1629,\n",
       " ('Coffee & Tea',): 2199,\n",
       " ('Coffee & Tea', 'Food'): 2199,\n",
       " ('Dentists',): 1195,\n",
       " ('Dentists', 'General Dentistry'): 823,\n",
       " ('Dentists', 'General Dentistry', 'Health & Medical'): 823,\n",
       " ('Dentists', 'Health & Medical'): 1195,\n",
       " ('Doctors',): 1694,\n",
       " ('Doctors', 'Health & Medical'): 1694,\n",
       " ('Event Planning & Services',): 2975,\n",
       " ('Event Planning & Services', 'Hotels'): 1431,\n",
       " ('Event Planning & Services', 'Hotels', 'Hotels & Travel'): 1431,\n",
       " ('Event Planning & Services', 'Hotels & Travel'): 1471,\n",
       " ('Fashion',): 3078,\n",
       " ('Fashion', 'Shopping'): 3078,\n",
       " ('Fashion', 'Shopping', \"Women's Clothing\"): 1138,\n",
       " ('Fashion', \"Women's Clothing\"): 1138,\n",
       " ('Fast Food',): 2851,\n",
       " ('Fast Food', 'Restaurants'): 2851,\n",
       " ('Financial Services',): 875,\n",
       " ('Fitness & Instruction',): 1442,\n",
       " ('Food',): 9250,\n",
       " ('Food', 'Grocery'): 1424,\n",
       " ('Food', 'Ice Cream & Frozen Yogurt'): 1018,\n",
       " ('Food', 'Restaurants'): 2101,\n",
       " ('Food', 'Specialty Food'): 1150,\n",
       " ('General Dentistry',): 823,\n",
       " ('General Dentistry', 'Health & Medical'): 823,\n",
       " ('Grocery',): 1424,\n",
       " ('Hair Salons',): 2091,\n",
       " ('Health & Medical',): 5121,\n",
       " ('Home & Garden',): 1586,\n",
       " ('Home & Garden', 'Shopping'): 1586,\n",
       " ('Home Services',): 4785,\n",
       " ('Home Services', 'Real Estate'): 1424,\n",
       " ('Hotels',): 1431,\n",
       " ('Hotels', 'Hotels & Travel'): 1431,\n",
       " ('Hotels & Travel',): 2495,\n",
       " ('Ice Cream & Frozen Yogurt',): 1018,\n",
       " ('Italian',): 1848,\n",
       " ('Italian', 'Restaurants'): 1848,\n",
       " ('Japanese',): 848,\n",
       " ('Japanese', 'Restaurants'): 848,\n",
       " ('Local Services',): 3468,\n",
       " ('Mexican',): 2515,\n",
       " ('Mexican', 'Restaurants'): 2515,\n",
       " ('Nail Salons',): 1667,\n",
       " ('Nightlife',): 5088,\n",
       " ('Nightlife', 'Pubs'): 874,\n",
       " ('Nightlife', 'Restaurants'): 2533,\n",
       " ('Nightlife', 'Sports Bars'): 818,\n",
       " ('Pet Services',): 870,\n",
       " ('Pet Services', 'Pets'): 870,\n",
       " ('Pets',): 1497,\n",
       " ('Pizza',): 2657,\n",
       " ('Pizza', 'Restaurants'): 2657,\n",
       " ('Professional Services',): 1025,\n",
       " ('Pubs',): 874,\n",
       " ('Real Estate',): 1424,\n",
       " ('Restaurants',): 25071,\n",
       " ('Restaurants', 'Sandwiches'): 2364,\n",
       " ('Restaurants', 'Sushi Bars'): 798,\n",
       " ('Sandwiches',): 2364,\n",
       " ('Shopping',): 11233,\n",
       " ('Shopping', \"Women's Clothing\"): 1138,\n",
       " ('Specialty Food',): 1150,\n",
       " ('Sports Bars',): 818,\n",
       " ('Sushi Bars',): 798,\n",
       " (\"Women's Clothing\",): 1138}"
      ]
     },
     "execution_count": 180,
     "metadata": {},
     "output_type": "execute_result"
    }
   ],
   "source": [
    "%%time\n",
    "rules = apriori(categories)"
   ]
  },
  {
   "cell_type": "code",
   "execution_count": null,
   "metadata": {},
   "outputs": [],
   "source": [
    "# Part 1\n",
    "keys = list(zip(*rules.items()))[0]\n",
    "keys = [key for key in keys if len(key)==1]\n",
    "\n",
    "one_rules = dict()\n",
    "for key in keys:\n",
    "    one_rules.update({key: rules.get(key)})"
   ]
  },
  {
   "cell_type": "code",
   "execution_count": null,
   "metadata": {},
   "outputs": [],
   "source": [
    "# save\n",
    "with open('patterns1.txt', 'w') as file:\n",
    "    for key, value in one_rules.items():\n",
    "        file.write(str(value) + \":\" + str(key[0])+'\\n')"
   ]
  },
  {
   "cell_type": "code",
   "execution_count": 181,
   "metadata": {},
   "outputs": [],
   "source": [
    "# save Part 2\n",
    "with open('patterns.txt', 'w') as file:\n",
    "    for key, value in rules.items():\n",
    "        file.write(str(value)+':'+';'.join(key) +'\\n')"
   ]
  }
 ],
 "metadata": {
  "kernelspec": {
   "display_name": "Python 3",
   "language": "python",
   "name": "python3"
  },
  "language_info": {
   "codemirror_mode": {
    "name": "ipython",
    "version": 3
   },
   "file_extension": ".py",
   "mimetype": "text/x-python",
   "name": "python",
   "nbconvert_exporter": "python",
   "pygments_lexer": "ipython3",
   "version": "3.6.4"
  }
 },
 "nbformat": 4,
 "nbformat_minor": 2
}
