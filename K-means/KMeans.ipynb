{
 "cells": [
  {
   "cell_type": "code",
   "execution_count": 98,
   "metadata": {},
   "outputs": [],
   "source": [
    "import pandas as pd\n",
    "import numpy as np\n",
    "import matplotlib.pyplot as plt"
   ]
  },
  {
   "cell_type": "markdown",
   "metadata": {},
   "source": [
    "## Read"
   ]
  },
  {
   "cell_type": "code",
   "execution_count": 114,
   "metadata": {},
   "outputs": [
    {
     "data": {
      "text/plain": [
       "(300, 2)"
      ]
     },
     "execution_count": 114,
     "metadata": {},
     "output_type": "execute_result"
    }
   ],
   "source": [
    "data = pd.read_table('places.txt', header=None, delimiter=',')\n",
    "data.shape"
   ]
  },
  {
   "cell_type": "code",
   "execution_count": 159,
   "metadata": {},
   "outputs": [
    {
     "data": {
      "text/html": [
       "<div>\n",
       "<style scoped>\n",
       "    .dataframe tbody tr th:only-of-type {\n",
       "        vertical-align: middle;\n",
       "    }\n",
       "\n",
       "    .dataframe tbody tr th {\n",
       "        vertical-align: top;\n",
       "    }\n",
       "\n",
       "    .dataframe thead th {\n",
       "        text-align: right;\n",
       "    }\n",
       "</style>\n",
       "<table border=\"1\" class=\"dataframe\">\n",
       "  <thead>\n",
       "    <tr style=\"text-align: right;\">\n",
       "      <th></th>\n",
       "      <th>0</th>\n",
       "      <th>1</th>\n",
       "    </tr>\n",
       "  </thead>\n",
       "  <tbody>\n",
       "    <tr>\n",
       "      <th>0</th>\n",
       "      <td>-112.074866</td>\n",
       "      <td>33.470116</td>\n",
       "    </tr>\n",
       "    <tr>\n",
       "      <th>1</th>\n",
       "      <td>-80.525690</td>\n",
       "      <td>43.477099</td>\n",
       "    </tr>\n",
       "    <tr>\n",
       "      <th>2</th>\n",
       "      <td>-80.526641</td>\n",
       "      <td>43.485875</td>\n",
       "    </tr>\n",
       "    <tr>\n",
       "      <th>3</th>\n",
       "      <td>-80.846495</td>\n",
       "      <td>35.225825</td>\n",
       "    </tr>\n",
       "    <tr>\n",
       "      <th>4</th>\n",
       "      <td>-112.074428</td>\n",
       "      <td>33.448491</td>\n",
       "    </tr>\n",
       "    <tr>\n",
       "      <th>5</th>\n",
       "      <td>-112.073101</td>\n",
       "      <td>33.429907</td>\n",
       "    </tr>\n",
       "    <tr>\n",
       "      <th>6</th>\n",
       "      <td>-80.839636</td>\n",
       "      <td>35.227054</td>\n",
       "    </tr>\n",
       "  </tbody>\n",
       "</table>\n",
       "</div>"
      ],
      "text/plain": [
       "            0          1\n",
       "0 -112.074866  33.470116\n",
       "1  -80.525690  43.477099\n",
       "2  -80.526641  43.485875\n",
       "3  -80.846495  35.225825\n",
       "4 -112.074428  33.448491\n",
       "5 -112.073101  33.429907\n",
       "6  -80.839636  35.227054"
      ]
     },
     "execution_count": 159,
     "metadata": {},
     "output_type": "execute_result"
    }
   ],
   "source": [
    "test = pd.read_table('test.txt', header=None, delimiter=',')\n",
    "test"
   ]
  },
  {
   "cell_type": "markdown",
   "metadata": {},
   "source": [
    "## Kmeans"
   ]
  },
  {
   "cell_type": "code",
   "execution_count": 115,
   "metadata": {},
   "outputs": [],
   "source": [
    "def init(data, k):\n",
    "    # set k points by sampling from data\n",
    "    return data.sample(k)"
   ]
  },
  {
   "cell_type": "code",
   "execution_count": 137,
   "metadata": {},
   "outputs": [],
   "source": [
    "def kmeans(train, k, steps = 100):\n",
    "    # get k clusterings\n",
    "    data = train.copy()\n",
    "    \n",
    "    # get initial points\n",
    "    clusters = init(data, k)\n",
    "    \n",
    "    # iterate steps\n",
    "    for idx in np.arange(steps):\n",
    "        # calculate distance\n",
    "        D2_list = []\n",
    "        for i in np.arange(k):\n",
    "            D2 = np.sum(np.subtract(data.iloc[:,:2],np.array(clusters.iloc[i]))**2,1)\n",
    "            D2_list.append(D2)\n",
    "        D2 = pd.concat(D2_list, axis=1)\n",
    "\n",
    "        # get labels for each data points\n",
    "        labels = np.argmin(np.array(D2), 1)\n",
    "        data['label']=labels\n",
    "\n",
    "        # recalculate clusters\n",
    "        clusters = data.groupby('label').mean()\n",
    "        # for every 10 steps plot\n",
    "        if idx %10 ==0:\n",
    "            print(clusters)\n",
    "            plt.scatter(data[0], data[1], c=data.label)\n",
    "            plt.scatter(clusters[0], clusters[1], c=clusters.index)\n",
    "            plt.show()\n",
    "        \n",
    "    return data, clusters"
   ]
  },
  {
   "cell_type": "code",
   "execution_count": 160,
   "metadata": {},
   "outputs": [
    {
     "name": "stdout",
     "output_type": "stream",
     "text": [
      "               0          1\n",
      "label                      \n",
      "0     -99.581705  34.160279\n",
      "1     -80.525690  43.477099\n",
      "2     -80.526641  43.485875\n"
     ]
    },
    {
     "data": {
      "image/png": "[encoded data removed]",
      "text/plain": [
       "<matplotlib.figure.Figure at 0x19b2fd05780>"
      ]
     },
     "metadata": {},
     "output_type": "display_data"
    },
    {
     "name": "stdout",
     "output_type": "stream",
     "text": [
      "                0          1\n",
      "label                       \n",
      "0     -112.074131  33.449504\n",
      "1      -80.843065  35.226440\n",
      "2      -80.526166  43.481487\n"
     ]
    },
    {
     "data": {
      "image/png": "[encoded data removed]",
      "text/plain": [
       "<matplotlib.figure.Figure at 0x19b2fcf87f0>"
      ]
     },
     "metadata": {},
     "output_type": "display_data"
    },
    {
     "name": "stdout",
     "output_type": "stream",
     "text": [
      "                0          1\n",
      "label                       \n",
      "0     -112.074131  33.449504\n",
      "1      -80.843065  35.226440\n",
      "2      -80.526166  43.481487\n"
     ]
    },
    {
     "data": {
      "image/png": "[encoded data removed]",
      "text/plain": [
       "<matplotlib.figure.Figure at 0x19b2fccf0f0>"
      ]
     },
     "metadata": {},
     "output_type": "display_data"
    },
    {
     "name": "stdout",
     "output_type": "stream",
     "text": [
      "                0          1\n",
      "label                       \n",
      "0     -112.074131  33.449504\n",
      "1      -80.843065  35.226440\n",
      "2      -80.526166  43.481487\n"
     ]
    },
    {
     "data": {
      "image/png": "[encoded data removed]",
      "text/plain": [
       "<matplotlib.figure.Figure at 0x19b2fe3c668>"
      ]
     },
     "metadata": {},
     "output_type": "display_data"
    },
    {
     "name": "stdout",
     "output_type": "stream",
     "text": [
      "                0          1\n",
      "label                       \n",
      "0     -112.074131  33.449504\n",
      "1      -80.843065  35.226440\n",
      "2      -80.526166  43.481487\n"
     ]
    },
    {
     "data": {
      "image/png": "[encoded data removed]",
      "text/plain": [
       "<matplotlib.figure.Figure at 0x19b2fea0550>"
      ]
     },
     "metadata": {},
     "output_type": "display_data"
    },
    {
     "name": "stdout",
     "output_type": "stream",
     "text": [
      "                0          1\n",
      "label                       \n",
      "0     -112.074131  33.449504\n",
      "1      -80.843065  35.226440\n",
      "2      -80.526166  43.481487\n"
     ]
    },
    {
     "data": {
      "image/png": "[encoded data removed]",
      "text/plain": [
       "<matplotlib.figure.Figure at 0x19b2fe2f240>"
      ]
     },
     "metadata": {},
     "output_type": "display_data"
    },
    {
     "name": "stdout",
     "output_type": "stream",
     "text": [
      "                0          1\n",
      "label                       \n",
      "0     -112.074131  33.449504\n",
      "1      -80.843065  35.226440\n",
      "2      -80.526166  43.481487\n"
     ]
    },
    {
     "data": {
      "image/png": "[encoded data removed]",
      "text/plain": [
       "<matplotlib.figure.Figure at 0x19b2fcf8eb8>"
      ]
     },
     "metadata": {},
     "output_type": "display_data"
    },
    {
     "name": "stdout",
     "output_type": "stream",
     "text": [
      "                0          1\n",
      "label                       \n",
      "0     -112.074131  33.449504\n",
      "1      -80.843065  35.226440\n",
      "2      -80.526166  43.481487\n"
     ]
    },
    {
     "data": {
      "image/png": "[encoded data removed]",
      "text/plain": [
       "<matplotlib.figure.Figure at 0x19b2fc6de48>"
      ]
     },
     "metadata": {},
     "output_type": "display_data"
    },
    {
     "name": "stdout",
     "output_type": "stream",
     "text": [
      "                0          1\n",
      "label                       \n",
      "0     -112.074131  33.449504\n",
      "1      -80.843065  35.226440\n",
      "2      -80.526166  43.481487\n"
     ]
    },
    {
     "data": {
      "image/png": "[encoded data removed]",
      "text/plain": [
       "<matplotlib.figure.Figure at 0x19b2fdf3ac8>"
      ]
     },
     "metadata": {},
     "output_type": "display_data"
    },
    {
     "name": "stdout",
     "output_type": "stream",
     "text": [
      "                0          1\n",
      "label                       \n",
      "0     -112.074131  33.449504\n",
      "1      -80.843065  35.226440\n",
      "2      -80.526166  43.481487\n"
     ]
    },
    {
     "data": {
      "image/png": "[encoded data removed]",
      "text/plain": [
       "<matplotlib.figure.Figure at 0x19b2fc0f748>"
      ]
     },
     "metadata": {},
     "output_type": "display_data"
    }
   ],
   "source": [
    "result,_= kmeans(test, 3)"
   ]
  },
  {
   "cell_type": "markdown",
   "metadata": {},
   "source": [
    "## Save"
   ]
  },
  {
   "cell_type": "code",
   "execution_count": 157,
   "metadata": {},
   "outputs": [],
   "source": [
    "with open('clusters.txt', 'w') as file:\n",
    "    for i in np.arange(result.shape[0]):\n",
    "        file.write(str(i)+' '+ str(int(result.loc[i].label) )+\"\\n\")"
   ]
  }
 ],
 "metadata": {
  "kernelspec": {
   "display_name": "Python 3",
   "language": "python",
   "name": "python3"
  },
  "language_info": {
   "codemirror_mode": {
    "name": "ipython",
    "version": 3
   },
   "file_extension": ".py",
   "mimetype": "text/x-python",
   "name": "python",
   "nbconvert_exporter": "python",
   "pygments_lexer": "ipython3",
   "version": "3.6.4"
  }
 },
 "nbformat": 4,
 "nbformat_minor": 2
}
