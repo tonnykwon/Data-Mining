{
 "cells": [
  {
   "cell_type": "code",
   "execution_count": 1,
   "metadata": {},
   "outputs": [],
   "source": [
    "import numpy as np\n",
    "import pandas as pd\n",
    "import glob"
   ]
  },
  {
   "cell_type": "markdown",
   "metadata": {},
   "source": [
    "## Read"
   ]
  },
  {
   "cell_type": "code",
   "execution_count": 134,
   "metadata": {},
   "outputs": [],
   "source": [
    "path_list = glob.glob('data/cluster*')"
   ]
  },
  {
   "cell_type": "code",
   "execution_count": 136,
   "metadata": {},
   "outputs": [],
   "source": [
    "# read partition data\n",
    "partitions = pd.read_table('data/partitions.txt', sep =' ', header=None, index_col=0)\n",
    "partitions.columns = ['partition']\n",
    "\n",
    "# read clustering and partitions data\n",
    "data_list = []\n",
    "for path in path_list:\n",
    "    clustering = pd.read_table(path, sep=' ', header=None, index_col=0)\n",
    "    clustering.columns = ['cluster']\n",
    "    \n",
    "    # merge partition and clustering\n",
    "    data = partitions.merge(clustering, left_index=True, right_index=True)\n",
    "    data_list.append(data)"
   ]
  },
  {
   "cell_type": "markdown",
   "metadata": {},
   "source": [
    "## Prob"
   ]
  },
  {
   "cell_type": "code",
   "execution_count": 209,
   "metadata": {},
   "outputs": [],
   "source": [
    "def cal_nmi(data):\n",
    "    n = data.shape[0]\n",
    "    \n",
    "    # create partition x cluster prob matrix\n",
    "    unique_partition = np.unique(data.partition)\n",
    "    unique_cluster = np.unique(data.cluster)\n",
    "\n",
    "    pij = np.zeros([len(unique_partition), len(unique_cluster)])\n",
    "    \n",
    "    # calculate pij for each cluster\n",
    "    pij_pd = (data.groupby(['cluster','partition']).size().to_frame('count')/n).reset_index() #.reset_index()\n",
    "\n",
    "    # the probability of getting cluter i: #ni/n\n",
    "    pci = data.groupby('cluster').count()/n\n",
    "\n",
    "    # the probability of getting partition j : #nj/n\n",
    "    ptj = data.groupby('partition').count()/n\n",
    "    \n",
    "    # fill prob matrix\n",
    "    for partition in unique_partition:\n",
    "        for cluster in unique_cluster:\n",
    "            count = pij_pd.iloc[np.where((pij_pd.partition==partition) & (pij_pd.cluster==cluster))]['count']\n",
    "            if len(count)>0:\n",
    "                pij[partition, cluster] = count\n",
    "\n",
    "    # fill zero with smallest value\n",
    "    pij[np.where(pij==0)]=1e-7\n",
    "    \n",
    "    # calculate mi, H(T), H(C)\n",
    "    # pij * log(pij/ pci* ptj)\n",
    "    mi = np.sum(pij*np.log2(np.divide(pij ,np.dot(pci, ptj.T).T)))\n",
    "    HC = -np.sum(pci*np.log2(pci))\n",
    "    HT = -np.sum(ptj*np.log2(ptj))\n",
    "\n",
    "    nmi = mi/np.sqrt(HT[0] *HC[0])\n",
    "    \n",
    "    return nmi"
   ]
  },
  {
   "cell_type": "code",
   "execution_count": 210,
   "metadata": {},
   "outputs": [
    {
     "ename": "TypeError",
     "evalue": "return arrays must be of ArrayType",
     "output_type": "error",
     "traceback": [
      "\u001b[1;31m---------------------------------------------------------------------------\u001b[0m",
      "\u001b[1;31mTypeError\u001b[0m                                 Traceback (most recent call last)",
      "\u001b[1;32m<ipython-input-210-1c81dc2e246f>\u001b[0m in \u001b[0;36m<module>\u001b[1;34m()\u001b[0m\n\u001b[1;32m----> 1\u001b[1;33m \u001b[0mnmi\u001b[0m \u001b[1;33m=\u001b[0m\u001b[1;33m[\u001b[0m\u001b[0mcal_nmi\u001b[0m\u001b[1;33m(\u001b[0m\u001b[0mdata\u001b[0m\u001b[1;33m)\u001b[0m \u001b[1;32mfor\u001b[0m \u001b[0mdata\u001b[0m \u001b[1;32min\u001b[0m \u001b[0mdata_list\u001b[0m\u001b[1;33m]\u001b[0m\u001b[1;33m\u001b[0m\u001b[0m\n\u001b[0m",
      "\u001b[1;32m<ipython-input-210-1c81dc2e246f>\u001b[0m in \u001b[0;36m<listcomp>\u001b[1;34m(.0)\u001b[0m\n\u001b[1;32m----> 1\u001b[1;33m \u001b[0mnmi\u001b[0m \u001b[1;33m=\u001b[0m\u001b[1;33m[\u001b[0m\u001b[0mcal_nmi\u001b[0m\u001b[1;33m(\u001b[0m\u001b[0mdata\u001b[0m\u001b[1;33m)\u001b[0m \u001b[1;32mfor\u001b[0m \u001b[0mdata\u001b[0m \u001b[1;32min\u001b[0m \u001b[0mdata_list\u001b[0m\u001b[1;33m]\u001b[0m\u001b[1;33m\u001b[0m\u001b[0m\n\u001b[0m",
      "\u001b[1;32m<ipython-input-209-f472cf0c0dcf>\u001b[0m in \u001b[0;36mcal_nmi\u001b[1;34m(data)\u001b[0m\n\u001b[0;32m     33\u001b[0m     \u001b[0mHT\u001b[0m \u001b[1;33m=\u001b[0m \u001b[1;33m-\u001b[0m\u001b[0mnp\u001b[0m\u001b[1;33m.\u001b[0m\u001b[0msum\u001b[0m\u001b[1;33m(\u001b[0m\u001b[0mptj\u001b[0m\u001b[1;33m*\u001b[0m\u001b[0mnp\u001b[0m\u001b[1;33m.\u001b[0m\u001b[0mlog2\u001b[0m\u001b[1;33m(\u001b[0m\u001b[0mptj\u001b[0m\u001b[1;33m)\u001b[0m\u001b[1;33m)\u001b[0m\u001b[1;33m\u001b[0m\u001b[0m\n\u001b[0;32m     34\u001b[0m \u001b[1;33m\u001b[0m\u001b[0m\n\u001b[1;32m---> 35\u001b[1;33m     \u001b[0mnmi\u001b[0m \u001b[1;33m=\u001b[0m \u001b[0mmi\u001b[0m\u001b[1;33m/\u001b[0m\u001b[0mnp\u001b[0m\u001b[1;33m.\u001b[0m\u001b[0msqrt\u001b[0m\u001b[1;33m(\u001b[0m\u001b[0mHT\u001b[0m\u001b[1;33m[\u001b[0m\u001b[1;36m0\u001b[0m\u001b[1;33m]\u001b[0m\u001b[1;33m,\u001b[0m\u001b[0mHC\u001b[0m\u001b[1;33m[\u001b[0m\u001b[1;36m0\u001b[0m\u001b[1;33m]\u001b[0m\u001b[1;33m)\u001b[0m\u001b[1;33m\u001b[0m\u001b[0m\n\u001b[0m\u001b[0;32m     36\u001b[0m \u001b[1;33m\u001b[0m\u001b[0m\n\u001b[0;32m     37\u001b[0m     \u001b[1;32mreturn\u001b[0m \u001b[0mnmi\u001b[0m\u001b[1;33m\u001b[0m\u001b[0m\n",
      "\u001b[1;31mTypeError\u001b[0m: return arrays must be of ArrayType"
     ]
    }
   ],
   "source": [
    "nmi =[cal_nmi(data) for data in data_list]"
   ]
  },
  {
   "cell_type": "code",
   "execution_count": 208,
   "metadata": {},
   "outputs": [
    {
     "data": {
      "text/plain": [
       "0.6456368113477221"
      ]
     },
     "execution_count": 208,
     "metadata": {},
     "output_type": "execute_result"
    }
   ],
   "source": [
    "mi/np.sqrt(HT[0]*HC[0])"
   ]
  },
  {
   "cell_type": "markdown",
   "metadata": {},
   "source": [
    "## Save"
   ]
  },
  {
   "cell_type": "code",
   "execution_count": 205,
   "metadata": {},
   "outputs": [],
   "source": [
    "with open('socres.txt', 'w')as fp:\n",
    "    [fp.write(str(line)+ ' '+'0'+'\\n') for line in nmi]"
   ]
  }
 ],
 "metadata": {
  "kernelspec": {
   "display_name": "Python 3",
   "language": "python",
   "name": "python3"
  },
  "language_info": {
   "codemirror_mode": {
    "name": "ipython",
    "version": 3
   },
   "file_extension": ".py",
   "mimetype": "text/x-python",
   "name": "python",
   "nbconvert_exporter": "python",
   "pygments_lexer": "ipython3",
   "version": "3.6.4"
  }
 },
 "nbformat": 4,
 "nbformat_minor": 2
}
